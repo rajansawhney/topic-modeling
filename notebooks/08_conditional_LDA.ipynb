{
 "cells": [
  {
   "cell_type": "markdown",
   "metadata": {},
   "source": [
    "## 2-pass LDA"
   ]
  },
  {
   "cell_type": "code",
   "execution_count": 2,
   "metadata": {},
   "outputs": [],
   "source": [
    "import bz2\n",
    "from collections import defaultdict\n",
    "from datetime import datetime, timezone\n",
    "import json\n",
    "import logging\n",
    "import os\n",
    "import pickle\n",
    "import re\n",
    "import sys\n",
    "import time\n",
    "\n",
    "import numpy as np\n",
    "import pandas as pd\n",
    "\n",
    "# Gensim\n",
    "import gensim\n",
    "import gensim.corpora as corpora\n",
    "from gensim.utils import simple_preprocess\n",
    "from gensim.models import CoherenceModel, HdpModel, LdaModel, LdaMulticore, Phrases, TfidfModel\n",
    "from gensim.models.phrases import Phraser\n",
    "from gensim.models.wrappers import ldamallet\n",
    "\n",
    "# nltk\n",
    "import nltk\n",
    "# nltk.download('stopwords')\n",
    "# nltk.download('punkt')\n",
    "# nltk.download('wordnet')\n",
    "from nltk.corpus import stopwords\n",
    "from nltk.stem import WordNetLemmatizer\n",
    "from nltk.stem.porter import *\n",
    "from nltk.stem.snowball import SnowballStemmer\n",
    "\n",
    "# Plotting tools\n",
    "import pyLDAvis\n",
    "import pyLDAvis.gensim\n",
    "import matplotlib.pyplot as plt\n",
    "%matplotlib inline\n",
    "\n",
    "import warnings\n",
    "\n",
    "# Enable LDA viz\n",
    "pyLDAvis.enable_notebook()\n",
    "# Enable logging for gensim\n",
    "logging.basicConfig(format='%(asctime)s: %(levelname)s : %(message)s', level=logging.ERROR)\n",
    "warnings.filterwarnings(\"ignore\", category=DeprecationWarning)\n",
    "\n",
    "sys.path.append('../../../scripts-analytics/commonScripts/python/')"
   ]
  },
  {
   "cell_type": "code",
   "execution_count": 3,
   "metadata": {},
   "outputs": [],
   "source": [
    "HOME = os.environ['HOME']\n",
    "KEYS = f'{HOME}/config/db.json'\n",
    "ENV = 'dev'\n",
    "NOW = datetime.now(timezone.utc)\n",
    "TODAY = NOW.date()\n",
    "\n",
    "DATA_DIR = '../data'\n",
    "MODEL_DIR = '../model'\n",
    "SQL_DIR = '../sql'\n",
    "OUT_DIR = '../output'\n",
    "\n",
    "DEV = True"
   ]
  },
  {
   "cell_type": "code",
   "execution_count": 4,
   "metadata": {},
   "outputs": [
    {
     "data": {
      "text/plain": [
       "'2021-04-06'"
      ]
     },
     "execution_count": 4,
     "metadata": {},
     "output_type": "execute_result"
    }
   ],
   "source": [
    "if DEV:\n",
    "    RUN_DATE = '2021-04-06'\n",
    "else:\n",
    "    RUN_DATE = str(TODAY)\n",
    "RUN_DATE"
   ]
  },
  {
   "cell_type": "markdown",
   "metadata": {},
   "source": [
    "### Helper functions"
   ]
  },
  {
   "cell_type": "code",
   "execution_count": 5,
   "metadata": {},
   "outputs": [],
   "source": [
    "# Pickle a file and then compress it into a file with extension \n",
    "def compress_pickle(filepath, data):\n",
    "    with bz2.BZ2File(filepath + '.pbz2', 'w') as f: \n",
    "        pickle.dump(data, f)"
   ]
  },
  {
   "cell_type": "code",
   "execution_count": 6,
   "metadata": {},
   "outputs": [],
   "source": [
    "# Load any compressed pickle file\n",
    "def decompress_pickle(filepath):\n",
    "    data = bz2.BZ2File(filepath, 'rb')\n",
    "    data = pickle.load(data)\n",
    "    return data"
   ]
  },
  {
   "cell_type": "markdown",
   "metadata": {},
   "source": [
    "### Load data"
   ]
  },
  {
   "cell_type": "markdown",
   "metadata": {},
   "source": [
    "1. IT trends terms (dataframe)\n",
    "2. Clean comments (dataframe)\n",
    "3. Preprocessed comments - grouped by title (dataframe)\n",
    "4. Preprocessed comments with IT trends terms - grouped by title (dataframe)\n",
    "5. Topic terms and data (dictionary, keys: terms, data)  - on all data\n",
    "6. Topic terms and data (dictionary, keys: terms, data)  - on data with IT trends terms"
   ]
  },
  {
   "cell_type": "code",
   "execution_count": 9,
   "metadata": {},
   "outputs": [],
   "source": [
    "# clean comments\n",
    "comments_df = decompress_pickle(f'{DATA_DIR}/clean_data_{RUN_DATE}.pkl.pbz2')"
   ]
  },
  {
   "cell_type": "code",
   "execution_count": 10,
   "metadata": {},
   "outputs": [
    {
     "name": "stdout",
     "output_type": "stream",
     "text": [
      "(495894, 4)\n"
     ]
    },
    {
     "data": {
      "text/html": [
       "<div>\n",
       "<style scoped>\n",
       "    .dataframe tbody tr th:only-of-type {\n",
       "        vertical-align: middle;\n",
       "    }\n",
       "\n",
       "    .dataframe tbody tr th {\n",
       "        vertical-align: top;\n",
       "    }\n",
       "\n",
       "    .dataframe thead th {\n",
       "        text-align: right;\n",
       "    }\n",
       "</style>\n",
       "<table border=\"1\" class=\"dataframe\">\n",
       "  <thead>\n",
       "    <tr style=\"text-align: right;\">\n",
       "      <th></th>\n",
       "      <th>comment</th>\n",
       "      <th>title</th>\n",
       "      <th>subreddit</th>\n",
       "      <th>score</th>\n",
       "    </tr>\n",
       "  </thead>\n",
       "  <tbody>\n",
       "    <tr>\n",
       "      <th>0</th>\n",
       "      <td>bold assumption team capable throwing maintain...</td>\n",
       "      <td>building jenkins pipeline</td>\n",
       "      <td>devops</td>\n",
       "      <td>8</td>\n",
       "    </tr>\n",
       "    <tr>\n",
       "      <th>1</th>\n",
       "      <td>comparison sense jenkins actively developed ma...</td>\n",
       "      <td>building jenkins pipeline</td>\n",
       "      <td>devops</td>\n",
       "      <td>2</td>\n",
       "    </tr>\n",
       "    <tr>\n",
       "      <th>2</th>\n",
       "      <td>supports plugins recreate nightmare</td>\n",
       "      <td>building jenkins pipeline</td>\n",
       "      <td>devops</td>\n",
       "      <td>4</td>\n",
       "    </tr>\n",
       "    <tr>\n",
       "      <th>3</th>\n",
       "      <td>reading</td>\n",
       "      <td>building jenkins pipeline</td>\n",
       "      <td>devops</td>\n",
       "      <td>2</td>\n",
       "    </tr>\n",
       "    <tr>\n",
       "      <th>4</th>\n",
       "      <td>nailed progression upward forward interested l...</td>\n",
       "      <td>industries life devops</td>\n",
       "      <td>devops</td>\n",
       "      <td>2</td>\n",
       "    </tr>\n",
       "  </tbody>\n",
       "</table>\n",
       "</div>"
      ],
      "text/plain": [
       "                                             comment  \\\n",
       "0  bold assumption team capable throwing maintain...   \n",
       "1  comparison sense jenkins actively developed ma...   \n",
       "2                supports plugins recreate nightmare   \n",
       "3                                            reading   \n",
       "4  nailed progression upward forward interested l...   \n",
       "\n",
       "                       title subreddit  score  \n",
       "0  building jenkins pipeline    devops      8  \n",
       "1  building jenkins pipeline    devops      2  \n",
       "2  building jenkins pipeline    devops      4  \n",
       "3  building jenkins pipeline    devops      2  \n",
       "4     industries life devops    devops      2  "
      ]
     },
     "execution_count": 10,
     "metadata": {},
     "output_type": "execute_result"
    }
   ],
   "source": [
    "print(comments_df.shape)\n",
    "comments_df.head()"
   ]
  },
  {
   "cell_type": "code",
   "execution_count": 11,
   "metadata": {},
   "outputs": [
    {
     "name": "stdout",
     "output_type": "stream",
     "text": [
      "['building jenkins pipeline' 'industries life devops'\n",
      " 'starting kubernetes 101 livestream series youtube nov 18th' ...\n",
      " 'helpdesk visual dashboard display solution'\n",
      " 'companies pay cloud services pay subscription type'\n",
      " 'proper systemd service responsibility']\n"
     ]
    }
   ],
   "source": [
    "uniqe_titles = comments_df.title.unique()\n",
    "print(comments_df.title.unique())"
   ]
  },
  {
   "cell_type": "code",
   "execution_count": 12,
   "metadata": {},
   "outputs": [],
   "source": [
    "comments_df['comment_len'] = comments_df.comment.apply(len)"
   ]
  },
  {
   "cell_type": "code",
   "execution_count": 13,
   "metadata": {},
   "outputs": [
    {
     "data": {
      "image/png": "[encoded data removed]",
      "text/plain": [
       "<Figure size 432x288 with 1 Axes>"
      ]
     },
     "metadata": {
      "needs_background": "light"
     },
     "output_type": "display_data"
    }
   ],
   "source": [
    "plt.hist(comments_df.comment_len.values, bins = range(0, 1500, 50))\n",
    "plt.xlabel('Number of characters')\n",
    "plt.ylabel('Number of comments')\n",
    "plt.show()"
   ]
  },
  {
   "cell_type": "code",
   "execution_count": 14,
   "metadata": {},
   "outputs": [],
   "source": [
    "# clean and preprocessed data having IT trends terms - grouped by title\n",
    "data = decompress_pickle(f'{DATA_DIR}/grouped_titles_data_{RUN_DATE}.pkl.pbz2')"
   ]
  },
  {
   "cell_type": "code",
   "execution_count": 15,
   "metadata": {},
   "outputs": [
    {
     "name": "stdout",
     "output_type": "stream",
     "text": [
      "(31734, 4)\n"
     ]
    },
    {
     "data": {
      "text/html": [
       "<div>\n",
       "<style scoped>\n",
       "    .dataframe tbody tr th:only-of-type {\n",
       "        vertical-align: middle;\n",
       "    }\n",
       "\n",
       "    .dataframe tbody tr th {\n",
       "        vertical-align: top;\n",
       "    }\n",
       "\n",
       "    .dataframe thead th {\n",
       "        text-align: right;\n",
       "    }\n",
       "</style>\n",
       "<table border=\"1\" class=\"dataframe\">\n",
       "  <thead>\n",
       "    <tr style=\"text-align: right;\">\n",
       "      <th></th>\n",
       "      <th>title</th>\n",
       "      <th>text</th>\n",
       "      <th>tokens</th>\n",
       "      <th>stem_text</th>\n",
       "    </tr>\n",
       "  </thead>\n",
       "  <tbody>\n",
       "    <tr>\n",
       "      <th>0</th>\n",
       "      <td></td>\n",
       "      <td>prepare artifacts push kind repository deploy...</td>\n",
       "      <td>[prepare, artifacts, push, kind, repository, d...</td>\n",
       "      <td>[prepar, artifact, push, kind, repositori, dep...</td>\n",
       "    </tr>\n",
       "    <tr>\n",
       "      <th>1</th>\n",
       "      <td>00 google hold notifications card google subs</td>\n",
       "      <td>00 google hold notifications card google subs ...</td>\n",
       "      <td>[google, hold, notifications, card, google, su...</td>\n",
       "      <td>[googl, hold, notif, card, googl, sub, call, c...</td>\n",
       "    </tr>\n",
       "    <tr>\n",
       "      <th>2</th>\n",
       "      <td>0365 email accounts</td>\n",
       "      <td>0365 email accounts block powershell access ad...</td>\n",
       "      <td>[email, accounts, block, powershell, access, a...</td>\n",
       "      <td>[email, account, block, powershel, access, adm...</td>\n",
       "    </tr>\n",
       "    <tr>\n",
       "      <th>3</th>\n",
       "      <td>0365 roll critical account protection accounts...</td>\n",
       "      <td>0365 roll critical account protection accounts...</td>\n",
       "      <td>[roll, critical, account, protection, accounts...</td>\n",
       "      <td>[roll, critic, account, protect, account, high...</td>\n",
       "    </tr>\n",
       "    <tr>\n",
       "      <th>4</th>\n",
       "      <td>06 secret history windows zipfolders original ...</td>\n",
       "      <td>06 secret history windows zipfolders original ...</td>\n",
       "      <td>[secret, history, windows, zipfolders, origina...</td>\n",
       "      <td>[secret, histori, window, zipfold, origin, aut...</td>\n",
       "    </tr>\n",
       "  </tbody>\n",
       "</table>\n",
       "</div>"
      ],
      "text/plain": [
       "                                               title  \\\n",
       "0                                                      \n",
       "1      00 google hold notifications card google subs   \n",
       "2                                0365 email accounts   \n",
       "3  0365 roll critical account protection accounts...   \n",
       "4  06 secret history windows zipfolders original ...   \n",
       "\n",
       "                                                text  \\\n",
       "0   prepare artifacts push kind repository deploy...   \n",
       "1  00 google hold notifications card google subs ...   \n",
       "2  0365 email accounts block powershell access ad...   \n",
       "3  0365 roll critical account protection accounts...   \n",
       "4  06 secret history windows zipfolders original ...   \n",
       "\n",
       "                                              tokens  \\\n",
       "0  [prepare, artifacts, push, kind, repository, d...   \n",
       "1  [google, hold, notifications, card, google, su...   \n",
       "2  [email, accounts, block, powershell, access, a...   \n",
       "3  [roll, critical, account, protection, accounts...   \n",
       "4  [secret, history, windows, zipfolders, origina...   \n",
       "\n",
       "                                           stem_text  \n",
       "0  [prepar, artifact, push, kind, repositori, dep...  \n",
       "1  [googl, hold, notif, card, googl, sub, call, c...  \n",
       "2  [email, account, block, powershel, access, adm...  \n",
       "3  [roll, critic, account, protect, account, high...  \n",
       "4  [secret, histori, window, zipfold, origin, aut...  "
      ]
     },
     "execution_count": 15,
     "metadata": {},
     "output_type": "execute_result"
    }
   ],
   "source": [
    "print(data.shape)\n",
    "data.head()"
   ]
  },
  {
   "cell_type": "code",
   "execution_count": 16,
   "metadata": {},
   "outputs": [],
   "source": [
    "# clean and preprocessed data and terms for each topic (from 1st pass) - data with IT trends terms\n",
    "topic_terms_n_data = decompress_pickle(f'{DATA_DIR}/topic_terms_n_data_{RUN_DATE}.pkl.pbz2')"
   ]
  },
  {
   "cell_type": "code",
   "execution_count": 17,
   "metadata": {},
   "outputs": [
    {
     "name": "stdout",
     "output_type": "stream",
     "text": [
      "['password', 'email', 'account', 'mail', 'mfa', 'fa', 'authent', 'outlook', 'spam', 'phish', 'send', 'phone', 'address', 'spf', 'messag', 'gmail', 'login', 'sms', 'smtp', 'app']\n"
     ]
    }
   ],
   "source": [
    "print(topic_terms_n_data[0]['terms'])"
   ]
  },
  {
   "cell_type": "code",
   "execution_count": 18,
   "metadata": {},
   "outputs": [
    {
     "name": "stdout",
     "output_type": "stream",
     "text": [
      "(21550, 4)\n"
     ]
    },
    {
     "data": {
      "text/html": [
       "<div>\n",
       "<style scoped>\n",
       "    .dataframe tbody tr th:only-of-type {\n",
       "        vertical-align: middle;\n",
       "    }\n",
       "\n",
       "    .dataframe tbody tr th {\n",
       "        vertical-align: top;\n",
       "    }\n",
       "\n",
       "    .dataframe thead th {\n",
       "        text-align: right;\n",
       "    }\n",
       "</style>\n",
       "<table border=\"1\" class=\"dataframe\">\n",
       "  <thead>\n",
       "    <tr style=\"text-align: right;\">\n",
       "      <th></th>\n",
       "      <th>title</th>\n",
       "      <th>text</th>\n",
       "      <th>tokens</th>\n",
       "      <th>stem_text</th>\n",
       "    </tr>\n",
       "  </thead>\n",
       "  <tbody>\n",
       "    <tr>\n",
       "      <th>0</th>\n",
       "      <td></td>\n",
       "      <td>prepare artifacts push kind repository deploy...</td>\n",
       "      <td>[prepare, artifacts, push, kind, repository, d...</td>\n",
       "      <td>[prepar, artifact, push, kind, repositori, dep...</td>\n",
       "    </tr>\n",
       "    <tr>\n",
       "      <th>1</th>\n",
       "      <td>0365 email accounts</td>\n",
       "      <td>0365 email accounts block powershell access ad...</td>\n",
       "      <td>[email, accounts, block, powershell, access, a...</td>\n",
       "      <td>[email, account, block, powershel, access, adm...</td>\n",
       "    </tr>\n",
       "  </tbody>\n",
       "</table>\n",
       "</div>"
      ],
      "text/plain": [
       "                 title                                               text  \\\n",
       "0                        prepare artifacts push kind repository deploy...   \n",
       "1  0365 email accounts  0365 email accounts block powershell access ad...   \n",
       "\n",
       "                                              tokens  \\\n",
       "0  [prepare, artifacts, push, kind, repository, d...   \n",
       "1  [email, accounts, block, powershell, access, a...   \n",
       "\n",
       "                                           stem_text  \n",
       "0  [prepar, artifact, push, kind, repositori, dep...  \n",
       "1  [email, account, block, powershel, access, adm...  "
      ]
     },
     "execution_count": 18,
     "metadata": {},
     "output_type": "execute_result"
    }
   ],
   "source": [
    "print(topic_terms_n_data[0]['data'].shape)\n",
    "topic_terms_n_data[0]['data'].head(2)"
   ]
  },
  {
   "cell_type": "markdown",
   "metadata": {},
   "source": [
    "## Preprocessing\n",
    "\n",
    "Note: Loaded data has been preprocessed - this is just for reference"
   ]
  },
  {
   "cell_type": "markdown",
   "metadata": {},
   "source": [
    "### Tokenization\n"
   ]
  },
  {
   "cell_type": "markdown",
   "metadata": {},
   "source": [
    "Tokenization is the process of breaking complex data (like paragraphs) into simple units called __tokens__"
   ]
  },
  {
   "cell_type": "code",
   "execution_count": 20,
   "metadata": {},
   "outputs": [],
   "source": [
    "def tokenize(doc):\n",
    "    for sentence in doc:\n",
    "        yield(simple_preprocess(str(sentence), deacc=True)) # deacc=True removes punctuations"
   ]
  },
  {
   "cell_type": "markdown",
   "metadata": {},
   "source": [
    "### Remove stopwords"
   ]
  },
  {
   "cell_type": "code",
   "execution_count": 21,
   "metadata": {},
   "outputs": [],
   "source": [
    "# stop_words = stopwords.words('english')\n",
    "# len(stop_words)"
   ]
  },
  {
   "cell_type": "code",
   "execution_count": 22,
   "metadata": {},
   "outputs": [],
   "source": [
    "# gist_file = f'{DATA_DIR}/gist_stopwords.txt'\n",
    "# with open(gist_file, 'r') as f:\n",
    "#     stop_words_from_file = f.read().split(',')"
   ]
  },
  {
   "cell_type": "code",
   "execution_count": 23,
   "metadata": {},
   "outputs": [],
   "source": [
    "# stop_words.extend(stop_words_from_file)"
   ]
  },
  {
   "cell_type": "code",
   "execution_count": 24,
   "metadata": {},
   "outputs": [],
   "source": [
    "# len(stop_words)"
   ]
  },
  {
   "cell_type": "code",
   "execution_count": 25,
   "metadata": {},
   "outputs": [],
   "source": [
    "# def remove_stopwords(doc):\n",
    "#     return doc.apply(\n",
    "#         lambda sent: [word for word in sent if word not in stop_words])"
   ]
  },
  {
   "cell_type": "markdown",
   "metadata": {},
   "source": [
    "### Stemming\n",
    "- Stemming is a normalization technique where list of tokenized words are converted into shorter root words called stems (note: stems are not always the root word)\n",
    "- Drop last letter or prefix or suffix - may not produce meaningful words\n",
    "- Stemming may reduce the accuracy of the model"
   ]
  },
  {
   "cell_type": "code",
   "execution_count": 26,
   "metadata": {},
   "outputs": [],
   "source": [
    "def stemming(doc, stemmer_type):\n",
    "    if stemmer_type=='port':\n",
    "        stemmer = PorterStemmer()\n",
    "    elif stemmer_type=='snow':\n",
    "        stemmer = SnowballStemmer('english')\n",
    "    stemmed_text = doc.apply(\n",
    "            lambda sent: [stemmer.stem(word) for word in sent])\n",
    "    return stemmed_text"
   ]
  },
  {
   "cell_type": "markdown",
   "metadata": {},
   "source": [
    "### Lemmatization\n",
    "- Lemmatization is the morphological analysis of the words - returning meaningful words\n",
    "- Requires more disk space and processing time\n",
    "- Leads to higher model accuaracy\n",
    "- Root word is called __lemma__"
   ]
  },
  {
   "cell_type": "code",
   "execution_count": 27,
   "metadata": {},
   "outputs": [],
   "source": [
    "# lemmatizer = WordNetLemmatizer()\n",
    "# def lemmatization(doc):\n",
    "#     return doc.apply(\n",
    "#         lambda sent: [lemmatizer.lemmatize(word) for word in sent])"
   ]
  },
  {
   "cell_type": "code",
   "execution_count": 28,
   "metadata": {},
   "outputs": [],
   "source": [
    "def preprocess(data):\n",
    "    # Tokenize\n",
    "    tokenized_text = list(tokenize(data.text))\n",
    "    data['tokens'] = tokenized_text\n",
    "    # # Remove stopwords\n",
    "    # nostops_text = remove_stopwords(data.tokens)\n",
    "    # # print('\\nWithout stopwords:\\n', nostops_text[1]) \n",
    "    # data['tokens'] = nostops_text # replace with clean tokenized\n",
    "    print('\\nTokenized:\\n', data.tokens[1])\n",
    "    # Snowball stemmer\n",
    "    stemmed_text = stemming(data.tokens, 'snow')\n",
    "    data['stem_text'] = stemmed_text\n",
    "    print('\\nStemmed:\\n', stemmed_text[1])\n",
    "    return data"
   ]
  },
  {
   "cell_type": "code",
   "execution_count": 30,
   "metadata": {},
   "outputs": [
    {
     "name": "stdout",
     "output_type": "stream",
     "text": [
      "\n",
      "Tokenized:\n",
      " ['google', 'hold', 'notifications', 'card', 'google', 'subs', 'called', 'citibank', 'safe', 'wait', 'alerts', 'suspicious', 'plenty', 'dispute', 'cancel', 'card', 'charges', 'today', 'odd', 'credit', 'card', 'remember', 'straight', 'update', 'card', 'details', 'domain', 'registrars', 'report', 'card', 'lost', 'stolen', 'assume', 'compromised', 'testing', 'card']\n",
      "\n",
      "Stemmed:\n",
      " ['googl', 'hold', 'notif', 'card', 'googl', 'sub', 'call', 'citibank', 'safe', 'wait', 'alert', 'suspici', 'plenti', 'disput', 'cancel', 'card', 'charg', 'today', 'odd', 'credit', 'card', 'rememb', 'straight', 'updat', 'card', 'detail', 'domain', 'registrar', 'report', 'card', 'lost', 'stolen', 'assum', 'compromis', 'test', 'card']\n"
     ]
    }
   ],
   "source": [
    "# # already done\n",
    "# # combine all comments under the same title - prepend title\n",
    "\n",
    "comments_grouped_by_title = comments_df.groupby(['title'])\n",
    "titles = list(comments_grouped_by_title.groups.keys())\n",
    "title_comments = [\n",
    "    f'{title} {\" \".join(comments_grouped_by_title.get_group(title).comment)}'\n",
    "    for title in titles]\n",
    "data = pd.DataFrame({\n",
    "    'title': titles,\n",
    "    'text': title_comments})\n",
    "data = preprocess(data)"
   ]
  },
  {
   "cell_type": "code",
   "execution_count": 31,
   "metadata": {},
   "outputs": [
    {
     "data": {
      "text/html": [
       "<div>\n",
       "<style scoped>\n",
       "    .dataframe tbody tr th:only-of-type {\n",
       "        vertical-align: middle;\n",
       "    }\n",
       "\n",
       "    .dataframe tbody tr th {\n",
       "        vertical-align: top;\n",
       "    }\n",
       "\n",
       "    .dataframe thead th {\n",
       "        text-align: right;\n",
       "    }\n",
       "</style>\n",
       "<table border=\"1\" class=\"dataframe\">\n",
       "  <thead>\n",
       "    <tr style=\"text-align: right;\">\n",
       "      <th></th>\n",
       "      <th>title</th>\n",
       "      <th>text</th>\n",
       "      <th>tokens</th>\n",
       "      <th>stem_text</th>\n",
       "    </tr>\n",
       "  </thead>\n",
       "  <tbody>\n",
       "    <tr>\n",
       "      <th>0</th>\n",
       "      <td></td>\n",
       "      <td>prepare artifacts push kind repository deploy...</td>\n",
       "      <td>[prepare, artifacts, push, kind, repository, d...</td>\n",
       "      <td>[prepar, artifact, push, kind, repositori, dep...</td>\n",
       "    </tr>\n",
       "    <tr>\n",
       "      <th>1</th>\n",
       "      <td>00 google hold notifications card google subs</td>\n",
       "      <td>00 google hold notifications card google subs ...</td>\n",
       "      <td>[google, hold, notifications, card, google, su...</td>\n",
       "      <td>[googl, hold, notif, card, googl, sub, call, c...</td>\n",
       "    </tr>\n",
       "    <tr>\n",
       "      <th>2</th>\n",
       "      <td>0365 email accounts</td>\n",
       "      <td>0365 email accounts block powershell access ad...</td>\n",
       "      <td>[email, accounts, block, powershell, access, a...</td>\n",
       "      <td>[email, account, block, powershel, access, adm...</td>\n",
       "    </tr>\n",
       "    <tr>\n",
       "      <th>3</th>\n",
       "      <td>0365 roll critical account protection accounts...</td>\n",
       "      <td>0365 roll critical account protection accounts...</td>\n",
       "      <td>[roll, critical, account, protection, accounts...</td>\n",
       "      <td>[roll, critic, account, protect, account, high...</td>\n",
       "    </tr>\n",
       "    <tr>\n",
       "      <th>4</th>\n",
       "      <td>06 secret history windows zipfolders original ...</td>\n",
       "      <td>06 secret history windows zipfolders original ...</td>\n",
       "      <td>[secret, history, windows, zipfolders, origina...</td>\n",
       "      <td>[secret, histori, window, zipfold, origin, aut...</td>\n",
       "    </tr>\n",
       "  </tbody>\n",
       "</table>\n",
       "</div>"
      ],
      "text/plain": [
       "                                               title  \\\n",
       "0                                                      \n",
       "1      00 google hold notifications card google subs   \n",
       "2                                0365 email accounts   \n",
       "3  0365 roll critical account protection accounts...   \n",
       "4  06 secret history windows zipfolders original ...   \n",
       "\n",
       "                                                text  \\\n",
       "0   prepare artifacts push kind repository deploy...   \n",
       "1  00 google hold notifications card google subs ...   \n",
       "2  0365 email accounts block powershell access ad...   \n",
       "3  0365 roll critical account protection accounts...   \n",
       "4  06 secret history windows zipfolders original ...   \n",
       "\n",
       "                                              tokens  \\\n",
       "0  [prepare, artifacts, push, kind, repository, d...   \n",
       "1  [google, hold, notifications, card, google, su...   \n",
       "2  [email, accounts, block, powershell, access, a...   \n",
       "3  [roll, critical, account, protection, accounts...   \n",
       "4  [secret, history, windows, zipfolders, origina...   \n",
       "\n",
       "                                           stem_text  \n",
       "0  [prepar, artifact, push, kind, repositori, dep...  \n",
       "1  [googl, hold, notif, card, googl, sub, call, c...  \n",
       "2  [email, account, block, powershel, access, adm...  \n",
       "3  [roll, critic, account, protect, account, high...  \n",
       "4  [secret, histori, window, zipfold, origin, aut...  "
      ]
     },
     "execution_count": 31,
     "metadata": {},
     "output_type": "execute_result"
    }
   ],
   "source": [
    "data.head()"
   ]
  },
  {
   "cell_type": "code",
   "execution_count": 32,
   "metadata": {},
   "outputs": [],
   "source": [
    "# compress_pickle(f'{DATA_DIR}/grouped_titles_data_{RUN_DATE}.pkl', data)"
   ]
  },
  {
   "cell_type": "code",
   "execution_count": 33,
   "metadata": {},
   "outputs": [
    {
     "data": {
      "image/png": "[encoded data removed]",
      "text/plain": [
       "<Figure size 432x288 with 1 Axes>"
      ]
     },
     "metadata": {
      "needs_background": "light"
     },
     "output_type": "display_data"
    }
   ],
   "source": [
    "plt.hist(data.text.apply(len).values, bins = range(0, 5000, 50))\n",
    "plt.xlabel('Number of characters')\n",
    "plt.ylabel('Number of docs')\n",
    "plt.show()"
   ]
  },
  {
   "cell_type": "markdown",
   "metadata": {},
   "source": [
    "### Create dictionary, corpus and vectorized corpus needed for topic modeling"
   ]
  },
  {
   "cell_type": "code",
   "execution_count": 34,
   "metadata": {},
   "outputs": [],
   "source": [
    "# Create dictionary representation of the documents\n",
    "def build_corpus(doc, filter_extremes=True):\n",
    "    doc_dict = corpora.Dictionary(doc)\n",
    "    if filter_extremes:\n",
    "        # Filter out words that occur in less than 20% documents, and above 50% documents\n",
    "        doc_dict.filter_extremes(no_below=20, no_above=0.5)\n",
    "    # Bag of words\n",
    "    corpus = [doc_dict.doc2bow(text) for text in doc]\n",
    "    # Compute TF-IDF score for each word in BoW (stemmed corpus)\n",
    "    tfidf_mod = TfidfModel(corpus, normalize=True)\n",
    "    vec_corpus = tfidf_mod[corpus]\n",
    "    return doc_dict, corpus, vec_corpus, tfidf_mod"
   ]
  },
  {
   "cell_type": "code",
   "execution_count": 35,
   "metadata": {},
   "outputs": [],
   "source": [
    "# Build stem corpus\n",
    "(dict_stem,\n",
    " corpus_stem,\n",
    " vec_corpus_stem,\n",
    " tfid_stem_mod) = build_corpus(data.stem_text)"
   ]
  },
  {
   "cell_type": "code",
   "execution_count": 36,
   "metadata": {},
   "outputs": [
    {
     "data": {
      "text/plain": [
       "'add'"
      ]
     },
     "execution_count": 36,
     "metadata": {},
     "output_type": "execute_result"
    }
   ],
   "source": [
    "dict_stem[42]"
   ]
  },
  {
   "cell_type": "markdown",
   "metadata": {},
   "source": [
    "## Topic Modeling"
   ]
  },
  {
   "cell_type": "markdown",
   "metadata": {},
   "source": [
    "### Building the topic model"
   ]
  },
  {
   "cell_type": "code",
   "execution_count": 37,
   "metadata": {},
   "outputs": [],
   "source": [
    "# Set training parameters.\n",
    "num_topics = 7, # no. of subreddits\n",
    "chunksize = 500\n",
    "passes = 10\n",
    "iterations = 500\n",
    "eval_every = None # None - don't evaluate model perplexity, takes too much time.\n",
    "workers = 6\n",
    "\n",
    "# alpha and eta - affect sparsity of topics - defaults to 1.0/num_topics\n",
    "# chunksize - control how many documents are processed at a time in training\n",
    "# update_every - determined how often the parameters should be updated\n",
    "# passes - total number of training passes\n",
    "# iteration - control how often a particular loop is repeated over each document \n",
    "# eval_every - evaluate no. of passes and iterations\n",
    "# workers - number of workers processes to be used for parallelization. \n",
    "#         - If None all available cores (as estimated by workers=cpu_count()-1 will be used\n",
    "\n",
    "# Note - set passes and iterations high"
   ]
  },
  {
   "cell_type": "code",
   "execution_count": 38,
   "metadata": {},
   "outputs": [],
   "source": [
    "# Print the keywords in the topics\n",
    "def print_topics(model):\n",
    "    for topic_num, words_in_topic in model.print_topics(-1):\n",
    "        print(f'Topic {topic_num+1}:  Words: {words_in_topic}')"
   ]
  },
  {
   "cell_type": "code",
   "execution_count": 39,
   "metadata": {},
   "outputs": [],
   "source": [
    "def print_coherence_score(model, corpus, dictionary, texts):\n",
    "    # Compute Perplexity - lemmatized\n",
    "    print(f'\\n- Perplexity: {model.log_perplexity(corpus):.4f}')  # a measure of how good the model is. lower the better.\n",
    "    # Compute Coherence Score using lemmatized comments\n",
    "    coherence = CoherenceModel(\n",
    "        model=model, texts=texts, dictionary=dictionary, coherence='c_v').get_coherence()\n",
    "    print(f'- Coherence Score: {coherence:.4f}')"
   ]
  },
  {
   "cell_type": "code",
   "execution_count": 40,
   "metadata": {},
   "outputs": [],
   "source": [
    "# corpus - bow/tfidf dictionary of stemmed words\n",
    "\n",
    "def build_lda(\n",
    "    corpus, dictionary, corpus_type, num_topics, texts, chunksize=500, \n",
    "    passes=10, iterations=500, eval_every=None, workers=6):\n",
    "    start = time.time()\n",
    "    print(f'Building LDA model using {corpus_type} corpus'\n",
    "          f' for {num_topics} topics...')\n",
    "    mod = LdaMulticore(corpus=corpus,\n",
    "                       id2word=dictionary,\n",
    "                       num_topics=num_topics,\n",
    "                       chunksize=chunksize,\n",
    "                       passes=passes,\n",
    "                       iterations=iterations,\n",
    "                       workers=workers,\n",
    "                       eval_every=eval_every)\n",
    "    print(f' - {time.time()-start:.4f}s\\n')\n",
    "    print_topics(mod)\n",
    "    print_coherence_score(mod, corpus, dictionary, texts)\n",
    "    return mod"
   ]
  },
  {
   "cell_type": "markdown",
   "metadata": {},
   "source": [
    "### 7 topics LDA - pass 1 - all data"
   ]
  },
  {
   "cell_type": "code",
   "execution_count": null,
   "metadata": {},
   "outputs": [
    {
     "name": "stdout",
     "output_type": "stream",
     "text": [
      "Building LDA model using tfidf-stem corpus for 7 topics...\n"
     ]
    }
   ],
   "source": [
    "# 7 topic tfidf-stem corpus\n",
    "lda_tfidf_stem_7top_mod = build_lda(\n",
    "    corpus=vec_corpus_stem,\n",
    "    dictionary=dict_stem,\n",
    "    corpus_type='tfidf-stem',\n",
    "    texts=data.stem_text,\n",
    "    num_topics=7)"
   ]
  },
  {
   "cell_type": "code",
   "execution_count": null,
   "metadata": {},
   "outputs": [],
   "source": [
    "# # Save model\n",
    "# compress_pickle(f'{MODEL_DIR}/lda_tfidf_stem_7top_mod_{RUN_DATE}.pkl', lda_tfidf_stem_7top_mod)"
   ]
  },
  {
   "cell_type": "code",
   "execution_count": null,
   "metadata": {},
   "outputs": [],
   "source": [
    "# # # Load model\n",
    "# lda_tfidf_stem_7top_mod = decompress_pickle(f'{MODEL_DIR}/lda_tfidf_stem_7top_mod_{RUN_DATE}.pkl.pbz2')"
   ]
  },
  {
   "cell_type": "code",
   "execution_count": null,
   "metadata": {},
   "outputs": [],
   "source": [
    "viz = pyLDAvis.gensim.prepare(lda_tfidf_stem_7top_mod, vec_corpus_stem, dict_stem)\n",
    "viz"
   ]
  },
  {
   "cell_type": "code",
   "execution_count": null,
   "metadata": {},
   "outputs": [],
   "source": [
    "# # to get topic terms and data only including topic terms - already done\n",
    "\n",
    "def get_topic_terms_n_data(df, mod, num_topics, num_terms=20):      \n",
    "    topic_terms_n_data = defaultdict(dict)\n",
    "    for topic_id in range(num_topics):\n",
    "        print('\\n**\\nTopic-id:', topic_id)\n",
    "        # get topic terms\n",
    "        topic_terms = [\n",
    "            word for word, prob in mod.show_topic(topic_id, num_terms)]\n",
    "        topic_terms_n_data[topic_id]['terms'] = topic_terms\n",
    "        print('\\nTop terms: ', topic_terms_n_data[topic_id]['terms'])\n",
    "        # get topic comments using topic_terms\n",
    "        mask = df.comment.apply(lambda x: any(term for term in topic_terms if term in x))\n",
    "        topic_df = df[mask]\n",
    "        # combine all topic comments under the same title - prepend title\n",
    "        topic_df_grouped = topic_df.groupby(['title'])\n",
    "        topic_titles = list(topic_df_grouped.groups.keys())\n",
    "        title_comments = [\n",
    "            f'{title} {\" \".join(topic_df_grouped.get_group(title).comment)}'\n",
    "            for title in topic_titles]\n",
    "        topic_data = pd.DataFrame({\n",
    "            'title': topic_titles,\n",
    "            'text': title_comments})\n",
    "        # preprocess comments\n",
    "        topic_data = preprocess(topic_data)\n",
    "        topic_terms_n_data[topic_id]['data'] = topic_data\n",
    "    return topic_terms_n_data"
   ]
  },
  {
   "cell_type": "code",
   "execution_count": null,
   "metadata": {},
   "outputs": [],
   "source": [
    "# Perfrom LDA on topic data\n",
    "sub_lda_corpus_n_mod_dict = {}\n",
    "def build_sub_lda(topic_terms_n_data, num_top_topics, num_sub_topics, corpus_type):\n",
    "    for topic_id in range(num_top_topics):\n",
    "        print('\\n**\\nTop-level topic-id:', topic_id)\n",
    "        print('\\nTop terms: ', topic_terms_n_data[topic_id]['terms'])\n",
    "        topic_text = topic_terms_n_data[topic_id]['data'].stem_text\n",
    "        (topic_dict, corpus, \n",
    "         vec_corpus, tfid_mod) = build_corpus(topic_text, True)\n",
    "        sub_lda_corpus_n_mod_dict[topic_id] = {\n",
    "            'topic_dict': topic_dict,\n",
    "            'corpus': corpus,\n",
    "            'vec_corpus': vec_corpus,\n",
    "            'texts': topic_text}\n",
    "        if corpus_type=='tfidf-stem':\n",
    "            sub_lda_corpus=vec_corpus\n",
    "        elif corpus_type=='bow-stem':\n",
    "            sub_lda_corpus=corpus\n",
    "        print(f'\\nCreating {num_sub_topics} topics...')\n",
    "        sub_lda_corpus_n_mod_dict[topic_id]['mod'] = build_lda(\n",
    "            corpus=sub_lda_corpus,\n",
    "            dictionary=topic_dict,\n",
    "            corpus_type=corpus_type,\n",
    "            texts=topic_text,\n",
    "            num_topics=num_sub_topics)\n",
    "    return sub_lda_corpus_n_mod_dict"
   ]
  },
  {
   "cell_type": "code",
   "execution_count": null,
   "metadata": {},
   "outputs": [],
   "source": [
    "topic_terms_n_data = get_topic_terms_n_data(comments_df, lda_tfidf_stem_7top_mod, 7, 20)"
   ]
  },
  {
   "cell_type": "code",
   "execution_count": 153,
   "metadata": {},
   "outputs": [],
   "source": [
    "# compress_pickle(f'{DATA_DIR}/topic_terms_n_data_{RUN_DATE}.pkl', topic_terms_n_data)"
   ]
  },
  {
   "cell_type": "code",
   "execution_count": null,
   "metadata": {},
   "outputs": [],
   "source": []
  },
  {
   "cell_type": "code",
   "execution_count": null,
   "metadata": {},
   "outputs": [],
   "source": [
    "topic_terms_n_data[0]['data'][:2]"
   ]
  },
  {
   "cell_type": "code",
   "execution_count": null,
   "metadata": {},
   "outputs": [],
   "source": [
    "topic_terms_n_data[0]['data'].shape"
   ]
  },
  {
   "cell_type": "code",
   "execution_count": null,
   "metadata": {},
   "outputs": [],
   "source": [
    "print(topic_terms_n_data[0]['terms']) # security"
   ]
  },
  {
   "cell_type": "code",
   "execution_count": null,
   "metadata": {},
   "outputs": [],
   "source": [
    "print(topic_terms_n_data[1]['terms']) # job & company  "
   ]
  },
  {
   "cell_type": "code",
   "execution_count": null,
   "metadata": {},
   "outputs": [],
   "source": [
    "print(topic_terms_n_data[2]['terms']) # networking"
   ]
  },
  {
   "cell_type": "code",
   "execution_count": null,
   "metadata": {},
   "outputs": [],
   "source": [
    "print(topic_terms_n_data[3]['terms']) # programming"
   ]
  },
  {
   "cell_type": "code",
   "execution_count": null,
   "metadata": {},
   "outputs": [],
   "source": [
    "print(topic_terms_n_data[4]['terms']) # misc."
   ]
  },
  {
   "cell_type": "code",
   "execution_count": null,
   "metadata": {},
   "outputs": [],
   "source": [
    "print(topic_terms_n_data[5]['terms']) # sysadmin"
   ]
  },
  {
   "cell_type": "code",
   "execution_count": null,
   "metadata": {},
   "outputs": [],
   "source": [
    "print(topic_terms_n_data[6]['terms']) # ML"
   ]
  },
  {
   "cell_type": "code",
   "execution_count": 61,
   "metadata": {},
   "outputs": [],
   "source": [
    "# # # # replace topic you think is not relevant with the last topic\n",
    "# bad_topic_terms_n_data1 = topic_terms_n_data[4] \n",
    "# topic_terms_n_data[4] = topic_terms_n_data[6]"
   ]
  },
  {
   "cell_type": "code",
   "execution_count": 201,
   "metadata": {},
   "outputs": [],
   "source": [
    "# print('irrelevant topic:', bad_topic_terms_n_data1['terms'])\n",
    "# print('replaced by:', topic_terms_n_data[4]['terms'])"
   ]
  },
  {
   "cell_type": "code",
   "execution_count": 85,
   "metadata": {},
   "outputs": [],
   "source": [
    "# bad_topic_terms_n_data2 = topic_terms_n_data[1]\n",
    "# topic_terms_n_data[1] = topic_terms_n_data[5]"
   ]
  },
  {
   "cell_type": "code",
   "execution_count": 193,
   "metadata": {},
   "outputs": [],
   "source": [
    "# print('irrelevant topic:', bad_topic_terms_n_data2['terms'])\n",
    "# print('replaced by:', topic_terms_n_data[5]['terms'])"
   ]
  },
  {
   "cell_type": "markdown",
   "metadata": {},
   "source": [
    "### 7 topic LDA - pass2 - all data"
   ]
  },
  {
   "cell_type": "code",
   "execution_count": null,
   "metadata": {},
   "outputs": [],
   "source": [
    "sub_lda_tfidf_stem_7top_7sub_dict = build_sub_lda(\n",
    "    topic_terms_n_data, \n",
    "    7, # num top topics \n",
    "    7, # num sub topics\n",
    "    'tfidf-stem') # corpus type"
   ]
  },
  {
   "cell_type": "code",
   "execution_count": 164,
   "metadata": {},
   "outputs": [],
   "source": [
    "# Save 2nd pass LDA results\n",
    "# compress_pickle(f'{MODEL_DIR}/sub_lda_tfidf_stem_7top_7sub_dict_{RUN_DATE}.pkl', sub_lda_tfidf_stem_7top_7sub_dict)"
   ]
  },
  {
   "cell_type": "code",
   "execution_count": null,
   "metadata": {},
   "outputs": [],
   "source": [
    "# # # Load 2nd pass LDA results\n",
    "# sub_lda_tfidf_stem_7top_7sub_dict = decompress_pickle(\n",
    "#     f'{MODEL_DIR}/sub_lda_tfidf_stem_7top_7sub_dict_{RUN_DATE}.pkl.pbz2')"
   ]
  },
  {
   "cell_type": "code",
   "execution_count": null,
   "metadata": {},
   "outputs": [],
   "source": [
    "print(topic_terms_n_data[0]['terms'])"
   ]
  },
  {
   "cell_type": "code",
   "execution_count": null,
   "metadata": {},
   "outputs": [],
   "source": [
    "viz = pyLDAvis.gensim.prepare(\n",
    "    sub_lda_tfidf_stem_7top_7sub_dict[0]['mod'], \n",
    "    sub_lda_tfidf_stem_7top_7sub_dict[0]['vec_corpus'],\n",
    "    sub_lda_tfidf_stem_7top_7sub_dict[0]['topic_dict'])\n",
    "viz"
   ]
  },
  {
   "cell_type": "code",
   "execution_count": null,
   "metadata": {},
   "outputs": [],
   "source": []
  },
  {
   "cell_type": "code",
   "execution_count": null,
   "metadata": {},
   "outputs": [],
   "source": [
    "print(topic_terms_n_data[1]['terms'])"
   ]
  },
  {
   "cell_type": "code",
   "execution_count": null,
   "metadata": {},
   "outputs": [],
   "source": [
    "viz = pyLDAvis.gensim.prepare(\n",
    "    sub_lda_tfidf_stem_7top_7sub_dict[1]['mod'], \n",
    "    sub_lda_tfidf_stem_7top_7sub_dict[1]['vec_corpus'],\n",
    "    sub_lda_tfidf_stem_7top_7sub_dict[1]['topic_dict'])\n",
    "viz"
   ]
  },
  {
   "cell_type": "code",
   "execution_count": null,
   "metadata": {},
   "outputs": [],
   "source": []
  },
  {
   "cell_type": "code",
   "execution_count": null,
   "metadata": {},
   "outputs": [],
   "source": [
    "print(topic_terms_n_data[2]['terms'])"
   ]
  },
  {
   "cell_type": "code",
   "execution_count": null,
   "metadata": {},
   "outputs": [],
   "source": [
    "viz = pyLDAvis.gensim.prepare(\n",
    "    sub_lda_tfidf_stem_7top_7sub_dict[2]['mod'], \n",
    "    sub_lda_tfidf_stem_7top_7sub_dict[2]['vec_corpus'],\n",
    "    sub_lda_tfidf_stem_7top_7sub_dict[2]['topic_dict'])\n",
    "viz"
   ]
  },
  {
   "cell_type": "code",
   "execution_count": null,
   "metadata": {},
   "outputs": [],
   "source": []
  },
  {
   "cell_type": "code",
   "execution_count": null,
   "metadata": {},
   "outputs": [],
   "source": [
    "print(topic_terms_n_data[3]['terms'])"
   ]
  },
  {
   "cell_type": "code",
   "execution_count": null,
   "metadata": {},
   "outputs": [],
   "source": [
    "viz = pyLDAvis.gensim.prepare(\n",
    "    sub_lda_tfidf_stem_7top_7sub_dict[3]['mod'], \n",
    "    sub_lda_tfidf_stem_7top_7sub_dict[3]['vec_corpus'],\n",
    "    sub_lda_tfidf_stem_7top_7sub_dict[3]['topic_dict'])\n",
    "viz"
   ]
  },
  {
   "cell_type": "code",
   "execution_count": null,
   "metadata": {},
   "outputs": [],
   "source": []
  },
  {
   "cell_type": "code",
   "execution_count": null,
   "metadata": {},
   "outputs": [],
   "source": [
    "print(topic_terms_n_data[4]['terms'])"
   ]
  },
  {
   "cell_type": "code",
   "execution_count": null,
   "metadata": {},
   "outputs": [],
   "source": [
    "viz = pyLDAvis.gensim.prepare(\n",
    "    sub_lda_tfidf_stem_7top_7sub_dict[4]['mod'], \n",
    "    sub_lda_tfidf_stem_7top_7sub_dict[4]['vec_corpus'],\n",
    "    sub_lda_tfidf_stem_7top_7sub_dict[4]['topic_dict'])\n",
    "viz"
   ]
  },
  {
   "cell_type": "code",
   "execution_count": null,
   "metadata": {},
   "outputs": [],
   "source": []
  },
  {
   "cell_type": "code",
   "execution_count": null,
   "metadata": {},
   "outputs": [],
   "source": [
    "print(topic_terms_n_data[5]['terms'])"
   ]
  },
  {
   "cell_type": "code",
   "execution_count": null,
   "metadata": {},
   "outputs": [],
   "source": [
    "viz = pyLDAvis.gensim.prepare(\n",
    "    sub_lda_tfidf_stem_7top_7sub_dict[5]['mod'], \n",
    "    sub_lda_tfidf_stem_7top_7sub_dict[5]['vec_corpus'],\n",
    "    sub_lda_tfidf_stem_7top_7sub_dict[5]['topic_dict'])\n",
    "viz"
   ]
  },
  {
   "cell_type": "code",
   "execution_count": null,
   "metadata": {},
   "outputs": [],
   "source": []
  },
  {
   "cell_type": "markdown",
   "metadata": {},
   "source": [
    "____"
   ]
  },
  {
   "cell_type": "markdown",
   "metadata": {},
   "source": [
    "### 7 topics LDA - pass 1 - data having IT trends terms"
   ]
  },
  {
   "cell_type": "code",
   "execution_count": 177,
   "metadata": {},
   "outputs": [
    {
     "name": "stdout",
     "output_type": "stream",
     "text": [
      "\n",
      "Tokenized:\n",
      " ['google', 'hold', 'notifications', 'card', 'google', 'subs', 'called', 'citibank', 'safe', 'wait', 'alerts', 'suspicious', 'plenty', 'dispute', 'cancel', 'card', 'charges', 'today', 'odd', 'credit', 'card', 'remember', 'straight', 'update', 'card', 'details', 'domain', 'registrars', 'report', 'card', 'lost', 'stolen', 'assume', 'compromised', 'testing', 'card']\n",
      "\n",
      "Stemmed:\n",
      " ['googl', 'hold', 'notif', 'card', 'googl', 'sub', 'call', 'citibank', 'safe', 'wait', 'alert', 'suspici', 'plenti', 'disput', 'cancel', 'card', 'charg', 'today', 'odd', 'credit', 'card', 'rememb', 'straight', 'updat', 'card', 'detail', 'domain', 'registrar', 'report', 'card', 'lost', 'stolen', 'assum', 'compromis', 'test', 'card']\n"
     ]
    }
   ],
   "source": [
    "# to select data having IT Trends terms\n",
    "\n",
    "# get comments using ittrends terms\n",
    "mask = comments_df.comment.apply(lambda x: any(term for term in it_trends_df.term if term in x))\n",
    "data_w_terms_df = comments_df[mask]\n",
    "# combine all comments under the same title - prepend title\n",
    "data_w_terms_df_grouped = data_w_terms_df.groupby(['title'])\n",
    "term_titles = list(data_w_terms_df_grouped.groups.keys())\n",
    "title_comments = [\n",
    "    f'{title} {\" \".join(data_w_terms_df_grouped.get_group(title).comment)}'\n",
    "    for title in term_titles] \n",
    "term_data = pd.DataFrame({\n",
    "    'title': term_titles,\n",
    "    'text': title_comments})\n",
    "# preprocess comments\n",
    "term_data = preprocess(term_data)\n",
    "\n",
    "compress_pickle(f'{DATA_DIR}/grouped_comments_ittrends_{RUN_DATE}.pkl', term_data)"
   ]
  },
  {
   "cell_type": "code",
   "execution_count": 178,
   "metadata": {},
   "outputs": [],
   "source": [
    "(term_dict_stem, \n",
    " term_corpus_stem,\n",
    " term_vec_corpus_stem,\n",
    " term_tfid_stem_mod) = build_corpus(term_data.stem_text)"
   ]
  },
  {
   "cell_type": "code",
   "execution_count": 179,
   "metadata": {},
   "outputs": [
    {
     "name": "stdout",
     "output_type": "stream",
     "text": [
      "Building LDA model using tfidf-stem corpus for 7 topics...\n",
      " - 311.3487s\n",
      "\n",
      "Topic 1:  Words: 0.010*\"cento\" + 0.008*\"xss\" + 0.005*\"rhel\" + 0.005*\"hive\" + 0.004*\"jupyt\" + 0.004*\"ipynb\" + 0.004*\"minecraft\" + 0.004*\"owasp\" + 0.004*\"flask\" + 0.004*\"vba\"\n",
      "Topic 2:  Words: 0.039*\"password\" + 0.028*\"email\" + 0.015*\"account\" + 0.010*\"mail\" + 0.010*\"phish\" + 0.010*\"spam\" + 0.010*\"fa\" + 0.007*\"phone\" + 0.006*\"messag\" + 0.006*\"link\"\n",
      "Topic 3:  Words: 0.006*\"card\" + 0.006*\"intel\" + 0.006*\"game\" + 0.005*\"amd\" + 0.005*\"gpu\" + 0.005*\"power\" + 0.005*\"nvidia\" + 0.005*\"price\" + 0.004*\"perform\" + 0.004*\"cpu\"\n",
      "Topic 4:  Words: 0.012*\"techsupport\" + 0.011*\"admx\" + 0.010*\"duo\" + 0.004*\"ftd\" + 0.004*\"pppoe\" + 0.004*\"qt\" + 0.003*\"activesync\" + 0.003*\"irb\" + 0.003*\"fex\" + 0.003*\"alphafold\"\n",
      "Topic 5:  Words: 0.005*\"secur\" + 0.005*\"job\" + 0.005*\"compani\" + 0.003*\"cyber\" + 0.003*\"learn\" + 0.003*\"team\" + 0.003*\"cybersecur\" + 0.003*\"manag\" + 0.003*\"experi\" + 0.003*\"cert\"\n",
      "Topic 6:  Words: 0.007*\"code\" + 0.005*\"languag\" + 0.005*\"model\" + 0.004*\"paper\" + 0.004*\"learn\" + 0.004*\"python\" + 0.004*\"program\" + 0.004*\"data\" + 0.003*\"write\" + 0.003*\"github\"\n",
      "Topic 7:  Words: 0.006*\"server\" + 0.006*\"window\" + 0.004*\"user\" + 0.004*\"file\" + 0.004*\"updat\" + 0.004*\"network\" + 0.004*\"connect\" + 0.003*\"instal\" + 0.003*\"devic\" + 0.003*\"switch\"\n",
      "\n",
      "- Perplexity: -8.9306\n",
      "- Coherence Score: 0.6064\n"
     ]
    }
   ],
   "source": [
    "# 7 topic tfidf-stem corpus\n",
    "lda_tfidf_stem_7top_ittrends_mod = build_lda(\n",
    "    corpus=term_vec_corpus_stem,\n",
    "    dictionary=term_dict_stem,\n",
    "    corpus_type='tfidf-stem',\n",
    "    texts=term_data.stem_text,\n",
    "    num_topics=7)"
   ]
  },
  {
   "cell_type": "code",
   "execution_count": 194,
   "metadata": {},
   "outputs": [],
   "source": [
    "# # Save model\n",
    "compress_pickle(f'{MODEL_DIR}/lda_tfidf_stem_7top_ittrends_mod_{RUN_DATE}.pkl', lda_tfidf_stem_7top_ittrends_mod)"
   ]
  },
  {
   "cell_type": "code",
   "execution_count": 181,
   "metadata": {},
   "outputs": [],
   "source": [
    "# # Load model\n",
    "# lda_tfidf_stem_7top_ittrends_mod = decompress_pickle(f'{MODEL_DIR}/lda_tfidf_stem_7top_ittrends_mod_{RUN_DATE}.pkl.pbz2')"
   ]
  },
  {
   "cell_type": "code",
   "execution_count": 182,
   "metadata": {},
   "outputs": [
    {
     "data": {
      "text/html": [
       "\n",
       "<link rel=\"stylesheet\" type=\"text/css\" href=\"https://cdn.rawgit.com/bmabey/pyLDAvis/files/ldavis.v1.0.0.css\">\n",
       "\n",
       "\n",
       "<div id=\"ldavis_el151267222842864650160007\"></div>\n",
       "<script type=\"text/javascript\">\n",
       "\n",
       "var ldavis_el151267222842864650160007_data = {\"mdsDat\": {\"x\": [0.11482644173664515, 0.07887380043852987, 0.11561060048824637, 0.11490907969748379, -0.1708792453656055, -0.12840359485849415, -0.12493708213680527], \"y\": [0.10621980717973188, 0.03540348606417518, 0.002590691091064778, -0.1102469067696291, 0.1569131721056355, -0.09946372109347505, -0.09141652857750367], \"topics\": [1, 2, 3, 4, 5, 6, 7], \"cluster\": [1, 1, 1, 1, 1, 1, 1], \"Freq\": [33.01673126220703, 27.95737075805664, 18.860111236572266, 12.69742202758789, 3.4489142894744873, 2.0230369567871094, 1.9964171648025513]}, \"tinfo\": {\"Term\": [\"password\", \"email\", \"account\", \"secur\", \"phone\", \"address\", \"mail\", \"link\", \"googl\", \"hack\", \"spam\", \"code\", \"attack\", \"messag\", \"site\", \"send\", \"intel\", \"phish\", \"languag\", \"amd\", \"card\", \"techsupport\", \"fa\", \"login\", \"game\", \"app\", \"gpu\", \"authent\", \"websit\", \"log\", \"wsus\", \"vlan\", \"gpo\", \"veeam\", \"registri\", \"dhcp\", \"ipv\", \"rdp\", \"onedr\", \"tls\", \"dcs\", \"nat\", \"aruba\", \"dns\", \"meraki\", \"reboot\", \"bgp\", \"subnet\", \"zscaler\", \"ssl\", \"intun\", \"bitlock\", \"fortig\", \"gpos\", \"pdq\", \"ssh\", \"wpa\", \"sso\", \"pfsens\", \"tunnel\", \"router\", \"rds\", \"wan\", \"vpn\", \"gateway\", \"traffic\", \"firewal\", \"isp\", \"packet\", \"vm\", \"server\", \"powershel\", \"window\", \"folder\", \"port\", \"backup\", \"connect\", \"updat\", \"host\", \"instal\", \"configur\", \"file\", \"azur\", \"licens\", \"user\", \"switch\", \"devic\", \"domain\", \"client\", \"rout\", \"microsoft\", \"log\", \"access\", \"network\", \"set\", \"servic\", \"manag\", \"check\", \"support\", \"secur\", \"salari\", \"exam\", \"udemi\", \"cissp\", \"cyber\", \"internship\", \"comptia\", \"recruit\", \"ceh\", \"cybersec\", \"career\", \"oscp\", \"bounti\", \"cysa\", \"analyst\", \"pentest\", \"bootcamp\", \"mentor\", \"cybersecur\", \"ethic\", \"infosec\", \"bachelor\", \"interview\", \"militari\", \"crimin\", \"tryhackm\", \"lawyer\", \"ciso\", \"fbi\", \"agil\", \"hire\", \"degre\", \"resum\", \"colleg\", \"govern\", \"senior\", \"employ\", \"skill\", \"job\", \"cours\", \"devop\", \"compani\", \"studi\", \"role\", \"posit\", \"secur\", \"school\", \"cert\", \"boss\", \"pay\", \"engin\", \"experi\", \"team\", \"money\", \"sysadmin\", \"learn\", \"busi\", \"person\", \"hack\", \"manag\", \"start\", \"tech\", \"day\", \"certif\", \"hour\", \"work\", \"question\", \"network\", \"project\", \"dataset\", \"neural\", \"arxiv\", \"pytorch\", \"nlp\", \"rust\", \"typescript\", \"gan\", \"zig\", \"gradient\", \"annot\", \"yolov\", \"lisp\", \"sqlite\", \"sota\", \"parser\", \"pretrain\", \"xgboost\", \"imagenet\", \"kotlin\", \"openai\", \"neurip\", \"latent\", \"hyperparamet\", \"stylegan\", \"vec\", \"julia\", \"std\", \"kera\", \"bert\", \"transform\", \"represent\", \"classif\", \"tensorflow\", \"infer\", \"languag\", \"javascript\", \"compil\", \"rubi\", \"java\", \"algorithm\", \"linear\", \"paper\", \"gpt\", \"abstract\", \"python\", \"librari\", \"predict\", \"model\", \"code\", \"visual\", \"ai\", \"github\", \"function\", \"program\", \"paramet\", \"train\", \"write\", \"framework\", \"imag\", \"git\", \"project\", \"learn\", \"text\", \"data\", \"articl\", \"video\", \"implement\", \"develop\", \"featur\", \"generat\", \"test\", \"problem\", \"read\", \"tool\", \"nm\", \"amd\", \"ryzen\", \"pcie\", \"rtx\", \"tsmc\", \"ti\", \"ddr\", \"xt\", \"msrp\", \"fab\", \"vram\", \"dlss\", \"overclock\", \"nvidia\", \"thermal\", \"qualcomm\", \"rdna\", \"hz\", \"videocardz\", \"geforc\", \"chip\", \"zen\", \"radeon\", \"psu\", \"scalper\", \"amper\", \"mhz\", \"gtx\", \"motherboard\", \"samsung\", \"intel\", \"gpus\", \"xbox\", \"fps\", \"gpu\", \"lake\", \"cpus\", \"cool\", \"rx\", \"cpu\", \"card\", \"batteri\", \"ssd\", \"gen\", \"ram\", \"game\", \"price\", \"arm\", \"core\", \"power\", \"laptop\", \"gb\", \"perform\", \"appl\", \"buy\", \"cabl\", \"hardwar\", \"usb\", \"memori\", \"seri\", \"fan\", \"drive\", \"market\", \"kms\", \"autodiscov\", \"dkim\", \"bitwarden\", \"spf\", \"haveibeenpwn\", \"unsubscrib\", \"snapchat\", \"lastpass\", \"knowb\", \"protonmail\", \"msert\", \"mydomain\", \"zap\", \"keepass\", \"authi\", \"emotet\", \"webstor\", \"spammer\", \"splashtop\", \"passphras\", \"webhost\", \"bomgar\", \"proxylogon\", \"passcod\", \"steganographi\", \"lighthous\", \"healthcheck\", \"sms\", \"fa\", \"phish\", \"instagram\", \"ublock\", \"gmail\", \"password\", \"sender\", \"spam\", \"recipi\", \"email\", \"scam\", \"mail\", \"brave\", \"cooki\", \"malwarebyt\", \"account\", \"messag\", \"compromis\", \"breach\", \"facebook\", \"chrome\", \"login\", \"phone\", \"malici\", \"link\", \"send\", \"hack\", \"googl\", \"address\", \"click\", \"attack\", \"websit\", \"site\", \"secur\", \"vba\", \"selenium\", \"cheatsheet\", \"hatch\", \"portswigg\", \"plz\", \"nbviewer\", \"ipynb\", \"xss\", \"argh\", \"hive\", \"autohotkey\", \"mybind\", \"shard\", \"scraper\", \"xilinx\", \"bcc\", \"dsc\", \"podman\", \"caddi\", \"binder\", \"flask\", \"headless\", \"proto\", \"firebas\", \"cento\", \"unrestrict\", \"blogger\", \"unload\", \"rhel\", \"ama\", \"jupyt\", \"minecraft\", \"banner\", \"owasp\", \"zyxel\", \"wsl\", \"wordpress\", \"cve\", \"mod\", \"virtualbox\", \"admx\", \"ftd\", \"activesync\", \"fex\", \"fmc\", \"alphafold\", \"bookstack\", \"tcam\", \"nordvpn\", \"imessag\", \"lmgtfi\", \"irb\", \"openldap\", \"duo\", \"nb\", \"recap\", \"es\", \"sar\", \"pppoe\", \"ece\", \"snr\", \"sidenot\", \"des\", \"defi\", \"prosper\", \"lmk\", \"aoc\", \"shoutout\", \"tattoo\", \"qt\", \"techsupport\", \"drum\", \"fusion\", \"mcafe\", \"tac\"], \"Freq\": [369.0, 311.0, 284.0, 459.0, 202.0, 197.0, 113.0, 216.0, 225.0, 150.0, 98.0, 380.0, 172.0, 123.0, 216.0, 146.0, 152.0, 83.0, 216.0, 134.0, 187.0, 81.0, 80.0, 108.0, 226.0, 249.0, 142.0, 122.0, 150.0, 231.0, 116.79193115234375, 145.02059936523438, 94.44630432128906, 56.91379165649414, 74.40621185302734, 83.197265625, 51.932640075683594, 73.68242645263672, 44.1964111328125, 55.76201248168945, 46.87952423095703, 44.41923141479492, 40.604400634765625, 172.81533813476562, 37.034217834472656, 88.0842514038086, 38.707916259765625, 82.49334716796875, 34.306583404541016, 53.349178314208984, 48.76810836791992, 33.12016677856445, 32.14081954956055, 35.73060607910156, 31.52447509765625, 74.2684326171875, 30.397218704223633, 31.276155471801758, 30.043649673461914, 66.58401489257812, 172.90415954589844, 48.43645477294922, 54.42710494995117, 200.12474060058594, 59.4488525390625, 147.31607055664062, 159.77061462402344, 95.11524200439453, 90.76128387451172, 118.48875427246094, 405.35980224609375, 130.5622100830078, 383.8609313964844, 104.47069549560547, 184.81019592285156, 141.80519104003906, 222.80014038085938, 248.69078063964844, 158.4754638671875, 214.299072265625, 147.078125, 252.63597106933594, 135.6779022216797, 153.97052001953125, 281.8937072753906, 201.46075439453125, 212.95631408691406, 188.45321655273438, 172.47630310058594, 133.67855834960938, 192.0717010498047, 177.11557006835938, 186.32855224609375, 242.75929260253906, 186.5955810546875, 175.7573699951172, 166.31581115722656, 140.9159698486328, 141.28866577148438, 144.33900451660156, 48.4058723449707, 67.1601791381836, 37.97458267211914, 36.4892692565918, 177.58267211914062, 34.74054718017578, 42.47014617919922, 32.5750846862793, 26.21785545349121, 25.339794158935547, 96.47451782226562, 25.09408950805664, 24.93761444091797, 22.84853172302246, 47.5390510559082, 50.43401336669922, 21.42854881286621, 21.462629318237305, 152.0802459716797, 31.87166404724121, 33.151546478271484, 22.733713150024414, 117.10564422607422, 26.630786895751953, 20.624841690063477, 15.47942066192627, 21.604049682617188, 16.537071228027344, 15.041772842407227, 20.4992618560791, 101.89665222167969, 115.60615539550781, 66.89306640625, 65.9673843383789, 73.2984390258789, 46.04814910888672, 69.27812194824219, 115.86634826660156, 261.9092102050781, 62.88727569580078, 127.43965911865234, 257.1330261230469, 75.84336853027344, 112.09845733642578, 99.04684448242188, 277.2339172363281, 82.20039367675781, 135.09939575195312, 57.99676513671875, 111.74598693847656, 128.23370361328125, 142.7379913330078, 154.736328125, 95.24946594238281, 93.5083999633789, 171.82183837890625, 112.60363006591797, 124.56018829345703, 96.56774139404297, 145.6463165283203, 126.04813385009766, 90.54484558105469, 114.8251953125, 101.8727035522461, 94.12299346923828, 114.47999572753906, 102.66937255859375, 106.79510498046875, 96.15469360351562, 94.33663940429688, 65.6657943725586, 39.562068939208984, 48.360809326171875, 25.86181640625, 76.5063247680664, 23.467954635620117, 23.379165649414062, 20.694232940673828, 22.36821174621582, 20.044349670410156, 16.597946166992188, 16.526777267456055, 15.657235145568848, 15.491886138916016, 21.442914962768555, 15.2315034866333, 15.043044090270996, 14.648933410644531, 14.682940483093262, 14.611361503601074, 14.498005867004395, 17.25755500793457, 13.829116821289062, 13.701702117919922, 13.390702247619629, 13.34195613861084, 21.831218719482422, 13.121733665466309, 13.114184379577637, 60.9847297668457, 29.92169189453125, 44.95180892944336, 31.22074317932129, 30.3022403717041, 188.54000854492188, 54.39714050292969, 86.91966247558594, 25.116443634033203, 76.70221710205078, 77.69163513183594, 29.669218063354492, 147.40789794921875, 27.5250301361084, 41.86503982543945, 136.2866973876953, 88.43670654296875, 54.79351043701172, 173.5314178466797, 242.67971801757812, 53.45134735107422, 81.06037139892578, 112.03485107421875, 98.1518783569336, 135.6402130126953, 43.63383483886719, 106.70117950439453, 113.20133209228516, 52.85914993286133, 104.19425201416016, 53.95743179321289, 111.15936279296875, 140.66830444335938, 68.43695068359375, 126.91044616699219, 87.76532745361328, 89.9065170288086, 74.63130187988281, 86.13148498535156, 77.7967529296875, 66.91837310791016, 75.02311706542969, 74.29131317138672, 70.72464752197266, 70.38903045654297, 71.45018768310547, 132.5869598388672, 44.229148864746094, 42.156288146972656, 64.65547180175781, 36.24638748168945, 35.318092346191406, 34.42782974243164, 33.123443603515625, 30.101924896240234, 28.600557327270508, 27.843032836914062, 26.356489181518555, 26.231006622314453, 115.03274536132812, 24.411436080932617, 23.884784698486328, 21.580013275146484, 26.165576934814453, 20.319307327270508, 20.215856552124023, 105.64757537841797, 52.76829147338867, 18.65880012512207, 24.77393913269043, 18.246408462524414, 18.201274871826172, 24.84855079650879, 19.28465461730957, 40.21506881713867, 47.37053298950195, 140.02877807617188, 64.14379119873047, 33.56210708618164, 45.13741683959961, 125.15673065185547, 40.79655838012695, 47.60035705566406, 30.979656219482422, 34.71841812133789, 106.33856964111328, 140.5751953125, 50.11105728149414, 55.3270263671875, 45.96913528442383, 68.01715087890625, 136.03660583496094, 110.67538452148438, 54.45481491088867, 103.16743469238281, 116.27647399902344, 105.25039672851562, 83.61063385009766, 106.60700225830078, 73.39852905273438, 79.66136932373047, 72.7344970703125, 76.3572769165039, 60.35749435424805, 62.193180084228516, 55.20939254760742, 50.496429443359375, 56.72599792480469, 53.18770980834961, 23.416399002075195, 21.25929832458496, 18.571029663085938, 26.16067886352539, 35.18510818481445, 14.99740219116211, 10.156733512878418, 11.31802749633789, 17.12377166748047, 8.15682315826416, 8.261113166809082, 7.2503342628479, 7.280308246612549, 17.253019332885742, 12.47557258605957, 7.149523735046387, 6.588178634643555, 6.34511661529541, 13.076756477355957, 6.140495300292969, 12.621756553649902, 5.999054431915283, 5.97717809677124, 5.469781875610352, 5.284613132476807, 5.312271595001221, 5.390613555908203, 4.868641376495361, 31.169891357421875, 65.24884033203125, 67.0155029296875, 30.5728816986084, 10.897636413574219, 32.408782958984375, 258.17340087890625, 20.091053009033203, 67.00444030761719, 15.509031295776367, 183.12493896484375, 33.8995475769043, 67.76518249511719, 12.195322036743164, 21.260143280029297, 18.235553741455078, 98.04720306396484, 42.30550765991211, 33.3354606628418, 33.61301803588867, 26.06786346435547, 32.22756576538086, 33.4485969543457, 44.12493133544922, 25.711782455444336, 41.294097900390625, 35.0725212097168, 35.17250442504883, 38.72531509399414, 36.43217849731445, 29.559240341186523, 31.457761764526367, 30.2742919921875, 29.477876663208008, 29.698030471801758, 14.605320930480957, 12.109557151794434, 11.950942039489746, 11.246849060058594, 10.973042488098145, 10.20733642578125, 8.79435920715332, 15.252946853637695, 30.487895965576172, 6.720988750457764, 17.783161163330078, 8.754734992980957, 5.477845191955566, 10.031389236450195, 7.126749515533447, 11.770809173583984, 4.435267925262451, 7.7012858390808105, 8.905913352966309, 7.266458988189697, 4.862325668334961, 14.793950080871582, 12.506072998046875, 7.068531036376953, 7.207974433898926, 39.37139129638672, 7.3184709548950195, 3.9408254623413086, 6.195235252380371, 20.259994506835938, 12.92361831665039, 15.91578197479248, 14.930065155029297, 12.995457649230957, 14.80044174194336, 12.78673267364502, 13.262755393981934, 12.626340866088867, 11.28470516204834, 9.38868522644043, 7.906779766082764, 43.38298416137695, 15.692889213562012, 13.21855354309082, 12.142528533935547, 11.29253101348877, 11.301346778869629, 10.439810752868652, 9.686103820800781, 9.708734512329102, 9.383319854736328, 8.424341201782227, 13.10414981842041, 6.936374664306641, 39.19084548950195, 6.748115539550781, 7.0817999839782715, 8.324728012084961, 5.3135223388671875, 14.380110740661621, 4.2394795417785645, 4.976236343383789, 5.859915256500244, 6.452162742614746, 5.276183605194092, 5.592309474945068, 5.710570335388184, 5.333417892456055, 2.4638822078704834, 2.7995550632476807, 14.100465774536133, 46.613372802734375, 5.192564487457275, 6.497483730316162, 6.240660667419434, 5.682085037231445], \"Total\": [369.0, 311.0, 284.0, 459.0, 202.0, 197.0, 113.0, 216.0, 225.0, 150.0, 98.0, 380.0, 172.0, 123.0, 216.0, 146.0, 152.0, 83.0, 216.0, 134.0, 187.0, 81.0, 80.0, 108.0, 226.0, 249.0, 142.0, 122.0, 150.0, 231.0, 117.97502136230469, 146.62318420410156, 95.81977081298828, 58.10325241088867, 76.01428985595703, 84.99900817871094, 53.1242790222168, 75.49059295654297, 45.39249801635742, 57.279048919677734, 48.17594909667969, 45.67662048339844, 41.79092788696289, 178.29933166503906, 38.22245407104492, 90.98675537109375, 40.01848220825195, 85.33131408691406, 35.489501953125, 55.18889236450195, 50.49410629272461, 34.31873321533203, 33.32420349121094, 37.06108093261719, 32.70818328857422, 77.06130981445312, 31.580947875976562, 32.50522232055664, 31.236223220825195, 69.23029327392578, 180.31886291503906, 50.36772155761719, 56.83882522583008, 212.0460205078125, 62.26776123046875, 157.8463134765625, 171.72454833984375, 100.80047607421875, 96.05874633789062, 127.13471221923828, 465.1745910644531, 141.99801635742188, 448.4338684082031, 115.192626953125, 215.85694885253906, 162.2713623046875, 268.9732360839844, 304.3804626464844, 184.89491271972656, 262.2455749511719, 172.3758087158203, 325.3879089355469, 159.91249084472656, 185.89369201660156, 389.04376220703125, 260.6554870605469, 279.88958740234375, 241.80548095703125, 219.23983764648438, 158.25779724121094, 256.9260559082031, 231.1327667236328, 260.3843688964844, 396.40155029296875, 283.1358642578125, 266.5298767089844, 340.7890930175781, 258.4139709472656, 270.1602478027344, 459.6222229003906, 49.73262023925781, 69.03694152832031, 39.16118240356445, 37.65589141845703, 183.40826416015625, 35.94609069824219, 43.996742248535156, 33.75077819824219, 27.384042739868164, 26.513893127441406, 100.94859313964844, 26.260278701782227, 26.113370895385742, 24.014253616333008, 50.11040115356445, 53.19968795776367, 22.62277603149414, 22.65911293029785, 160.70523071289062, 33.827796936035156, 35.29722213745117, 24.27497100830078, 125.281494140625, 28.518314361572266, 22.170310974121094, 16.656864166259766, 23.272306442260742, 17.825510025024414, 16.220224380493164, 22.132137298583984, 111.46086883544922, 126.8414535522461, 73.19436645507812, 72.21873474121094, 80.60652160644531, 50.35694122314453, 76.8097915649414, 131.79385375976562, 312.37591552734375, 71.81604766845703, 155.34535217285156, 343.6753234863281, 93.24250793457031, 147.5305938720703, 130.7694549560547, 459.6222229003906, 106.30522155761719, 196.04830932617188, 69.76969909667969, 164.49717712402344, 197.51698303222656, 228.9244384765625, 255.54440307617188, 137.91554260253906, 135.2912139892578, 354.3868103027344, 186.99302673339844, 219.82220458984375, 150.67144775390625, 340.7890930175781, 271.56640625, 135.98715209960938, 232.9812469482422, 183.2445526123047, 154.37359619140625, 313.6812744140625, 252.10997009277344, 396.40155029296875, 235.36038208007812, 96.76167297363281, 67.41207122802734, 40.73741912841797, 50.34461212158203, 27.0462646484375, 80.29393005371094, 24.6500301361084, 24.557575225830078, 21.88045883178711, 23.677507400512695, 21.405229568481445, 17.773143768310547, 17.706893920898438, 16.843000411987305, 16.66801643371582, 23.074050903320312, 16.406679153442383, 16.216978073120117, 15.823406219482422, 15.860843658447266, 15.786661148071289, 15.672533988952637, 18.683198928833008, 15.003044128417969, 14.875779151916504, 14.564627647399902, 14.517813682556152, 23.780498504638672, 14.296172142028809, 14.289121627807617, 66.51011657714844, 32.69830322265625, 49.36854553222656, 34.22422790527344, 33.407432556152344, 216.2498779296875, 61.40514373779297, 100.89166259765625, 27.715621948242188, 89.18553924560547, 91.3522720336914, 33.157867431640625, 183.49517822265625, 30.777610778808594, 48.3948860168457, 174.1614227294922, 109.70860290527344, 66.6834487915039, 246.0328826904297, 380.9385681152344, 68.3902816772461, 116.06864929199219, 176.21998596191406, 169.2295684814453, 268.0154724121094, 57.283809661865234, 196.06971740722656, 219.05174255371094, 75.03276824951172, 201.1131134033203, 77.88280487060547, 235.36038208007812, 354.3868103027344, 114.42158508300781, 334.37591552734375, 177.53564453125, 198.41514587402344, 150.6028289794922, 216.1576385498047, 192.66905212402344, 129.6055145263672, 275.98565673828125, 262.1648864746094, 216.785888671875, 250.7472381591797, 72.6181869506836, 134.82904052734375, 45.39874267578125, 43.321475982666016, 66.62342071533203, 37.409095764160156, 36.4846076965332, 35.593536376953125, 34.2878532409668, 31.27613067626953, 29.77147674560547, 29.06819725036621, 27.524499893188477, 27.404220581054688, 120.49854278564453, 25.583730697631836, 25.054269790649414, 22.742877960205078, 27.650360107421875, 21.481945037841797, 21.379615783691406, 111.75994110107422, 55.97569274902344, 19.823820114135742, 26.332780838012695, 19.41008186340332, 19.37118148803711, 26.5143985748291, 20.580078125, 42.92724609375, 50.635955810546875, 152.16781616210938, 70.4001235961914, 36.198326110839844, 49.24283218383789, 142.4701385498047, 44.33746337890625, 52.866390228271484, 33.445648193359375, 38.11381530761719, 135.19358825683594, 187.60765075683594, 58.15147399902344, 66.8783187866211, 53.533782958984375, 88.88827514648438, 226.1768341064453, 179.5874786376953, 69.6739273071289, 168.76461791992188, 202.19876098632812, 178.06399536132812, 131.09320068359375, 221.1466522216797, 125.25086212158203, 149.0276336669922, 127.5252685546875, 163.16836547851562, 113.0558090209961, 134.0301055908203, 105.18901062011719, 74.39765167236328, 187.8822784423828, 123.76771545410156, 24.552703857421875, 22.383176803588867, 19.723628997802734, 27.978984832763672, 37.7799072265625, 16.11995506286621, 11.311988830566406, 12.768791198730469, 19.326141357421875, 9.28170108795166, 9.405393600463867, 8.37225341796875, 8.406907081604004, 19.974395751953125, 14.45203971862793, 8.337897300720215, 7.710448741912842, 7.476541519165039, 15.484943389892578, 7.272126197814941, 14.98111343383789, 7.132199287414551, 7.106490135192871, 6.602532386779785, 6.4112138748168945, 6.445308685302734, 6.543380260467529, 5.995707035064697, 38.606353759765625, 80.91851806640625, 83.53221130371094, 38.47372055053711, 13.548331260681152, 42.34907150268555, 369.500732421875, 26.06776237487793, 98.09522247314453, 20.075035095214844, 311.616455078125, 50.230735778808594, 113.73673248291016, 15.59836196899414, 32.403602600097656, 27.442840576171875, 284.60211181640625, 123.6803970336914, 87.0390625, 88.81646728515625, 63.082828521728516, 96.414306640625, 108.53186798095703, 202.5688934326172, 64.77711486816406, 216.5109100341797, 146.59451293945312, 150.67144775390625, 225.79739379882812, 197.95285034179688, 118.24970245361328, 172.88108825683594, 150.2920379638672, 216.38909912109375, 459.6222229003906, 15.641801834106445, 13.142755508422852, 12.985379219055176, 12.283173561096191, 12.00156021118164, 11.251333236694336, 9.817224502563477, 17.407365798950195, 35.018798828125, 7.759427070617676, 20.57217025756836, 10.2947359085083, 6.500172138214111, 11.929693222045898, 8.609081268310547, 14.489262580871582, 5.570157527923584, 9.6929931640625, 11.226552963256836, 9.286044120788574, 6.217077255249023, 18.932701110839844, 16.52837562561035, 9.55018138885498, 9.798922538757324, 53.60079574584961, 9.963629722595215, 5.524013519287109, 8.88658332824707, 29.149934768676758, 18.674467086791992, 23.66496467590332, 22.875795364379883, 19.690214157104492, 24.11478614807129, 25.120195388793945, 46.390140533447266, 49.32401657104492, 39.11248779296875, 41.38595962524414, 17.68172836303711, 44.38740921020508, 16.698667526245117, 14.234773635864258, 13.150741577148438, 12.297584533691406, 12.309890747070312, 11.446062088012695, 10.697320938110352, 10.725430488586426, 10.406563758850098, 9.439681053161621, 14.93209457397461, 7.948758125305176, 45.055625915527344, 7.772633075714111, 8.238189697265625, 9.686982154846191, 6.329161167144775, 17.46413803100586, 5.26250696182251, 6.320786476135254, 7.451400279998779, 8.40280818939209, 6.88236141204834, 7.3070220947265625, 7.50642204284668, 7.649443626403809, 3.565084457397461, 4.2960052490234375, 21.950775146484375, 81.9578857421875, 8.57828140258789, 11.689617156982422, 16.539737701416016, 16.35335350036621], \"Category\": [\"Default\", \"Default\", \"Default\", \"Default\", \"Default\", \"Default\", \"Default\", \"Default\", \"Default\", \"Default\", \"Default\", \"Default\", \"Default\", \"Default\", \"Default\", \"Default\", \"Default\", \"Default\", \"Default\", \"Default\", \"Default\", \"Default\", \"Default\", \"Default\", \"Default\", \"Default\", \"Default\", \"Default\", \"Default\", \"Default\", \"Topic1\", \"Topic1\", \"Topic1\", \"Topic1\", \"Topic1\", \"Topic1\", \"Topic1\", \"Topic1\", \"Topic1\", \"Topic1\", \"Topic1\", \"Topic1\", \"Topic1\", \"Topic1\", \"Topic1\", \"Topic1\", \"Topic1\", \"Topic1\", \"Topic1\", \"Topic1\", \"Topic1\", \"Topic1\", \"Topic1\", \"Topic1\", \"Topic1\", \"Topic1\", \"Topic1\", \"Topic1\", \"Topic1\", \"Topic1\", \"Topic1\", \"Topic1\", \"Topic1\", \"Topic1\", \"Topic1\", \"Topic1\", \"Topic1\", \"Topic1\", \"Topic1\", \"Topic1\", \"Topic1\", \"Topic1\", \"Topic1\", \"Topic1\", \"Topic1\", \"Topic1\", \"Topic1\", \"Topic1\", \"Topic1\", \"Topic1\", \"Topic1\", \"Topic1\", \"Topic1\", \"Topic1\", \"Topic1\", \"Topic1\", \"Topic1\", \"Topic1\", \"Topic1\", \"Topic1\", \"Topic1\", \"Topic1\", \"Topic1\", \"Topic1\", \"Topic1\", \"Topic1\", \"Topic1\", \"Topic1\", \"Topic1\", \"Topic1\", \"Topic2\", \"Topic2\", \"Topic2\", \"Topic2\", \"Topic2\", \"Topic2\", \"Topic2\", \"Topic2\", \"Topic2\", \"Topic2\", \"Topic2\", \"Topic2\", \"Topic2\", \"Topic2\", \"Topic2\", \"Topic2\", \"Topic2\", \"Topic2\", \"Topic2\", \"Topic2\", \"Topic2\", \"Topic2\", \"Topic2\", \"Topic2\", \"Topic2\", \"Topic2\", \"Topic2\", \"Topic2\", \"Topic2\", \"Topic2\", \"Topic2\", \"Topic2\", \"Topic2\", \"Topic2\", \"Topic2\", \"Topic2\", \"Topic2\", \"Topic2\", \"Topic2\", \"Topic2\", \"Topic2\", \"Topic2\", \"Topic2\", \"Topic2\", \"Topic2\", \"Topic2\", \"Topic2\", \"Topic2\", \"Topic2\", \"Topic2\", \"Topic2\", \"Topic2\", \"Topic2\", \"Topic2\", \"Topic2\", \"Topic2\", \"Topic2\", \"Topic2\", \"Topic2\", \"Topic2\", \"Topic2\", \"Topic2\", \"Topic2\", \"Topic2\", \"Topic2\", \"Topic2\", \"Topic2\", \"Topic2\", \"Topic2\", \"Topic3\", \"Topic3\", \"Topic3\", \"Topic3\", \"Topic3\", \"Topic3\", \"Topic3\", \"Topic3\", \"Topic3\", \"Topic3\", \"Topic3\", \"Topic3\", \"Topic3\", \"Topic3\", \"Topic3\", \"Topic3\", \"Topic3\", \"Topic3\", \"Topic3\", \"Topic3\", \"Topic3\", \"Topic3\", \"Topic3\", \"Topic3\", \"Topic3\", \"Topic3\", \"Topic3\", \"Topic3\", \"Topic3\", \"Topic3\", \"Topic3\", \"Topic3\", \"Topic3\", \"Topic3\", \"Topic3\", \"Topic3\", \"Topic3\", \"Topic3\", \"Topic3\", \"Topic3\", \"Topic3\", \"Topic3\", \"Topic3\", \"Topic3\", \"Topic3\", \"Topic3\", \"Topic3\", \"Topic3\", \"Topic3\", \"Topic3\", \"Topic3\", \"Topic3\", \"Topic3\", \"Topic3\", \"Topic3\", \"Topic3\", \"Topic3\", \"Topic3\", \"Topic3\", \"Topic3\", \"Topic3\", \"Topic3\", \"Topic3\", \"Topic3\", \"Topic3\", \"Topic3\", \"Topic3\", \"Topic3\", \"Topic3\", \"Topic3\", \"Topic3\", \"Topic3\", \"Topic3\", \"Topic3\", \"Topic3\", \"Topic4\", \"Topic4\", \"Topic4\", \"Topic4\", \"Topic4\", \"Topic4\", \"Topic4\", \"Topic4\", \"Topic4\", \"Topic4\", \"Topic4\", \"Topic4\", \"Topic4\", \"Topic4\", \"Topic4\", \"Topic4\", \"Topic4\", \"Topic4\", \"Topic4\", \"Topic4\", \"Topic4\", \"Topic4\", \"Topic4\", \"Topic4\", \"Topic4\", \"Topic4\", \"Topic4\", \"Topic4\", \"Topic4\", \"Topic4\", \"Topic4\", \"Topic4\", \"Topic4\", \"Topic4\", \"Topic4\", \"Topic4\", \"Topic4\", \"Topic4\", \"Topic4\", \"Topic4\", \"Topic4\", \"Topic4\", \"Topic4\", \"Topic4\", \"Topic4\", \"Topic4\", \"Topic4\", \"Topic4\", \"Topic4\", \"Topic4\", \"Topic4\", \"Topic4\", \"Topic4\", \"Topic4\", \"Topic4\", \"Topic4\", \"Topic4\", \"Topic4\", \"Topic4\", \"Topic4\", \"Topic4\", \"Topic4\", \"Topic4\", \"Topic4\", \"Topic5\", \"Topic5\", \"Topic5\", \"Topic5\", \"Topic5\", \"Topic5\", \"Topic5\", \"Topic5\", \"Topic5\", \"Topic5\", \"Topic5\", \"Topic5\", \"Topic5\", \"Topic5\", \"Topic5\", \"Topic5\", \"Topic5\", \"Topic5\", \"Topic5\", \"Topic5\", \"Topic5\", \"Topic5\", \"Topic5\", \"Topic5\", \"Topic5\", \"Topic5\", \"Topic5\", \"Topic5\", \"Topic5\", \"Topic5\", \"Topic5\", \"Topic5\", \"Topic5\", \"Topic5\", \"Topic5\", \"Topic5\", \"Topic5\", \"Topic5\", \"Topic5\", \"Topic5\", \"Topic5\", \"Topic5\", \"Topic5\", \"Topic5\", \"Topic5\", \"Topic5\", \"Topic5\", \"Topic5\", \"Topic5\", \"Topic5\", \"Topic5\", \"Topic5\", \"Topic5\", \"Topic5\", \"Topic5\", \"Topic5\", \"Topic5\", \"Topic5\", \"Topic5\", \"Topic5\", \"Topic5\", \"Topic5\", \"Topic5\", \"Topic6\", \"Topic6\", \"Topic6\", \"Topic6\", \"Topic6\", \"Topic6\", \"Topic6\", \"Topic6\", \"Topic6\", \"Topic6\", \"Topic6\", \"Topic6\", \"Topic6\", \"Topic6\", \"Topic6\", \"Topic6\", \"Topic6\", \"Topic6\", \"Topic6\", \"Topic6\", \"Topic6\", \"Topic6\", \"Topic6\", \"Topic6\", \"Topic6\", \"Topic6\", \"Topic6\", \"Topic6\", \"Topic6\", \"Topic6\", \"Topic6\", \"Topic6\", \"Topic6\", \"Topic6\", \"Topic6\", \"Topic6\", \"Topic6\", \"Topic6\", \"Topic6\", \"Topic6\", \"Topic6\", \"Topic7\", \"Topic7\", \"Topic7\", \"Topic7\", \"Topic7\", \"Topic7\", \"Topic7\", \"Topic7\", \"Topic7\", \"Topic7\", \"Topic7\", \"Topic7\", \"Topic7\", \"Topic7\", \"Topic7\", \"Topic7\", \"Topic7\", \"Topic7\", \"Topic7\", \"Topic7\", \"Topic7\", \"Topic7\", \"Topic7\", \"Topic7\", \"Topic7\", \"Topic7\", \"Topic7\", \"Topic7\", \"Topic7\", \"Topic7\", \"Topic7\", \"Topic7\", \"Topic7\", \"Topic7\", \"Topic7\"], \"logprob\": [30.0, 29.0, 28.0, 27.0, 26.0, 25.0, 24.0, 23.0, 22.0, 21.0, 20.0, 19.0, 18.0, 17.0, 16.0, 15.0, 14.0, 13.0, 12.0, 11.0, 10.0, 9.0, 8.0, 7.0, 6.0, 5.0, 4.0, 3.0, 2.0, 1.0, -6.297699928283691, -6.081200122833252, -6.5100998878479, -7.016600131988525, -6.748600006103516, -6.636899948120117, -7.1082000732421875, -6.758299827575684, -7.269499778747559, -7.0370001792907715, -7.2104997634887695, -7.264400005340576, -7.3541998863220215, -5.905900001525879, -7.446300029754639, -6.579800128936768, -7.402100086212158, -6.645400047302246, -7.522799968719482, -7.081200122833252, -7.171000003814697, -7.558000087738037, -7.5879998207092285, -7.482100009918213, -7.6072998046875, -6.750400066375732, -7.643799781799316, -7.615200042724609, -7.6554999351501465, -6.859600067138672, -5.905399799346924, -7.1778998374938965, -7.061200141906738, -5.759200096130371, -6.9730000495910645, -6.065499782562256, -5.984399795532227, -6.502999782562256, -6.549900054931641, -6.283299922943115, -5.053299903869629, -6.186299800872803, -5.107800006866455, -6.409200191497803, -5.838799953460693, -6.103700160980225, -5.651800155639648, -5.541900157928467, -5.992499828338623, -5.690700054168701, -6.0671000480651855, -5.526199817657471, -6.147799968719482, -6.021299839019775, -5.416600227355957, -5.752500057220459, -5.697000026702881, -5.819300174713135, -5.907800197601318, -6.162700176239014, -5.80019998550415, -5.88129997253418, -5.830599784851074, -5.565999984741211, -5.82919979095459, -5.888999938964844, -5.944200038909912, -6.109899997711182, -6.1072998046875, -6.085899829864502, -7.012199878692627, -6.684700012207031, -7.254899978637695, -7.2947998046875, -5.712299823760986, -7.343900203704834, -7.14300012588501, -7.408199787139893, -7.62529993057251, -7.65939998626709, -6.322500228881836, -7.669099807739258, -7.6753997802734375, -7.762899875640869, -7.030200004577637, -6.971099853515625, -7.827000141143799, -7.825500011444092, -5.867400169372559, -7.430099964141846, -7.390699863433838, -7.767899990081787, -6.128699779510498, -7.6097002029418945, -7.865300178527832, -8.152299880981445, -7.818900108337402, -8.086199760437012, -8.180899620056152, -7.871399879455566, -6.2677998542785645, -6.141600131988525, -6.688700199127197, -6.702600002288818, -6.5971999168396, -7.062099933624268, -6.653600215911865, -6.1392998695373535, -5.323800086975098, -6.750400066375732, -6.044099807739258, -5.342199802398682, -6.5630998611450195, -6.172399997711182, -6.296199798583984, -5.266900062561035, -6.482600212097168, -5.985799789428711, -6.831399917602539, -6.17549991607666, -6.037899971008301, -5.930799961090088, -5.849999904632568, -6.335299968719482, -6.353700160980225, -5.745299816131592, -6.167900085449219, -6.066999912261963, -6.321499824523926, -5.910600185394287, -6.055099964141846, -6.385900020599365, -6.148399829864502, -6.26800012588501, -6.3471999168396, -6.151400089263916, -6.260300159454346, -6.220900058746338, -6.325799942016602, -5.951300144195557, -6.313600063323975, -6.820300102233887, -6.619500160217285, -7.2453999519348145, -6.160799980163574, -7.34250020980835, -7.34630012512207, -7.468299865722656, -7.390500068664551, -7.500199794769287, -7.688899993896484, -7.69320011138916, -7.747200012207031, -7.757800102233887, -7.432700157165527, -7.774799823760986, -7.787199974060059, -7.813799858093262, -7.811500072479248, -7.816299915313721, -7.824100017547607, -7.649899959564209, -7.871399879455566, -7.8805999755859375, -7.903600215911865, -7.907199859619141, -7.41480016708374, -7.923900127410889, -7.9243998527526855, -6.387499809265137, -7.099599838256836, -6.692599773406982, -7.05709981918335, -7.086900234222412, -5.258800029754639, -6.501800060272217, -6.033199787139893, -7.274600028991699, -6.158199787139893, -6.145400047302246, -7.107999801635742, -5.504899978637695, -7.183000087738037, -6.763700008392334, -5.583399772644043, -6.015900135040283, -6.49459981918335, -5.341800212860107, -5.006400108337402, -6.519400119781494, -6.10290002822876, -5.779300212860107, -5.911600112915039, -5.588099956512451, -6.722300052642822, -5.828100204467773, -5.769000053405762, -6.5304999351501465, -5.851900100708008, -6.509900093078613, -5.787199974060059, -5.551700115203857, -6.272200107574463, -5.654699802398682, -6.023499965667725, -5.9994001388549805, -6.1855998039245605, -6.042300224304199, -6.144000053405762, -6.2947001457214355, -6.180300235748291, -6.190100193023682, -6.239299774169922, -6.244100093841553, -5.833499908447266, -5.2153000831604, -6.3130998611450195, -6.361100196838379, -5.9334001541137695, -6.512199878692627, -6.538099765777588, -6.563600063323975, -6.602200031280518, -6.69789981842041, -6.749100208282471, -6.775899887084961, -6.8308000564575195, -6.8354997634887695, -5.3572998046875, -6.907400131225586, -6.929200172424316, -7.030700206756592, -6.8379998207092285, -7.09089994430542, -7.0960001945495605, -5.442399978637695, -6.136600017547607, -7.176199913024902, -6.8927001953125, -7.198500156402588, -7.201000213623047, -6.889699935913086, -7.143199920654297, -6.408199787139893, -6.244500160217285, -5.160600185394287, -5.941400051116943, -6.589099884033203, -6.292799949645996, -5.272900104522705, -6.393899917602539, -6.239699840545654, -6.6691999435424805, -6.555200099945068, -5.4359002113342285, -5.156700134277344, -6.188199996948242, -6.089200019836426, -6.274499893188477, -5.882699966430664, -5.189599990844727, -5.395899772644043, -6.105100154876709, -5.466100215911865, -5.346499919891357, -5.446100234985352, -5.676300048828125, -5.433300018310547, -5.806600093841553, -5.724699974060059, -5.815700054168701, -5.767099857330322, -6.002200126647949, -5.9721999168396, -6.091400146484375, -6.180600166320801, -6.064300060272217, -6.128699779510498, -5.645699977874756, -5.742400169372559, -5.877500057220459, -5.534900188446045, -5.238500118255615, -6.091300010681152, -6.480999946594238, -6.372799873352051, -5.958700180053711, -6.700300216674805, -6.687600135803223, -6.8180999755859375, -6.814000129699707, -5.951200008392334, -6.275400161743164, -6.832099914550781, -6.913899898529053, -6.951499938964844, -6.228300094604492, -6.9842000007629395, -6.263700008392334, -7.007500171661377, -7.011199951171875, -7.099899768829346, -7.134399890899658, -7.1290998458862305, -7.114500045776367, -7.216300010681152, -5.3597002029418945, -4.6209001541137695, -4.594200134277344, -5.379000186920166, -6.410600185394287, -5.320700168609619, -3.245500087738037, -5.798900127410889, -4.594399929046631, -6.057700157165527, -3.5889999866485596, -5.275700092315674, -4.583099842071533, -6.298099994659424, -5.742300033569336, -5.8958001136779785, -4.213699817657471, -5.054200172424316, -5.292500019073486, -5.284200191497803, -5.538400173187256, -5.326300144195557, -5.289100170135498, -5.0121002197265625, -5.552199840545654, -5.078400135040283, -5.241700172424316, -5.238900184631348, -5.1427001953125, -5.203700065612793, -5.412799835205078, -5.350500106811523, -5.388899803161621, -5.415500164031982, -5.408100128173828, -5.5843000411987305, -5.771699905395508, -5.784900188446045, -5.845600128173828, -5.870200157165527, -5.942599773406982, -6.091599941253662, -5.540900230407715, -4.848400115966797, -6.360499858856201, -5.387400150299072, -6.096099853515625, -6.565000057220459, -5.960000038146973, -6.301799774169922, -5.800099849700928, -6.776100158691406, -6.224299907684326, -6.078999996185303, -6.282400131225586, -6.684199810028076, -5.571499824523926, -5.739500045776367, -6.309999942779541, -6.290500164031982, -4.592700004577637, -6.275300025939941, -6.8942999839782715, -6.44189977645874, -5.256999969482422, -5.706600189208984, -5.4984002113342285, -5.562300205230713, -5.701099872589111, -5.571000099182129, -5.717299938201904, -5.680699825286865, -5.729899883270264, -5.842199802398682, -6.026199817657471, -6.197999954223633, -4.482399940490723, -5.499199867248535, -5.67080020904541, -5.75570011138916, -5.8282999992370605, -5.827499866485596, -5.906799793243408, -5.981800079345703, -5.979400157928467, -6.013500213623047, -6.121300220489502, -5.679500102996826, -6.315700054168701, -4.584000110626221, -6.343200206756592, -6.294899940490723, -6.133200168609619, -6.582200050354004, -5.586599826812744, -6.808000087738037, -6.647799968719482, -6.484300136566162, -6.388000011444092, -6.589200019836426, -6.531099796295166, -6.5100998878479, -6.578499794006348, -7.3506999015808105, -7.2230000495910645, -5.606200218200684, -4.410600185394287, -6.605199813842773, -6.38100004196167, -6.42140007019043, -6.515100002288818], \"loglift\": [30.0, 29.0, 28.0, 27.0, 26.0, 25.0, 24.0, 23.0, 22.0, 21.0, 20.0, 19.0, 18.0, 17.0, 16.0, 15.0, 14.0, 13.0, 12.0, 11.0, 10.0, 9.0, 8.0, 7.0, 6.0, 5.0, 4.0, 3.0, 2.0, 1.0, 1.098099946975708, 1.0972000360488892, 1.0937000513076782, 1.087499976158142, 1.0867999792099, 1.0866999626159668, 1.0855000019073486, 1.083899974822998, 1.0815000534057617, 1.0813000202178955, 1.080899953842163, 1.080199956893921, 1.0793999433517456, 1.0769000053405762, 1.0765999555587769, 1.075700044631958, 1.0749000310897827, 1.0743000507354736, 1.0743000507354736, 1.0743000507354736, 1.0734000205993652, 1.07260000705719, 1.0720000267028809, 1.0715999603271484, 1.0713000297546387, 1.0712000131607056, 1.0700000524520874, 1.069599986076355, 1.069200038909912, 1.069200038909912, 1.0662000179290771, 1.069100022315979, 1.0648000240325928, 1.0503000020980835, 1.0618000030517578, 1.0391000509262085, 1.0360000133514404, 1.0500999689102173, 1.0513999462127686, 1.0377000570297241, 0.9704999923706055, 1.0241999626159668, 0.9527000188827515, 1.0104999542236328, 0.9528999924659729, 0.9732999801635742, 0.9197999835014343, 0.9060999751091003, 0.9539999961853027, 0.9061999917030334, 0.949400007724762, 0.8550999760627747, 0.9437999725341797, 0.919700026512146, 0.7860000133514404, 0.850600004196167, 0.8348000049591064, 0.8589000105857849, 0.8682000041007996, 0.9394000172615051, 0.8172000050544739, 0.8420000076293945, 0.7735000252723694, 0.6177999973297119, 0.6912000179290771, 0.6917999982833862, 0.39079999923706055, 0.501800000667572, 0.45989999175071716, -0.05009999871253967, 1.2474000453948975, 1.246899962425232, 1.2437000274658203, 1.2430000305175781, 1.2422000169754028, 1.240399956703186, 1.2391999959945679, 1.2389999628067017, 1.2309999465942383, 1.229200005531311, 1.229200005531311, 1.229099988937378, 1.2283999919891357, 1.2246999740600586, 1.2217999696731567, 1.2210999727249146, 1.2202999591827393, 1.2201999425888062, 1.2193000316619873, 1.214900016784668, 1.2117999792099, 1.208899974822998, 1.2070000171661377, 1.2059999704360962, 1.2022000551223755, 1.201200008392334, 1.2000999450683594, 1.1994999647140503, 1.1991000175476074, 1.1978000402450562, 1.1848000288009644, 1.1816999912261963, 1.184499979019165, 1.184000015258789, 1.1793999671936035, 1.184999942779541, 1.1713000535964966, 1.1456999778747559, 1.0982999801635742, 1.141700029373169, 1.0765000581741333, 0.9843999743461609, 1.0679999589920044, 0.9998000264167786, 0.9965999722480774, 0.7688999772071838, 1.017300009727478, 0.9021000266075134, 1.0896999835968018, 0.8877999782562256, 0.8424999713897705, 0.8021000027656555, 0.7728000283241272, 0.9042999744415283, 0.9050999879837036, 0.550599992275238, 0.767300009727478, 0.7064999938011169, 0.8295999765396118, 0.4244000017642975, 0.5069000124931335, 0.8677999973297119, 0.5669000148773193, 0.6873999834060669, 0.779699981212616, 0.26649999618530273, 0.37610000371932983, -0.03700000047683716, 0.37929999828338623, 1.642699956893921, 1.6418999433517456, 1.638800024986267, 1.6279000043869019, 1.6232999563217163, 1.6197999715805054, 1.61899995803833, 1.618899941444397, 1.6124000549316406, 1.611199975013733, 1.6023999452590942, 1.5996999740600586, 1.5990999937057495, 1.5951000452041626, 1.5949000120162964, 1.5947999954223633, 1.5937999486923218, 1.593000054359436, 1.590999960899353, 1.590999960899353, 1.5908000469207764, 1.5901999473571777, 1.5887000560760498, 1.5865999460220337, 1.5858999490737915, 1.5841000080108643, 1.5836999416351318, 1.5825999975204468, 1.5823999643325806, 1.5822999477386475, 1.5814000368118286, 1.5793999433517456, 1.5743999481201172, 1.576300024986267, 1.5706000328063965, 1.531000018119812, 1.5469000339508057, 1.5190999507904053, 1.569599986076355, 1.517300009727478, 1.506100058555603, 1.5570000410079956, 1.4491000175476074, 1.556399941444397, 1.5232000350952148, 1.4228999614715576, 1.4526000022888184, 1.4716999530792236, 1.319000005722046, 1.2172000408172607, 1.4217000007629395, 1.3091000318527222, 1.2151999473571777, 1.1233999729156494, 0.9871000051498413, 1.395900011062622, 1.0597000122070312, 1.0080000162124634, 1.3178000450134277, 1.0104999542236328, 1.3011000156402588, 0.9179999828338623, 0.7440999746322632, 1.154099941253662, 0.6992999911308289, 0.9635999798774719, 0.8765000104904175, 0.9660000205039978, 0.7480000257492065, 0.7612000107765198, 1.007099986076355, 0.36559998989105225, 0.40709999203681946, 0.5479999780654907, 0.3977000117301941, 2.047600030899048, 2.046999931335449, 2.0376999378204346, 2.0364999771118164, 2.033799886703491, 2.0322000980377197, 2.0313000679016113, 2.0304999351501465, 2.0292000770568848, 2.0255000591278076, 2.0236001014709473, 2.020699977874756, 2.020400047302246, 2.0199999809265137, 2.017400026321411, 2.016900062561035, 2.0160000324249268, 2.0113000869750977, 2.0085999965667725, 2.0081000328063965, 2.0078001022338867, 2.007499933242798, 2.0048000812530518, 2.003200054168701, 2.002700090408325, 2.0018999576568604, 2.001499891281128, 1.998900055885315, 1.9988000392913818, 1.9984999895095825, 1.9970999956130981, 1.9805999994277954, 1.9707000255584717, 1.9881999492645264, 1.976699948310852, 1.9342000484466553, 1.9804999828338623, 1.958799958229065, 1.9872000217437744, 1.9704999923706055, 1.823699951171875, 1.7752000093460083, 1.9149999618530273, 1.8741999864578247, 1.9113999605178833, 1.7962000370025635, 1.555400013923645, 1.579699993133545, 1.8172999620437622, 1.5715999603271484, 1.5104999542236328, 1.5379999876022339, 1.6139999628067017, 1.3341000080108643, 1.5293999910354614, 1.437399983406067, 1.5023000240325928, 1.3043999671936035, 1.4362000226974487, 1.2960000038146973, 1.419100046157837, 1.676200032234192, 0.8661999702453613, 1.2192000150680542, 3.319700002670288, 3.3155999183654785, 3.3069000244140625, 3.2999000549316406, 3.2960000038146973, 3.2948999404907227, 3.259399890899658, 3.246500015258789, 3.2460999488830566, 3.2379000186920166, 3.2374000549316406, 3.2232000827789307, 3.2232000827789307, 3.220599889755249, 3.2200000286102295, 3.2132999897003174, 3.2098000049591064, 3.203000068664551, 3.1981000900268555, 3.197999954223633, 3.19569993019104, 3.1940999031066895, 3.1940999031066895, 3.1789000034332275, 3.1738998889923096, 3.173799991607666, 3.17330002784729, 3.158900022506714, 3.15310001373291, 3.151900053024292, 3.1468000411987305, 3.137200117111206, 3.149399995803833, 3.099600076675415, 3.0085999965667725, 3.1066999435424805, 2.9858999252319336, 3.109100103378296, 2.8355000019073486, 2.973900079727173, 2.849299907684326, 3.121000051498413, 2.94569993019104, 2.958400011062622, 2.301500082015991, 2.294300079345703, 2.407399892807007, 2.3954999446868896, 2.4834001064300537, 2.2713000774383545, 2.1900999546051025, 1.8430999517440796, 2.4430999755859375, 1.7101999521255493, 1.936900019645691, 1.9122999906539917, 1.6039999723434448, 1.6744999885559082, 1.9807000160217285, 1.6632000207901, 1.764799952507019, 1.3737000226974487, 0.6277999877929688, 3.8320000171661377, 3.818700075149536, 3.8176000118255615, 3.8124001026153564, 3.811000108718872, 3.8032000064849854, 3.7904999256134033, 3.768399953842163, 3.76200008392334, 3.7569000720977783, 3.7548999786376953, 3.7385001182556152, 3.7295000553131104, 3.727299928665161, 3.7116000652313232, 3.6928000450134277, 3.6726999282836914, 3.670599937438965, 3.6689999103546143, 3.6552999019622803, 3.6547999382019043, 3.653899908065796, 3.6217000484466553, 3.5996999740600586, 3.5934998989105225, 3.5920000076293945, 3.5920000076293945, 3.5629000663757324, 3.539799928665161, 3.536799907684326, 3.5325000286102295, 3.5039000511169434, 3.473900079727173, 3.484999895095825, 3.412400007247925, 3.2253000736236572, 2.648400068283081, 2.537899971008301, 2.657599925994873, 2.417099952697754, 3.0957999229431152, 3.890899896621704, 3.8517000675201416, 3.8396999835968018, 3.8341000080108643, 3.8285999298095703, 3.8282999992370605, 3.8217999935150146, 3.814500093460083, 3.814199924468994, 3.81030011177063, 3.799999952316284, 3.7832000255584717, 3.777600049972534, 3.774399995803833, 3.7725000381469727, 3.7625999450683594, 3.7623000144958496, 3.7388999462127686, 3.7195000648498535, 3.6975998878479004, 3.6745998859405518, 3.6735000610351562, 3.6496999263763428, 3.648099899291992, 3.646399974822998, 3.640399932861328, 3.5532000064849854, 3.5443999767303467, 3.485599994659424, 3.4711999893188477, 3.3494999408721924, 3.411799907684326, 3.3264999389648438, 2.9391000270843506, 2.8566999435424805]}, \"token.table\": {\"Topic\": [1, 2, 3, 1, 2, 3, 4, 5, 1, 2, 3, 4, 5, 7, 1, 2, 3, 4, 5, 7, 2, 3, 1, 2, 3, 4, 1, 2, 3, 4, 7, 2, 6, 3, 4, 4, 1, 2, 3, 3, 3, 4, 7, 1, 2, 3, 4, 5, 1, 2, 3, 4, 5, 6, 1, 2, 3, 4, 1, 2, 3, 4, 5, 1, 3, 1, 2, 3, 5, 1, 2, 3, 5, 5, 5, 1, 6, 1, 2, 3, 2, 3, 1, 2, 4, 1, 2, 6, 1, 2, 3, 4, 6, 3, 1, 6, 1, 1, 5, 2, 6, 5, 7, 2, 1, 2, 2, 1, 3, 5, 1, 2, 5, 1, 2, 3, 4, 5, 1, 2, 3, 4, 1, 2, 4, 4, 6, 1, 2, 3, 4, 1, 2, 3, 2, 1, 6, 1, 2, 1, 2, 4, 6, 1, 2, 3, 4, 5, 1, 2, 3, 4, 1, 3, 4, 5, 2, 2, 1, 2, 3, 1, 2, 3, 4, 5, 1, 2, 3, 4, 5, 1, 2, 3, 4, 5, 1, 2, 3, 1, 2, 3, 4, 5, 1, 2, 3, 4, 1, 2, 3, 4, 5, 2, 1, 2, 3, 4, 1, 2, 3, 4, 5, 1, 2, 3, 5, 1, 4, 1, 2, 3, 4, 2, 3, 1, 3, 4, 1, 3, 4, 2, 5, 1, 2, 6, 1, 2, 5, 2, 1, 2, 5, 2, 1, 2, 3, 4, 5, 1, 2, 3, 1, 2, 3, 4, 5, 1, 4, 7, 1, 2, 3, 4, 3, 7, 1, 2, 3, 4, 1, 2, 3, 4, 5, 1, 2, 3, 1, 2, 5, 4, 1, 2, 1, 2, 3, 5, 1, 2, 3, 4, 1, 2, 7, 4, 6, 2, 4, 7, 7, 1, 2, 3, 5, 5, 1, 2, 3, 4, 1, 2, 3, 4, 7, 2, 3, 1, 2, 1, 2, 3, 4, 1, 2, 5, 4, 1, 2, 3, 4, 5, 1, 2, 3, 4, 2, 1, 2, 3, 4, 7, 1, 2, 3, 4, 5, 1, 6, 1, 2, 1, 6, 7, 1, 2, 3, 5, 1, 3, 4, 1, 2, 3, 7, 1, 2, 3, 4, 2, 3, 4, 7, 1, 2, 3, 4, 3, 1, 2, 1, 3, 4, 4, 1, 2, 4, 1, 2, 3, 4, 5, 1, 2, 3, 1, 2, 3, 5, 6, 1, 2, 5, 1, 2, 3, 4, 5, 1, 2, 1, 1, 1, 3, 3, 4, 3, 4, 3, 4, 1, 2, 3, 4, 5, 1, 2, 3, 4, 6, 5, 1, 4, 6, 5, 1, 2, 3, 4, 2, 3, 6, 1, 2, 3, 4, 5, 1, 2, 3, 4, 3, 4, 1, 2, 3, 4, 3, 7, 1, 2, 3, 4, 1, 3, 4, 1, 2, 2, 3, 5, 1, 2, 3, 4, 5, 1, 2, 3, 4, 2, 2, 3, 4, 1, 2, 1, 3, 6, 1, 7, 1, 2, 4, 1, 2, 3, 1, 2, 3, 1, 2, 3, 4, 3, 3, 6, 1, 5, 3, 5, 5, 3, 2, 3, 4, 1, 2, 3, 1, 2, 3, 4, 1, 5, 3, 2, 1, 2, 3, 4, 1, 2, 3, 4, 1, 2, 3, 4, 5, 2, 3, 4, 1, 2, 3, 4, 5, 3, 7, 2, 7, 1, 2, 3, 5, 1, 2, 5, 1, 2, 5, 1, 2, 3, 5, 1, 5, 1, 2, 3, 4, 5, 1, 2, 3, 4, 1, 7, 1, 2, 3, 4, 2, 1, 1, 2, 3, 4, 5, 1, 4, 1, 2, 3, 4, 5, 1, 2, 2, 3, 4, 6, 1, 2, 3, 4, 6, 1, 2, 3, 4, 1, 2, 3, 4, 1, 4, 5, 4, 6, 5, 1, 7, 6, 1, 2, 3, 4, 5, 3, 4, 3, 3, 4, 7, 3, 4, 1, 3, 7, 2, 4, 2, 6, 1, 2, 1, 2, 3, 4, 1, 2, 3, 4, 1, 3, 5, 1, 5, 1, 2, 5, 1, 2, 3, 4, 4, 1, 1, 2, 1, 2, 3, 4, 1, 2, 3, 4, 5, 1, 1, 2, 5, 1, 2, 3, 4, 5, 6, 1, 6, 1, 2, 3, 4, 6, 1, 2, 3, 4, 5, 1, 2, 3, 4, 1, 2, 3, 1, 7, 1, 2, 3, 4, 3, 1, 2, 3, 4, 1, 2, 3, 4, 5, 1, 2, 3, 4, 1, 2, 3, 4, 2, 7, 3, 6, 5, 5, 1, 4, 1, 2, 3, 3, 4, 3, 7, 4, 1, 2, 3, 4, 5, 4, 1, 2, 3, 4, 4, 1, 2, 1, 2, 1, 2, 3, 4, 5, 1, 2, 4, 7, 1, 2, 5, 2, 1, 3, 1, 2, 3, 1, 2, 3, 1, 2, 6, 1, 2, 3, 4, 1, 2, 3, 4, 1, 2, 4, 3, 4, 2, 3, 1, 2, 3, 4, 1, 4, 4, 2, 1, 4, 7, 4, 2, 4, 5, 1, 2, 3, 4, 6, 1, 6, 1, 2, 3, 4, 5, 6, 1, 2, 3, 4, 5, 1, 5, 1, 2, 3, 1, 2, 3, 4, 1, 2, 3, 4, 1, 2, 3, 4, 5, 1, 2, 3, 4, 5, 1, 6, 7, 2, 7, 1, 2, 3, 4, 5, 1, 2, 3, 4, 1, 2, 4, 5, 5, 7, 3, 1, 2, 3, 5, 2, 5, 1, 5, 5, 3, 1, 4, 1, 2, 4, 1, 3, 1, 1, 2, 3, 4, 5, 1, 3, 5, 1, 2, 3, 3, 1, 2, 1, 2, 3, 4, 5, 1, 2, 3, 4, 1, 2, 6, 1, 7, 3, 7, 7, 1, 2, 3, 4, 1, 2, 3, 4, 1, 4, 5, 7, 3, 4, 1, 2, 3, 4, 1, 2, 3, 4, 5, 4, 4, 1, 1, 2, 3, 4, 5, 1, 2, 3, 1, 2, 3, 4, 1, 2, 3, 4, 2, 4, 1, 2, 3, 1, 3, 5, 2, 2, 3, 4, 6, 1, 6, 5, 1, 2, 3, 4, 1, 2, 4, 1, 2, 3, 4, 5, 6, 3, 1, 1, 2, 3, 4, 5, 4, 1, 2, 6, 1, 2, 3, 4, 1, 2, 1, 2, 3, 1, 2, 5, 4, 1, 2, 5, 1, 2, 3, 4, 5, 5, 1, 2, 3, 4, 5, 1, 2, 3, 6, 1, 2, 3, 4, 1, 1, 2, 3, 4, 5, 1, 3, 4, 6, 1, 2, 4, 3, 4, 6, 2, 4, 6, 4, 3, 2, 5, 1, 4, 3, 1, 1, 6], \"Freq\": [0.04132667928934097, 0.06199002265930176, 0.8678603172302246, 0.7143285870552063, 0.16130000352859497, 0.0614476203918457, 0.026883333921432495, 0.03456428647041321, 0.43218231201171875, 0.18622490763664246, 0.02459574118256569, 0.010541032068431377, 0.34434038400650024, 0.9132565259933472, 0.6466186046600342, 0.10103415697813034, 0.05556878820061684, 0.010103415697813034, 0.1818614900112152, 0.9687432050704956, 0.9036632776260376, 0.04518316313624382, 0.017231181263923645, 0.24985213577747345, 0.6978628635406494, 0.025846771895885468, 0.032839905470609665, 0.07662644982337952, 0.8538375496864319, 0.032839905470609665, 0.8935903906822205, 0.2677452564239502, 0.6961376667022705, 0.0074167996644973755, 0.9864344000816345, 0.9292153716087341, 0.019955936819314957, 0.9578849673271179, 0.019955936819314957, 0.9343510866165161, 0.13072846829891205, 0.13072846829891205, 0.6536422967910767, 0.5621345043182373, 0.13651837408542633, 0.1847013384103775, 0.01606098562479019, 0.10038115829229355, 0.14371158182621002, 0.15169556438922882, 0.04790386185050011, 0.5828303098678589, 0.06387181580066681, 0.9021284580230713, 0.04305771365761757, 0.07176285237073898, 0.08611542731523514, 0.7750388383865356, 0.14644946157932281, 0.24783755838871002, 0.49567511677742004, 0.09012274444103241, 0.011265343055129051, 0.9810741543769836, 0.9818982481956482, 0.25451019406318665, 0.5263733863830566, 0.034705936908721924, 0.1793140023946762, 0.7272548675537109, 0.0490284189581871, 0.016342805698513985, 0.20428507030010223, 0.8395401835441589, 0.9382046461105347, 0.09713702648878098, 0.8742331862449646, 0.8504651188850403, 0.13757523894309998, 0.006253420375287533, 0.9474779367446899, 0.04119469225406647, 0.8750773668289185, 0.09860026836395264, 0.02465006709098816, 0.10157329589128494, 0.20314659178256989, 0.6602264642715454, 0.05158940702676773, 0.05158940702676773, 0.017196469008922577, 0.8598234057426453, 0.7181125283241272, 0.9097830057144165, 0.9745497107505798, 0.8042364120483398, 0.9615739583969116, 0.035741109400987625, 0.9292688965797424, 0.18102779984474182, 0.7241111993789673, 0.8442986607551575, 0.8736628890037537, 0.9282680153846741, 0.1433286964893341, 0.8313064575195312, 0.9573639631271362, 0.06410929560661316, 0.06410929560661316, 0.7693115472793579, 0.05629586800932884, 0.5516995191574097, 0.38281190395355225, 0.2941286265850067, 0.6043006181716919, 0.03743455186486244, 0.04278234392404556, 0.02139117196202278, 0.22143544256687164, 0.22814561426639557, 0.006710164714604616, 0.5368131995201111, 0.3842375874519348, 0.03920791670680046, 0.5724355578422546, 0.10768847912549973, 0.7538194060325623, 0.10660546272993088, 0.12259627878665924, 0.01599081978201866, 0.7515684962272644, 0.01981206424534321, 0.9509790539741516, 0.01981206424534321, 0.9494580626487732, 0.24253371357917786, 0.7276011109352112, 0.3060470223426819, 0.688605785369873, 0.4365750551223755, 0.5566331744194031, 0.005457188002765179, 0.9241162538528442, 0.5456361174583435, 0.1818787157535553, 0.1586601585149765, 0.054176636040210724, 0.061916157603263855, 0.008947749622166157, 0.026843249797821045, 0.008947749622166157, 0.9484614729881287, 0.5289671421051025, 0.10371904820203781, 0.020743809640407562, 0.331900954246521, 0.9536893963813782, 0.9560257196426392, 0.060767438262701035, 0.020255813375115395, 0.9115115404129028, 0.32981055974960327, 0.20296034216880798, 0.1775902956724167, 0.04228340461850166, 0.2537004351615906, 0.7845289707183838, 0.15508130192756653, 0.0456121489405632, 0.00912242941558361, 0.004561214707791805, 0.128629669547081, 0.19163194298744202, 0.6378981471061707, 0.007875285111367702, 0.03412623703479767, 0.013846822082996368, 0.9138903021812439, 0.055387288331985474, 0.17167365550994873, 0.7477988004684448, 0.026187507435679436, 0.04946529120206833, 0.0029097229707986116, 0.029734864830970764, 0.05946972966194153, 0.862311065196991, 0.039646487683057785, 0.2297818809747696, 0.33318373560905457, 0.02297818847000599, 0.02297818847000599, 0.37914010882377625, 0.954616129398346, 0.8527878522872925, 0.046410225331783295, 0.046410225331783295, 0.05221150442957878, 0.8290787935256958, 0.06320331245660782, 0.03717841953039169, 0.04833194613456726, 0.022307051345705986, 0.09258230030536652, 0.15430383384227753, 0.06172153353691101, 0.6480761170387268, 0.02989925630390644, 0.926876962184906, 0.21331486105918884, 0.05925412476062775, 0.10665743052959442, 0.6103175282478333, 0.8772412538528442, 0.11139571666717529, 0.1331424117088318, 0.07396800816059113, 0.7840608358383179, 0.03783122077584267, 0.05674682930111885, 0.9079492688179016, 0.9472126960754395, 0.04510536789894104, 0.43464380502700806, 0.255672812461853, 0.2812401056289673, 0.02180926874279976, 0.9705124497413635, 0.00545231718569994, 0.9429019093513489, 0.012445145286619663, 0.9458310604095459, 0.037335436791181564, 0.9577645063400269, 0.32598042488098145, 0.23027974367141724, 0.3798120319843292, 0.03887839987874031, 0.023925168439745903, 0.010334670543670654, 0.010334670543670654, 0.9714590311050415, 0.29186898469924927, 0.4936019480228424, 0.09442820399999619, 0.09013600647449493, 0.025753146037459373, 0.9755905270576477, 0.955229640007019, 0.7264948487281799, 0.015767715871334076, 0.9145275354385376, 0.03153543174266815, 0.03153543174266815, 0.11900783330202103, 0.7140470147132874, 0.12028259038925171, 0.4256153106689453, 0.39785778522491455, 0.0508887879550457, 0.7610144019126892, 0.07502958923578262, 0.025009863078594208, 0.10718512535095215, 0.028582699596881866, 0.0901217833161354, 0.8175333142280579, 0.0836845114827156, 0.9764819741249084, 0.01176484301686287, 0.9633115530014038, 0.944612979888916, 0.9702784419059753, 0.022434184327721596, 0.7774844169616699, 0.08684666454792023, 0.07857555896043777, 0.053762223571538925, 0.54289311170578, 0.11709459871053696, 0.037257373332977295, 0.30338147282600403, 0.11657346785068512, 0.11657346785068512, 0.5828673243522644, 0.10316731035709381, 0.8253384828567505, 0.06658435612916946, 0.044389571994543076, 0.8655966520309448, 0.7600939869880676, 0.173289954662323, 0.23105326294898987, 0.006418146193027496, 0.587260365486145, 0.9078589677810669, 0.05207669362425804, 0.8983229398727417, 0.02603834681212902, 0.01301917340606451, 0.09619425982236862, 0.648045539855957, 0.18732567131519318, 0.06075426936149597, 0.8258506059646606, 0.9459676146507263, 0.029561487957835197, 0.014484998770058155, 0.9704949259757996, 0.17473013699054718, 0.6246602535247803, 0.16599363088607788, 0.034946028143167496, 0.1606554388999939, 0.024716220796108246, 0.8032771944999695, 0.9740867018699646, 0.015852173790335655, 0.42800870537757874, 0.12681739032268524, 0.015852173790335655, 0.41215652227401733, 0.13441284000873566, 0.12097156047821045, 0.05376513674855232, 0.6720642447471619, 0.9247714281082153, 0.446361243724823, 0.05709271878004074, 0.40483927726745605, 0.08304395526647568, 0.9124960899353027, 0.7775334715843201, 0.052245333790779114, 0.15673600137233734, 0.009219764731824398, 0.006146509665995836, 0.20410406589508057, 0.714364230632782, 0.9317246675491333, 0.06405606865882874, 0.1584559977054596, 0.7922799587249756, 0.8944845795631409, 0.9028355479240417, 0.01736222207546234, 0.060767777264118195, 0.01736222207546234, 0.9602630138397217, 0.060922570526599884, 0.9138385653495789, 0.03998253121972084, 0.23989519476890564, 0.7063580751419067, 0.9581602811813354, 0.27772924304008484, 0.10636439174413681, 0.5790950059890747, 0.02954566478729248, 0.08554600179195404, 0.17109200358390808, 0.17109200358390808, 0.5132759809494019, 0.03537055477499962, 0.1326395720243454, 0.22548727691173553, 0.6012994050979614, 0.9365745782852173, 0.9475207924842834, 0.032119348645210266, 0.3203827440738678, 0.030512642115354538, 0.6407654881477356, 0.9354705214500427, 0.11207875609397888, 0.018679793924093246, 0.8592705130577087, 0.16974586248397827, 0.08487293124198914, 0.5169532895088196, 0.16974586248397827, 0.046294327825307846, 0.25679609179496765, 0.03851941227912903, 0.6933494806289673, 0.23833845555782318, 0.10214505344629288, 0.6355692148208618, 0.017024176195263863, 0.0056747253984212875, 0.09445307403802872, 0.11806634068489075, 0.7556245923042297, 0.31001242995262146, 0.3011549413204193, 0.18157871067523956, 0.03542999178171158, 0.17272120714187622, 0.07443566620349884, 0.9056339263916016, 0.9810084104537964, 0.9713693857192993, 0.06498230248689651, 0.9097522497177124, 0.11230423301458359, 0.8773768544197083, 0.07102259993553162, 0.9090893268585205, 0.9291518330574036, 0.9232228994369507, 0.07964348793029785, 0.6437848806381226, 0.039821743965148926, 0.006636957637965679, 0.2322935163974762, 0.3370751440525055, 0.12870141863822937, 0.06128638982772827, 0.46577656269073486, 0.8955340385437012, 0.930523693561554, 0.18150603771209717, 0.06050201132893562, 0.7865261435508728, 0.8339300155639648, 0.053830552846193314, 0.9151193499565125, 0.01794351637363434, 0.00897175818681717, 0.048609357327222824, 0.048609357327222824, 0.8749684691429138, 0.8545394539833069, 0.091944120824337, 0.037859342992305756, 0.005408477503806353, 0.005408477503806353, 0.2591116726398468, 0.6089124083518982, 0.05830012634396553, 0.0647779181599617, 0.9331439733505249, 0.9403132796287537, 0.42264771461486816, 0.019889304414391518, 0.5171219110488892, 0.03480628505349159, 0.947962760925293, 0.8648387789726257, 0.27887922525405884, 0.17927950620651245, 0.4979986250400543, 0.04647986963391304, 0.02993345819413662, 0.8980037569999695, 0.02993345819413662, 0.028330842033028603, 0.9349177479743958, 0.129958838224411, 0.051983535289764404, 0.8057447671890259, 0.8160290122032166, 0.06101151555776596, 0.06482473760843277, 0.04957185685634613, 0.0038132197223603725, 0.026286767795681953, 0.039430152624845505, 0.006571691948920488, 0.9200368523597717, 0.973680317401886, 0.9338968992233276, 0.04789214953780174, 0.007982024922966957, 0.9704102873802185, 0.019804291427135468, 0.9788368344306946, 0.05744694545865059, 0.8617041707038879, 0.0669698417186737, 0.8706079125404358, 0.9424558877944946, 0.03968235105276108, 0.00992058776319027, 0.0784880593419075, 0.05606289952993393, 0.8633686900138855, 0.04885584115982056, 0.06514111906290054, 0.87940514087677, 0.10564194619655609, 0.8387330174446106, 0.04481779411435127, 0.009603813290596008, 0.8954516053199768, 0.29579591751098633, 0.6761049628257751, 0.06919438391923904, 0.8303326368331909, 0.9093343019485474, 0.9367603659629822, 0.8619109988212585, 0.9457252025604248, 0.022554289549589157, 0.045108579099178314, 0.9247258901596069, 0.027745680883526802, 0.09710988402366638, 0.873988926410675, 0.30887770652770996, 0.08423937857151031, 0.011231916956603527, 0.5896756649017334, 0.051743388175964355, 0.8796375393867493, 0.9099084138870239, 0.9453296065330505, 0.10158391296863556, 0.48534536361694336, 0.39787033200263977, 0.016930652782320976, 0.13672582805156708, 0.045575276017189026, 0.8021248579025269, 0.009115055203437805, 0.8284304738044739, 0.10220895707607269, 0.03765593096613884, 0.026897093281149864, 0.7641310691833496, 0.03015875443816185, 0.9047626256942749, 0.0603175088763237, 0.37411510944366455, 0.147798553109169, 0.24479135870933533, 0.041568342596292496, 0.1893669068813324, 0.9600780606269836, 0.8474862575531006, 0.13321925699710846, 0.7993155717849731, 0.7657936215400696, 0.09518338739871979, 0.06057124584913254, 0.07355079799890518, 0.6541857123374939, 0.036855533719062805, 0.30405816435813904, 0.272559255361557, 0.12309128046035767, 0.5978719592094421, 0.2778759002685547, 0.29331347346305847, 0.015437550842761993, 0.40137630701065063, 0.2915150225162506, 0.6559087634086609, 0.4871048033237457, 0.42841747403144836, 0.04694985970854759, 0.020540563389658928, 0.014671831391751766, 0.056557558476924896, 0.44438081979751587, 0.056557558476924896, 0.42822152376174927, 0.5441440343856812, 0.3627627193927765, 0.15668120980262756, 0.03730505332350731, 0.32828444242477417, 0.46258264780044556, 0.9267794489860535, 0.9680173993110657, 0.32341423630714417, 0.21021924912929535, 0.11319497972726822, 0.008085356093943119, 0.33958494663238525, 0.037715356796979904, 0.9428839087486267, 0.7472967505455017, 0.16736333072185516, 0.042813874781131744, 0.02335302345454693, 0.019460851326584816, 0.0350651852786541, 0.9467599987983704, 0.08742865175008774, 0.04371432587504387, 0.17485730350017548, 0.6557149291038513, 0.024162784218788147, 0.24162784218788147, 0.28995341062545776, 0.21746505796909332, 0.21746505796909332, 0.11380592733621597, 0.06503196060657501, 0.7072225213050842, 0.11380592733621597, 0.1015114039182663, 0.688827395439148, 0.02175244316458702, 0.17401954531669617, 0.04659045487642288, 0.93180912733078, 0.8360950946807861, 0.9591979384422302, 0.7692103981971741, 0.8326486945152283, 0.9632936716079712, 0.9005957245826721, 0.9167560338973999, 0.6130147576332092, 0.26992830634117126, 0.10343047231435776, 0.0075680832378566265, 0.0075680832378566265, 0.9790531396865845, 0.014834138564765453, 0.8932824730873108, 0.9613157510757446, 0.9777165055274963, 0.9323635101318359, 0.03319542109966278, 0.9543684124946594, 0.9693231582641602, 0.9501692652702332, 0.8806406855583191, 0.9520081877708435, 0.9487589597702026, 0.3317466676235199, 0.6220250129699707, 0.9473369717597961, 0.04164118319749832, 0.016349203884601593, 0.15259256958961487, 0.8011109828948975, 0.021798938512802124, 0.2094832807779312, 0.017456939443945885, 0.7681053280830383, 0.017456939443945885, 0.043338727205991745, 0.9101132750511169, 0.7798835039138794, 0.06675071269273758, 0.8677592873573303, 0.2435719072818756, 0.05412709340453148, 0.6982395052909851, 0.1884530782699585, 0.6808627247810364, 0.030395658686757088, 0.09726610779762268, 0.9694960713386536, 0.978348433971405, 0.037594206631183624, 0.93985515832901, 0.18087545037269592, 0.06782829016447067, 0.26226940751075745, 0.48384183645248413, 0.209260031580925, 0.5686413645744324, 0.11372827738523483, 0.045491307973861694, 0.06368783116340637, 0.9604234099388123, 0.01197142992168665, 0.17957144975662231, 0.802085816860199, 0.30113211274147034, 0.30113211274147034, 0.014809776097536087, 0.16784413158893585, 0.217210054397583, 0.8887835741043091, 0.08907453715801239, 0.8016708493232727, 0.8570491075515747, 0.023163488134741783, 0.023163488134741783, 0.09265395253896713, 0.9165474772453308, 0.053529318422079086, 0.7570575475692749, 0.13764682412147522, 0.03823522850871086, 0.007647045888006687, 0.19287951290607452, 0.11869508773088455, 0.10880383104085922, 0.5736929178237915, 0.9225481152534485, 0.05633881688117981, 0.02112705633044243, 0.11452039331197739, 0.8016427755355835, 0.029992450028657913, 0.07498112320899963, 0.8247923851013184, 0.059984900057315826, 0.9142618179321289, 0.194891095161438, 0.16148118674755096, 0.022273268550634384, 0.6180831789970398, 0.35092419385910034, 0.2822650969028473, 0.2822650969028473, 0.07628786563873291, 0.0038143934216350317, 0.14178286492824554, 0.33580151200294495, 0.5074334144592285, 0.014924511313438416, 0.10197128355503082, 0.4078851342201233, 0.471617192029953, 0.012746410444378853, 0.13685466349124908, 0.8211279511451721, 0.2094200998544693, 0.7329703569412231, 0.8505758047103882, 0.7572851777076721, 0.037975478917360306, 0.9493870139122009, 0.06890159845352173, 0.1435449868440628, 0.7808847427368164, 0.9534287452697754, 0.019863098859786987, 0.3188953399658203, 0.6377906799316406, 0.9579205513000488, 0.3212883770465851, 0.4085518717765808, 0.18246005475521088, 0.06743089109659195, 0.019832614809274673, 0.9584429264068604, 0.18000124394893646, 0.011250077746808529, 0.03375023230910301, 0.7650052905082703, 0.9673358201980591, 0.980254590511322, 0.013246683403849602, 0.9529913067817688, 0.0198539849370718, 0.235255166888237, 0.35518917441368103, 0.32751208543777466, 0.0738055408000946, 0.004612846300005913, 0.9671737551689148, 0.010990610346198082, 0.010990610346198082, 0.8497012257575989, 0.14943933486938477, 0.04981311410665512, 0.7970098257064819, 0.9777552485466003, 0.9735011458396912, 0.013155421242117882, 0.030582627281546593, 0.030582627281546593, 0.9174787998199463, 0.05464901402592659, 0.9153710007667542, 0.027324507012963295, 0.2401377558708191, 0.0343053936958313, 0.686107873916626, 0.2169041633605957, 0.759164571762085, 0.013556510210037231, 0.006778255105018616, 0.8467197418212891, 0.12005727738142014, 0.018956411629915237, 0.012637607753276825, 0.9594115614891052, 0.02772865816950798, 0.011091463267803192, 0.015009736642241478, 0.975632905960083, 0.072161465883255, 0.9020183682441711, 0.012454241514205933, 0.012454241514205933, 0.9589766263961792, 0.012454241514205933, 0.052474409341812134, 0.9183021783828735, 0.9691898226737976, 0.9651612639427185, 0.03949762508273125, 0.9281941652297974, 0.7899941205978394, 0.9273531436920166, 0.27871382236480713, 0.019908130168914795, 0.676876425743103, 0.08466187864542007, 0.7713637948036194, 0.056441254913806915, 0.01881375163793564, 0.047034379094839096, 0.11615641415119171, 0.8130949139595032, 0.3133007884025574, 0.6026688814163208, 0.013054199516773224, 0.002175699919462204, 0.06527099758386612, 0.9130505323410034, 0.4706861078739166, 0.20464612543582916, 0.04775076359510422, 0.02728615142405033, 0.23875382542610168, 0.1918077915906906, 0.7672311663627625, 0.03971647098660469, 0.9134788513183594, 0.03971647098660469, 0.13309374451637268, 0.057040177285671234, 0.27569419145584106, 0.5228683352470398, 0.8706408739089966, 0.06664164364337921, 0.023647034540772438, 0.03869514912366867, 0.6603386998176575, 0.27013856172561646, 0.03001539595425129, 0.007503848988562822, 0.03001539595425129, 0.6604602932929993, 0.123615562915802, 0.13421118259429932, 0.07063746452331543, 0.010595619678497314, 0.08382445573806763, 0.8382444977760315, 0.5609965324401855, 0.1342029571533203, 0.8052178025245667, 0.5545566082000732, 0.21258002519607544, 0.06931957602500916, 0.027727829292416573, 0.13401784002780914, 0.030350428074598312, 0.8801624178886414, 0.08346367627382278, 0.007587607018649578, 0.07770741730928421, 0.05180494487285614, 0.05180494487285614, 0.8029766082763672, 0.8614754676818848, 0.7910407781600952, 0.8999271392822266, 0.030582528561353683, 0.19368934631347656, 0.08155341446399689, 0.6830098032951355, 0.06457886099815369, 0.8395251631736755, 0.05293819308280945, 0.9264183640480042, 0.8250681757926941, 0.9499495029449463, 0.16447782516479492, 0.8223890662193298, 0.960274338722229, 0.012976680882275105, 0.012976680882275105, 0.9603381752967834, 0.018119588494300842, 0.9536929130554199, 0.3129989504814148, 0.4639749228954315, 0.16202299296855927, 0.05891744792461395, 0.003682340495288372, 0.04205126315355301, 0.9251278042793274, 0.7757580280303955, 0.021449444815516472, 0.8150789141654968, 0.15014611184597015, 0.9411271810531616, 0.9609602689743042, 0.02343805506825447, 0.5219124555587769, 0.2072843760251999, 0.12585122883319855, 0.13695575296878815, 0.003701506881043315, 0.7711328268051147, 0.07672963291406631, 0.049874261021614075, 0.09591203927993774, 0.27348414063453674, 0.6947975158691406, 0.029565852135419846, 0.6114953756332397, 0.36689722537994385, 0.23277439177036285, 0.6983231902122498, 0.9348134994506836, 0.30914393067359924, 0.6065481901168823, 0.07043785601854324, 0.011739642359316349, 0.13971908390522003, 0.6691808700561523, 0.05147545039653778, 0.13971908390522003, 0.1220138818025589, 0.07320833206176758, 0.21962499618530273, 0.5734652280807495, 0.9057910442352295, 0.05843813344836235, 0.3550909161567688, 0.2753766179084778, 0.2717532515525818, 0.09420779347419739, 0.16605257987976074, 0.07865648716688156, 0.594293475151062, 0.017479220405220985, 0.12235453724861145, 0.9380961656570435, 0.9593086838722229, 0.9776698350906372, 0.4506530165672302, 0.2472609430551529, 0.2791655957698822, 0.015952318906784058, 0.003988079726696014, 0.9312856197357178, 0.05068220943212509, 0.0063352761790156364, 0.04590203985571861, 0.3978176712989807, 0.5457242727279663, 0.005100226495414972, 0.01503530703485012, 0.03007061406970024, 0.9171537160873413, 0.01503530703485012, 0.9005296230316162, 0.9623327851295471, 0.9677844047546387, 0.014444543980062008, 0.9330617189407349, 0.07380982488393784, 0.07380982488393784, 0.8119081258773804, 0.9703486561775208, 0.11252918839454651, 0.11252918839454651, 0.11252918839454651, 0.675175130367279, 0.10036502778530121, 0.702555239200592, 0.884017825126648, 0.8180551528930664, 0.0722779631614685, 0.0657072365283966, 0.042709704488515854, 0.44225946068763733, 0.017690377309918404, 0.5307113528251648, 0.7248541712760925, 0.1310906559228897, 0.08225295692682266, 0.020563239231705666, 0.03855607286095619, 0.9589688181877136, 0.8925734758377075, 0.981012225151062, 0.09071888029575348, 0.2469569593667984, 0.4535944163799286, 0.17639783024787903, 0.03023962676525116, 0.9310144186019897, 0.39588889479637146, 0.11311111599206924, 0.452444463968277, 0.131597638130188, 0.043865881860256195, 0.774963915348053, 0.043865881860256195, 0.9889295697212219, 0.006820203736424446, 0.9281493425369263, 0.031462687999010086, 0.031462687999010086, 0.9431914687156677, 0.042443618178367615, 0.009431914426386356, 0.9632520079612732, 0.9500548243522644, 0.017593607306480408, 0.841255247592926, 0.26614850759506226, 0.2728022038936615, 0.21291880309581757, 0.046575985848903656, 0.1996113657951355, 0.8025100827217102, 0.8563135266304016, 0.04013969749212265, 0.046829648315906525, 0.0535195954144001, 0.0022299832198768854, 0.4663042724132538, 0.10137049853801727, 0.16219279170036316, 0.26356327533721924, 0.4080575108528137, 0.36342620849609375, 0.1689613163471222, 0.054195139557123184, 0.9499398469924927, 0.1963006556034088, 0.22825656831264496, 0.515859842300415, 0.04108618199825287, 0.01369539462029934, 0.6682454347610474, 0.021556304767727852, 0.021556304767727852, 0.28023195266723633, 0.9917353391647339, 0.05525117367506027, 0.9392699599266052, 0.9249565601348877, 0.13803325593471527, 0.8281995058059692, 0.08566827327013016, 0.028556091710925102, 0.8566827178001404, 0.9624399542808533, 0.9564993381500244, 0.1001281887292862, 0.851089596748352, 0.035729795694351196, 0.9468395709991455, 0.9597604870796204, 0.9580298066139221, 0.43789467215538025, 0.5175119042396545], \"Term\": [\"abstract\", \"abstract\", \"abstract\", \"access\", \"access\", \"access\", \"access\", \"access\", \"account\", \"account\", \"account\", \"account\", \"account\", \"activesync\", \"address\", \"address\", \"address\", \"address\", \"address\", \"admx\", \"agil\", \"agil\", \"ai\", \"ai\", \"ai\", \"ai\", \"algorithm\", \"algorithm\", \"algorithm\", \"algorithm\", \"alphafold\", \"ama\", \"ama\", \"amd\", \"amd\", \"amper\", \"analyst\", \"analyst\", \"analyst\", \"annot\", \"aoc\", \"aoc\", \"aoc\", \"app\", \"app\", \"app\", \"app\", \"app\", \"appl\", \"appl\", \"appl\", \"appl\", \"appl\", \"argh\", \"arm\", \"arm\", \"arm\", \"arm\", \"articl\", \"articl\", \"articl\", \"articl\", \"articl\", \"aruba\", \"arxiv\", \"attack\", \"attack\", \"attack\", \"attack\", \"authent\", \"authent\", \"authent\", \"authent\", \"authi\", \"autodiscov\", \"autohotkey\", \"autohotkey\", \"azur\", \"azur\", \"azur\", \"bachelor\", \"bachelor\", \"backup\", \"backup\", \"backup\", \"banner\", \"banner\", \"banner\", \"batteri\", \"batteri\", \"batteri\", \"batteri\", \"bcc\", \"bert\", \"bgp\", \"binder\", \"bitlock\", \"bitwarden\", \"bitwarden\", \"blogger\", \"blogger\", \"bomgar\", \"bookstack\", \"bootcamp\", \"boss\", \"boss\", \"bounti\", \"brave\", \"brave\", \"brave\", \"breach\", \"breach\", \"breach\", \"busi\", \"busi\", \"busi\", \"busi\", \"busi\", \"buy\", \"buy\", \"buy\", \"buy\", \"cabl\", \"cabl\", \"cabl\", \"caddi\", \"caddi\", \"card\", \"card\", \"card\", \"card\", \"career\", \"career\", \"career\", \"ceh\", \"cento\", \"cento\", \"cert\", \"cert\", \"certif\", \"certif\", \"certif\", \"cheatsheet\", \"check\", \"check\", \"check\", \"check\", \"check\", \"chip\", \"chip\", \"chip\", \"chip\", \"chrome\", \"chrome\", \"chrome\", \"chrome\", \"ciso\", \"cissp\", \"classif\", \"classif\", \"classif\", \"click\", \"click\", \"click\", \"click\", \"click\", \"client\", \"client\", \"client\", \"client\", \"client\", \"code\", \"code\", \"code\", \"code\", \"code\", \"colleg\", \"colleg\", \"colleg\", \"compani\", \"compani\", \"compani\", \"compani\", \"compani\", \"compil\", \"compil\", \"compil\", \"compil\", \"compromis\", \"compromis\", \"compromis\", \"compromis\", \"compromis\", \"comptia\", \"configur\", \"configur\", \"configur\", \"configur\", \"connect\", \"connect\", \"connect\", \"connect\", \"connect\", \"cooki\", \"cooki\", \"cooki\", \"cooki\", \"cool\", \"cool\", \"core\", \"core\", \"core\", \"core\", \"cours\", \"cours\", \"cpu\", \"cpu\", \"cpu\", \"cpus\", \"cpus\", \"cpus\", \"crimin\", \"crimin\", \"cve\", \"cve\", \"cve\", \"cyber\", \"cyber\", \"cyber\", \"cybersec\", \"cybersecur\", \"cybersecur\", \"cybersecur\", \"cysa\", \"data\", \"data\", \"data\", \"data\", \"data\", \"dataset\", \"dataset\", \"dataset\", \"day\", \"day\", \"day\", \"day\", \"day\", \"dcs\", \"ddr\", \"defi\", \"degre\", \"degre\", \"degre\", \"degre\", \"des\", \"des\", \"develop\", \"develop\", \"develop\", \"develop\", \"devic\", \"devic\", \"devic\", \"devic\", \"devic\", \"devop\", \"devop\", \"devop\", \"dhcp\", \"dhcp\", \"dkim\", \"dlss\", \"dns\", \"dns\", \"domain\", \"domain\", \"domain\", \"domain\", \"drive\", \"drive\", \"drive\", \"drive\", \"drum\", \"drum\", \"drum\", \"dsc\", \"dsc\", \"duo\", \"duo\", \"duo\", \"ece\", \"email\", \"email\", \"email\", \"email\", \"emotet\", \"employ\", \"employ\", \"employ\", \"employ\", \"engin\", \"engin\", \"engin\", \"engin\", \"es\", \"ethic\", \"ethic\", \"exam\", \"exam\", \"experi\", \"experi\", \"experi\", \"experi\", \"fa\", \"fa\", \"fa\", \"fab\", \"facebook\", \"facebook\", \"facebook\", \"facebook\", \"facebook\", \"fan\", \"fan\", \"fan\", \"fan\", \"fbi\", \"featur\", \"featur\", \"featur\", \"featur\", \"fex\", \"file\", \"file\", \"file\", \"file\", \"file\", \"firebas\", \"firebas\", \"firewal\", \"firewal\", \"flask\", \"flask\", \"fmc\", \"folder\", \"folder\", \"folder\", \"folder\", \"fortig\", \"fps\", \"fps\", \"framework\", \"framework\", \"framework\", \"ftd\", \"function\", \"function\", \"function\", \"function\", \"fusion\", \"fusion\", \"fusion\", \"fusion\", \"game\", \"game\", \"game\", \"game\", \"gan\", \"gateway\", \"gateway\", \"gb\", \"gb\", \"gb\", \"geforc\", \"gen\", \"gen\", \"gen\", \"generat\", \"generat\", \"generat\", \"generat\", \"generat\", \"git\", \"git\", \"git\", \"github\", \"github\", \"github\", \"github\", \"github\", \"gmail\", \"gmail\", \"gmail\", \"googl\", \"googl\", \"googl\", \"googl\", \"googl\", \"govern\", \"govern\", \"gpo\", \"gpos\", \"gpt\", \"gpt\", \"gpu\", \"gpu\", \"gpus\", \"gpus\", \"gradient\", \"gtx\", \"hack\", \"hack\", \"hack\", \"hack\", \"hack\", \"hardwar\", \"hardwar\", \"hardwar\", \"hardwar\", \"hatch\", \"haveibeenpwn\", \"headless\", \"headless\", \"headless\", \"healthcheck\", \"hire\", \"hire\", \"hire\", \"hire\", \"hive\", \"hive\", \"hive\", \"host\", \"host\", \"host\", \"host\", \"host\", \"hour\", \"hour\", \"hour\", \"hour\", \"hyperparamet\", \"hz\", \"imag\", \"imag\", \"imag\", \"imag\", \"imagenet\", \"imessag\", \"implement\", \"implement\", \"implement\", \"implement\", \"infer\", \"infer\", \"infer\", \"infosec\", \"infosec\", \"instagram\", \"instagram\", \"instagram\", \"instal\", \"instal\", \"instal\", \"instal\", \"instal\", \"intel\", \"intel\", \"intel\", \"intel\", \"internship\", \"interview\", \"interview\", \"interview\", \"intun\", \"intun\", \"ipv\", \"ipynb\", \"ipynb\", \"irb\", \"irb\", \"isp\", \"isp\", \"isp\", \"java\", \"java\", \"java\", \"javascript\", \"javascript\", \"javascript\", \"job\", \"job\", \"job\", \"job\", \"julia\", \"jupyt\", \"jupyt\", \"keepass\", \"keepass\", \"kera\", \"kms\", \"knowb\", \"kotlin\", \"lake\", \"lake\", \"lake\", \"languag\", \"languag\", \"languag\", \"laptop\", \"laptop\", \"laptop\", \"laptop\", \"lastpass\", \"lastpass\", \"latent\", \"lawyer\", \"learn\", \"learn\", \"learn\", \"learn\", \"librari\", \"librari\", \"librari\", \"librari\", \"licens\", \"licens\", \"licens\", \"licens\", \"lighthous\", \"linear\", \"linear\", \"linear\", \"link\", \"link\", \"link\", \"link\", \"link\", \"lisp\", \"lmgtfi\", \"lmk\", \"lmk\", \"log\", \"log\", \"log\", \"log\", \"login\", \"login\", \"login\", \"mail\", \"mail\", \"mail\", \"malici\", \"malici\", \"malici\", \"malici\", \"malwarebyt\", \"malwarebyt\", \"manag\", \"manag\", \"manag\", \"manag\", \"manag\", \"market\", \"market\", \"market\", \"market\", \"mcafe\", \"mcafe\", \"memori\", \"memori\", \"memori\", \"memori\", \"mentor\", \"meraki\", \"messag\", \"messag\", \"messag\", \"messag\", \"messag\", \"mhz\", \"mhz\", \"microsoft\", \"microsoft\", \"microsoft\", \"microsoft\", \"microsoft\", \"militari\", \"militari\", \"minecraft\", \"minecraft\", \"minecraft\", \"minecraft\", \"mod\", \"mod\", \"mod\", \"mod\", \"mod\", \"model\", \"model\", \"model\", \"model\", \"money\", \"money\", \"money\", \"money\", \"motherboard\", \"motherboard\", \"msert\", \"msrp\", \"mybind\", \"mydomain\", \"nat\", \"nb\", \"nbviewer\", \"network\", \"network\", \"network\", \"network\", \"network\", \"neural\", \"neural\", \"neurip\", \"nlp\", \"nm\", \"nordvpn\", \"nvidia\", \"nvidia\", \"onedr\", \"openai\", \"openldap\", \"oscp\", \"overclock\", \"owasp\", \"owasp\", \"packet\", \"packet\", \"paper\", \"paper\", \"paper\", \"paper\", \"paramet\", \"paramet\", \"paramet\", \"paramet\", \"parser\", \"parser\", \"passcod\", \"passphras\", \"passphras\", \"password\", \"password\", \"password\", \"pay\", \"pay\", \"pay\", \"pay\", \"pcie\", \"pdq\", \"pentest\", \"pentest\", \"perform\", \"perform\", \"perform\", \"perform\", \"person\", \"person\", \"person\", \"person\", \"person\", \"pfsens\", \"phish\", \"phish\", \"phish\", \"phone\", \"phone\", \"phone\", \"phone\", \"phone\", \"plz\", \"podman\", \"podman\", \"port\", \"port\", \"port\", \"port\", \"portswigg\", \"posit\", \"posit\", \"posit\", \"posit\", \"posit\", \"power\", \"power\", \"power\", \"power\", \"powershel\", \"powershel\", \"powershel\", \"pppoe\", \"pppoe\", \"predict\", \"predict\", \"predict\", \"predict\", \"pretrain\", \"price\", \"price\", \"price\", \"price\", \"problem\", \"problem\", \"problem\", \"problem\", \"problem\", \"program\", \"program\", \"program\", \"program\", \"project\", \"project\", \"project\", \"project\", \"prosper\", \"prosper\", \"proto\", \"proto\", \"protonmail\", \"proxylogon\", \"psu\", \"psu\", \"python\", \"python\", \"python\", \"pytorch\", \"pytorch\", \"qt\", \"qt\", \"qualcomm\", \"question\", \"question\", \"question\", \"question\", \"question\", \"radeon\", \"ram\", \"ram\", \"ram\", \"ram\", \"rdna\", \"rdp\", \"rdp\", \"rds\", \"rds\", \"read\", \"read\", \"read\", \"read\", \"read\", \"reboot\", \"reboot\", \"reboot\", \"recap\", \"recipi\", \"recipi\", \"recipi\", \"recruit\", \"registri\", \"registri\", \"represent\", \"represent\", \"represent\", \"resum\", \"resum\", \"resum\", \"rhel\", \"rhel\", \"rhel\", \"role\", \"role\", \"role\", \"role\", \"rout\", \"rout\", \"rout\", \"rout\", \"router\", \"router\", \"router\", \"rtx\", \"rtx\", \"rubi\", \"rubi\", \"rust\", \"rust\", \"rust\", \"rust\", \"rx\", \"rx\", \"ryzen\", \"salari\", \"samsung\", \"samsung\", \"sar\", \"scalper\", \"scam\", \"scam\", \"scam\", \"school\", \"school\", \"school\", \"school\", \"school\", \"scraper\", \"scraper\", \"secur\", \"secur\", \"secur\", \"secur\", \"secur\", \"selenium\", \"send\", \"send\", \"send\", \"send\", \"send\", \"sender\", \"sender\", \"senior\", \"senior\", \"senior\", \"seri\", \"seri\", \"seri\", \"seri\", \"server\", \"server\", \"server\", \"server\", \"servic\", \"servic\", \"servic\", \"servic\", \"servic\", \"set\", \"set\", \"set\", \"set\", \"set\", \"shard\", \"shard\", \"shoutout\", \"sidenot\", \"sidenot\", \"site\", \"site\", \"site\", \"site\", \"site\", \"skill\", \"skill\", \"skill\", \"skill\", \"sms\", \"sms\", \"sms\", \"sms\", \"snapchat\", \"snr\", \"sota\", \"spam\", \"spam\", \"spam\", \"spam\", \"spammer\", \"spammer\", \"spf\", \"spf\", \"splashtop\", \"sqlite\", \"ssd\", \"ssd\", \"ssh\", \"ssh\", \"ssh\", \"ssl\", \"ssl\", \"sso\", \"start\", \"start\", \"start\", \"start\", \"start\", \"std\", \"std\", \"steganographi\", \"studi\", \"studi\", \"studi\", \"stylegan\", \"subnet\", \"subnet\", \"support\", \"support\", \"support\", \"support\", \"support\", \"switch\", \"switch\", \"switch\", \"switch\", \"sysadmin\", \"sysadmin\", \"sysadmin\", \"tac\", \"tac\", \"tattoo\", \"tattoo\", \"tcam\", \"team\", \"team\", \"team\", \"team\", \"tech\", \"tech\", \"tech\", \"tech\", \"techsupport\", \"techsupport\", \"techsupport\", \"techsupport\", \"tensorflow\", \"tensorflow\", \"test\", \"test\", \"test\", \"test\", \"text\", \"text\", \"text\", \"text\", \"text\", \"thermal\", \"ti\", \"tls\", \"tool\", \"tool\", \"tool\", \"tool\", \"tool\", \"traffic\", \"traffic\", \"traffic\", \"train\", \"train\", \"train\", \"train\", \"transform\", \"transform\", \"transform\", \"transform\", \"tryhackm\", \"tsmc\", \"tunnel\", \"tunnel\", \"typescript\", \"ublock\", \"ublock\", \"ublock\", \"udemi\", \"unload\", \"unload\", \"unload\", \"unload\", \"unrestrict\", \"unrestrict\", \"unsubscrib\", \"updat\", \"updat\", \"updat\", \"updat\", \"usb\", \"usb\", \"usb\", \"user\", \"user\", \"user\", \"user\", \"user\", \"vba\", \"vec\", \"veeam\", \"video\", \"video\", \"video\", \"video\", \"video\", \"videocardz\", \"virtualbox\", \"virtualbox\", \"virtualbox\", \"visual\", \"visual\", \"visual\", \"visual\", \"vlan\", \"vlan\", \"vm\", \"vm\", \"vm\", \"vpn\", \"vpn\", \"vpn\", \"vram\", \"wan\", \"wan\", \"webhost\", \"websit\", \"websit\", \"websit\", \"websit\", \"websit\", \"webstor\", \"window\", \"window\", \"window\", \"window\", \"window\", \"wordpress\", \"wordpress\", \"wordpress\", \"wordpress\", \"work\", \"work\", \"work\", \"work\", \"wpa\", \"write\", \"write\", \"write\", \"write\", \"write\", \"wsl\", \"wsl\", \"wsl\", \"wsl\", \"wsus\", \"xbox\", \"xbox\", \"xgboost\", \"xilinx\", \"xilinx\", \"xss\", \"xss\", \"xss\", \"xt\", \"yolov\", \"zap\", \"zap\", \"zen\", \"zen\", \"zig\", \"zscaler\", \"zyxel\", \"zyxel\"]}, \"R\": 30, \"lambda.step\": 0.01, \"plot.opts\": {\"xlab\": \"PC1\", \"ylab\": \"PC2\"}, \"topic.order\": [7, 5, 6, 3, 2, 1, 4]};\n",
       "\n",
       "function LDAvis_load_lib(url, callback){\n",
       "  var s = document.createElement('script');\n",
       "  s.src = url;\n",
       "  s.async = true;\n",
       "  s.onreadystatechange = s.onload = callback;\n",
       "  s.onerror = function(){console.warn(\"failed to load library \" + url);};\n",
       "  document.getElementsByTagName(\"head\")[0].appendChild(s);\n",
       "}\n",
       "\n",
       "if(typeof(LDAvis) !== \"undefined\"){\n",
       "   // already loaded: just create the visualization\n",
       "   !function(LDAvis){\n",
       "       new LDAvis(\"#\" + \"ldavis_el151267222842864650160007\", ldavis_el151267222842864650160007_data);\n",
       "   }(LDAvis);\n",
       "}else if(typeof define === \"function\" && define.amd){\n",
       "   // require.js is available: use it to load d3/LDAvis\n",
       "   require.config({paths: {d3: \"https://cdnjs.cloudflare.com/ajax/libs/d3/3.5.5/d3.min\"}});\n",
       "   require([\"d3\"], function(d3){\n",
       "      window.d3 = d3;\n",
       "      LDAvis_load_lib(\"https://cdn.rawgit.com/bmabey/pyLDAvis/files/ldavis.v1.0.0.js\", function(){\n",
       "        new LDAvis(\"#\" + \"ldavis_el151267222842864650160007\", ldavis_el151267222842864650160007_data);\n",
       "      });\n",
       "    });\n",
       "}else{\n",
       "    // require.js not available: dynamically load d3 & LDAvis\n",
       "    LDAvis_load_lib(\"https://cdnjs.cloudflare.com/ajax/libs/d3/3.5.5/d3.min.js\", function(){\n",
       "         LDAvis_load_lib(\"https://cdn.rawgit.com/bmabey/pyLDAvis/files/ldavis.v1.0.0.js\", function(){\n",
       "                 new LDAvis(\"#\" + \"ldavis_el151267222842864650160007\", ldavis_el151267222842864650160007_data);\n",
       "            })\n",
       "         });\n",
       "}\n",
       "</script>"
      ],
      "text/plain": [
       "PreparedData(topic_coordinates=              x         y  topics  cluster       Freq\n",
       "topic                                                \n",
       "6      0.114826  0.106220       1        1  33.016731\n",
       "4      0.078874  0.035403       2        1  27.957371\n",
       "5      0.115611  0.002591       3        1  18.860111\n",
       "2      0.114909 -0.110247       4        1  12.697422\n",
       "1     -0.170879  0.156913       5        1   3.448914\n",
       "0     -0.128404 -0.099464       6        1   2.023037\n",
       "3     -0.124937 -0.091417       7        1   1.996417, topic_info=             Term        Freq       Total Category  logprob  loglift\n",
       "3052     password  369.000000  369.000000  Default  30.0000  30.0000\n",
       "1355        email  311.000000  311.000000  Default  29.0000  29.0000\n",
       "21        account  284.000000  284.000000  Default  28.0000  28.0000\n",
       "3764        secur  459.000000  459.000000  Default  27.0000  27.0000\n",
       "3118        phone  202.000000  202.000000  Default  26.0000  26.0000\n",
       "...           ...         ...         ...      ...      ...      ...\n",
       "4249  techsupport   46.613373   81.957886   Topic7  -4.4106   3.3495\n",
       "7242         drum    5.192564    8.578281   Topic7  -6.6052   3.4118\n",
       "7231       fusion    6.497484   11.689617   Topic7  -6.3810   3.3265\n",
       "2600        mcafe    6.240661   16.539738   Topic7  -6.4214   2.9391\n",
       "5544          tac    5.682085   16.353354   Topic7  -6.5151   2.8567\n",
       "\n",
       "[447 rows x 6 columns], token_table=      Topic      Freq      Term\n",
       "term                           \n",
       "6         1  0.041327  abstract\n",
       "6         2  0.061990  abstract\n",
       "6         3  0.867860  abstract\n",
       "16        1  0.714329    access\n",
       "16        2  0.161300    access\n",
       "...     ...       ...       ...\n",
       "5483      4  0.946840       zen\n",
       "6975      3  0.959760       zig\n",
       "9334      1  0.958030   zscaler\n",
       "4822      1  0.437895     zyxel\n",
       "4822      6  0.517512     zyxel\n",
       "\n",
       "[1065 rows x 3 columns], R=30, lambda_step=0.01, plot_opts={'xlab': 'PC1', 'ylab': 'PC2'}, topic_order=[7, 5, 6, 3, 2, 1, 4])"
      ]
     },
     "execution_count": 182,
     "metadata": {},
     "output_type": "execute_result"
    }
   ],
   "source": [
    "viz = pyLDAvis.gensim.prepare(lda_tfidf_stem_7top_ittrends_mod, term_vec_corpus_stem, term_dict_stem)\n",
    "viz"
   ]
  },
  {
   "cell_type": "code",
   "execution_count": 204,
   "metadata": {},
   "outputs": [
    {
     "name": "stdout",
     "output_type": "stream",
     "text": [
      "\n",
      "**\n",
      "Topic-id: 0\n",
      "\n",
      "Top terms:  ['cento', 'xss', 'rhel', 'hive', 'jupyt', 'ipynb', 'minecraft', 'owasp', 'flask', 'vba', 'wsl', 'banner', 'ama', 'zyxel', 'wordpress', 'headless', 'selenium', 'cheatsheet', 'xilinx', 'cve']\n",
      "\n",
      "Tokenized:\n",
      " ['amd', 'gpus', 'pro', 'pro', 'step', 'build', 'bought', 'hardware', 'ghz', 'celeron', 'geforce', 'fx', 'ofcourse', 'disappointed', 'performance', 'decided', 'sell', 'extra', 'hours', 'job', 'dish', 'washing', 'summer', 'dishwashing', 'bought', 'athlon', 'xp', 'radeon', 'pro', 'working', 'nvidia', 'nforce', 'chipset', 'amazed', 'crank', 'settings', 'play', 'smooth', 'fps', 'bios', 'flash', 'pro', 'recall', 'correctly', 'prices', 'high', 'cpu', 'gpu', 'times', 'buy', 'hardware']\n",
      "\n",
      "Stemmed:\n",
      " ['amd', 'gpus', 'pro', 'pro', 'step', 'build', 'bought', 'hardwar', 'ghz', 'celeron', 'geforc', 'fx', 'ofcours', 'disappoint', 'perform', 'decid', 'sell', 'extra', 'hour', 'job', 'dish', 'wash', 'summer', 'dishwash', 'bought', 'athlon', 'xp', 'radeon', 'pro', 'work', 'nvidia', 'nforc', 'chipset', 'amaz', 'crank', 'set', 'play', 'smooth', 'fps', 'bio', 'flash', 'pro', 'recal', 'correct', 'price', 'high', 'cpu', 'gpu', 'time', 'buy', 'hardwar']\n",
      "\n",
      "**\n",
      "Topic-id: 1\n",
      "\n",
      "Top terms:  ['password', 'email', 'account', 'mail', 'phish', 'spam', 'fa', 'phone', 'messag', 'link', 'googl', 'address', 'spf', 'hack', 'send', 'scam', 'breach', 'login', 'compromis', 'gmail']\n",
      "\n",
      "Tokenized:\n",
      " ['google', 'hold', 'notifications', 'card', 'google', 'subs', 'assume', 'compromised', 'testing', 'card']\n",
      "\n",
      "Stemmed:\n",
      " ['googl', 'hold', 'notif', 'card', 'googl', 'sub', 'assum', 'compromis', 'test', 'card']\n",
      "\n",
      "**\n",
      "Topic-id: 2\n",
      "\n",
      "Top terms:  ['card', 'intel', 'game', 'amd', 'gpu', 'power', 'nvidia', 'price', 'perform', 'cpu', 'chip', 'laptop', 'core', 'gb', 'buy', 'hardwar', 'appl', 'cabl', 'nm', 'ram']\n",
      "\n",
      "Tokenized:\n",
      " ['google', 'hold', 'notifications', 'card', 'google', 'subs', 'called', 'citibank', 'safe', 'wait', 'alerts', 'suspicious', 'plenty', 'dispute', 'cancel', 'card', 'charges', 'today', 'odd', 'credit', 'card', 'remember', 'straight', 'update', 'card', 'details', 'domain', 'registrars', 'report', 'card', 'lost', 'stolen', 'assume', 'compromised', 'testing', 'card']\n",
      "\n",
      "Stemmed:\n",
      " ['googl', 'hold', 'notif', 'card', 'googl', 'sub', 'call', 'citibank', 'safe', 'wait', 'alert', 'suspici', 'plenti', 'disput', 'cancel', 'card', 'charg', 'today', 'odd', 'credit', 'card', 'rememb', 'straight', 'updat', 'card', 'detail', 'domain', 'registrar', 'report', 'card', 'lost', 'stolen', 'assum', 'compromis', 'test', 'card']\n",
      "\n",
      "**\n",
      "Topic-id: 3\n",
      "\n",
      "Top terms:  ['techsupport', 'admx', 'duo', 'ftd', 'pppoe', 'qt', 'activesync', 'irb', 'fex', 'alphafold', 'fmc', 'bookstack', 'nordvpn', 'tcam', 'imessag', 'lmgtfi', 'es', 'recap', 'openldap', 'nb']\n",
      "\n",
      "Tokenized:\n",
      " ['google', 'hold', 'notifications', 'card', 'google', 'subs', 'called', 'citibank', 'safe', 'wait', 'alerts', 'suspicious', 'plenty', 'dispute', 'cancel', 'card', 'charges', 'today', 'odd', 'assume', 'compromised', 'testing', 'card']\n",
      "\n",
      "Stemmed:\n",
      " ['googl', 'hold', 'notif', 'card', 'googl', 'sub', 'call', 'citibank', 'safe', 'wait', 'alert', 'suspici', 'plenti', 'disput', 'cancel', 'card', 'charg', 'today', 'odd', 'assum', 'compromis', 'test', 'card']\n",
      "\n",
      "**\n",
      "Topic-id: 4\n",
      "\n",
      "Top terms:  ['secur', 'job', 'compani', 'cyber', 'learn', 'team', 'cybersecur', 'manag', 'experi', 'cert', 'engin', 'devop', 'start', 'person', 'interview', 'skill', 'degre', 'day', 'work', 'busi']\n",
      "\n",
      "Tokenized:\n",
      " ['google', 'hold', 'notifications', 'card', 'google', 'subs', 'called', 'citibank', 'safe', 'wait', 'alerts', 'suspicious', 'plenty', 'dispute', 'cancel', 'card', 'charges', 'today', 'odd']\n",
      "\n",
      "Stemmed:\n",
      " ['googl', 'hold', 'notif', 'card', 'googl', 'sub', 'call', 'citibank', 'safe', 'wait', 'alert', 'suspici', 'plenti', 'disput', 'cancel', 'card', 'charg', 'today', 'odd']\n",
      "\n",
      "**\n",
      "Topic-id: 5\n",
      "\n",
      "Top terms:  ['code', 'languag', 'model', 'paper', 'learn', 'python', 'program', 'data', 'write', 'github', 'project', 'train', 'imag', 'function', 'dataset', 'video', 'librari', 'articl', 'compil', 'develop']\n",
      "\n",
      "Tokenized:\n",
      " ['secret', 'history', 'windows', 'zipfolders', 'original', 'author', 'davepl', 'rec', 'specs', 'kind', 'fauxkleys', 'white', 'middle', 'aged', 'badasses', 'wear', 'watch', 'video', 'wear', 'outfit', 'high', 'quality', 'video', 'fairly']\n",
      "\n",
      "Stemmed:\n",
      " ['secret', 'histori', 'window', 'zipfold', 'origin', 'author', 'davepl', 'rec', 'spec', 'kind', 'fauxkley', 'white', 'middl', 'age', 'badass', 'wear', 'watch', 'video', 'wear', 'outfit', 'high', 'qualiti', 'video', 'fair']\n",
      "\n",
      "**\n",
      "Topic-id: 6\n",
      "\n",
      "Top terms:  ['server', 'window', 'user', 'file', 'updat', 'network', 'connect', 'instal', 'devic', 'switch', 'vpn', 'microsoft', 'domain', 'set', 'access', 'port', 'log', 'servic', 'router', 'dns']\n",
      "\n",
      "Tokenized:\n",
      " ['google', 'hold', 'notifications', 'card', 'google', 'subs', 'credit', 'card', 'remember', 'straight', 'update', 'card', 'details', 'domain', 'registrars', 'report', 'card', 'lost', 'stolen']\n",
      "\n",
      "Stemmed:\n",
      " ['googl', 'hold', 'notif', 'card', 'googl', 'sub', 'credit', 'card', 'rememb', 'straight', 'updat', 'card', 'detail', 'domain', 'registrar', 'report', 'card', 'lost', 'stolen']\n"
     ]
    }
   ],
   "source": [
    "topic_terms_n_data_ittrends = get_topic_terms_n_data(comments_df, lda_tfidf_stem_7top_ittrends_mod, 7, 20)"
   ]
  },
  {
   "cell_type": "code",
   "execution_count": 205,
   "metadata": {},
   "outputs": [],
   "source": [
    "compress_pickle(f'{DATA_DIR}/topic_terms_n_data_ittrends_{RUN_DATE}.pkl', topic_terms_n_data_ittrends)"
   ]
  },
  {
   "cell_type": "code",
   "execution_count": null,
   "metadata": {},
   "outputs": [],
   "source": []
  },
  {
   "cell_type": "code",
   "execution_count": 206,
   "metadata": {},
   "outputs": [
    {
     "name": "stdout",
     "output_type": "stream",
     "text": [
      "['cento', 'xss', 'rhel', 'hive', 'jupyt', 'ipynb', 'minecraft', 'owasp', 'flask', 'vba', 'wsl', 'banner', 'ama', 'zyxel', 'wordpress', 'headless', 'selenium', 'cheatsheet', 'xilinx', 'cve']\n"
     ]
    }
   ],
   "source": [
    "print(topic_terms_n_data_ittrends[0]['terms'])"
   ]
  },
  {
   "cell_type": "code",
   "execution_count": 207,
   "metadata": {},
   "outputs": [
    {
     "name": "stdout",
     "output_type": "stream",
     "text": [
      "['password', 'email', 'account', 'mail', 'phish', 'spam', 'fa', 'phone', 'messag', 'link', 'googl', 'address', 'spf', 'hack', 'send', 'scam', 'breach', 'login', 'compromis', 'gmail']\n"
     ]
    }
   ],
   "source": [
    "print(topic_terms_n_data_ittrends[1]['terms'])"
   ]
  },
  {
   "cell_type": "code",
   "execution_count": 208,
   "metadata": {},
   "outputs": [
    {
     "name": "stdout",
     "output_type": "stream",
     "text": [
      "['card', 'intel', 'game', 'amd', 'gpu', 'power', 'nvidia', 'price', 'perform', 'cpu', 'chip', 'laptop', 'core', 'gb', 'buy', 'hardwar', 'appl', 'cabl', 'nm', 'ram']\n"
     ]
    }
   ],
   "source": [
    "print(topic_terms_n_data_ittrends[2]['terms'])"
   ]
  },
  {
   "cell_type": "code",
   "execution_count": 209,
   "metadata": {},
   "outputs": [
    {
     "name": "stdout",
     "output_type": "stream",
     "text": [
      "['techsupport', 'admx', 'duo', 'ftd', 'pppoe', 'qt', 'activesync', 'irb', 'fex', 'alphafold', 'fmc', 'bookstack', 'nordvpn', 'tcam', 'imessag', 'lmgtfi', 'es', 'recap', 'openldap', 'nb']\n"
     ]
    }
   ],
   "source": [
    "print(topic_terms_n_data_ittrends[3]['terms'])"
   ]
  },
  {
   "cell_type": "code",
   "execution_count": 210,
   "metadata": {},
   "outputs": [
    {
     "name": "stdout",
     "output_type": "stream",
     "text": [
      "['secur', 'job', 'compani', 'cyber', 'learn', 'team', 'cybersecur', 'manag', 'experi', 'cert', 'engin', 'devop', 'start', 'person', 'interview', 'skill', 'degre', 'day', 'work', 'busi']\n"
     ]
    }
   ],
   "source": [
    "print(topic_terms_n_data_ittrends[4]['terms'])"
   ]
  },
  {
   "cell_type": "code",
   "execution_count": 211,
   "metadata": {},
   "outputs": [
    {
     "name": "stdout",
     "output_type": "stream",
     "text": [
      "['code', 'languag', 'model', 'paper', 'learn', 'python', 'program', 'data', 'write', 'github', 'project', 'train', 'imag', 'function', 'dataset', 'video', 'librari', 'articl', 'compil', 'develop']\n"
     ]
    }
   ],
   "source": [
    "print(topic_terms_n_data_ittrends[5]['terms'])"
   ]
  },
  {
   "cell_type": "code",
   "execution_count": 212,
   "metadata": {},
   "outputs": [
    {
     "name": "stdout",
     "output_type": "stream",
     "text": [
      "['server', 'window', 'user', 'file', 'updat', 'network', 'connect', 'instal', 'devic', 'switch', 'vpn', 'microsoft', 'domain', 'set', 'access', 'port', 'log', 'servic', 'router', 'dns']\n"
     ]
    }
   ],
   "source": [
    "print(topic_terms_n_data_ittrends[6]['terms'])"
   ]
  },
  {
   "cell_type": "markdown",
   "metadata": {},
   "source": [
    "####  All topics look relevant - no topic was replaced"
   ]
  },
  {
   "cell_type": "markdown",
   "metadata": {},
   "source": [
    "### 7 topic LDA - pass2 - data having IT trends terms"
   ]
  },
  {
   "cell_type": "code",
   "execution_count": null,
   "metadata": {},
   "outputs": [],
   "source": [
    "# sub_lda_tfidf_stem_7top_7sub_ittrends_dict = build_sub_lda(\n",
    "#     topic_terms_n_data_ittrends, \n",
    "#     7, # num top topics\n",
    "#     7, # num sub topics\n",
    "#     'tfidf-stem') # corpus type"
   ]
  },
  {
   "cell_type": "code",
   "execution_count": null,
   "metadata": {},
   "outputs": [],
   "source": [
    "# # Save 2nd pass LDA results\n",
    "# compress_pickle(f'{MODEL_DIR}/sub_lda_tfidf_stem_7top_7sub_ittrends_dict_{RUN_DATE}.pkl', sub_lda_tfidf_stem_7top_7sub_ittrends_dict)"
   ]
  },
  {
   "cell_type": "code",
   "execution_count": null,
   "metadata": {},
   "outputs": [],
   "source": [
    "# # Load 2nd pass LDA results\n",
    "# sub_lda_tfidf_stem_7top_7sub_ittrends_dict = decompress_pickle(f'{MODEL_DIR}/sub_lda_tfidf_stem_7top_7sub_ittrends_dict_{RUN_DATE}.pkl.pbz2')"
   ]
  },
  {
   "cell_type": "code",
   "execution_count": null,
   "metadata": {},
   "outputs": [],
   "source": []
  },
  {
   "cell_type": "code",
   "execution_count": null,
   "metadata": {},
   "outputs": [],
   "source": [
    "# print(topic_terms_n_data_ittrends[0]['terms'])"
   ]
  },
  {
   "cell_type": "code",
   "execution_count": null,
   "metadata": {},
   "outputs": [],
   "source": [
    "# viz = pyLDAvis.gensim.prepare(\n",
    "#     sub_lda_tfidf_stem_7top_7sub_ittrends_dict[0]['mod'], \n",
    "#     sub_lda_tfidf_stem_7top_7sub_ittrends_dict[0]['vec_corpus'],\n",
    "#     sub_lda_tfidf_stem_7top_7sub_ittrends_dict[0]['topic_dict'])\n",
    "# viz"
   ]
  },
  {
   "cell_type": "code",
   "execution_count": null,
   "metadata": {},
   "outputs": [],
   "source": []
  },
  {
   "cell_type": "code",
   "execution_count": null,
   "metadata": {},
   "outputs": [],
   "source": [
    "# print(topic_terms_n_data_ittrends[1]['terms'])"
   ]
  },
  {
   "cell_type": "code",
   "execution_count": null,
   "metadata": {},
   "outputs": [],
   "source": [
    "# viz = pyLDAvis.gensim.prepare(\n",
    "#     sub_lda_tfidf_stem_7top_7sub_ittrends_dict[1]['mod'], \n",
    "#     sub_lda_tfidf_stem_7top_7sub_ittrends_dict[1]['vec_corpus'],\n",
    "#     sub_lda_tfidf_stem_7top_7sub_ittrends_dict[1]['topic_dict'])\n",
    "# viz"
   ]
  },
  {
   "cell_type": "code",
   "execution_count": null,
   "metadata": {},
   "outputs": [],
   "source": []
  },
  {
   "cell_type": "code",
   "execution_count": null,
   "metadata": {},
   "outputs": [],
   "source": [
    "# print(topic_terms_n_data_ittrends[2]['terms'])"
   ]
  },
  {
   "cell_type": "code",
   "execution_count": null,
   "metadata": {},
   "outputs": [],
   "source": [
    "# viz = pyLDAvis.gensim.prepare(\n",
    "#     sub_lda_tfidf_stem_7top_7sub_ittrends_dict[2]['mod'], \n",
    "#     sub_lda_tfidf_stem_7top_7sub_ittrends_dict[2]['corpus'],\n",
    "#     sub_lda_tfidf_stem_7top_7sub_ittrends_dict[2]['topic_dict'])\n",
    "# viz"
   ]
  },
  {
   "cell_type": "code",
   "execution_count": null,
   "metadata": {},
   "outputs": [],
   "source": []
  },
  {
   "cell_type": "code",
   "execution_count": null,
   "metadata": {},
   "outputs": [],
   "source": [
    "# print(topic_terms_n_data_ittrends[3]['terms'])"
   ]
  },
  {
   "cell_type": "code",
   "execution_count": null,
   "metadata": {},
   "outputs": [],
   "source": [
    "# viz = pyLDAvis.gensim.prepare(\n",
    "#     sub_lda_tfidf_stem_7top_7sub_ittrends_dict[3]['mod'], \n",
    "#     sub_lda_tfidf_stem_7top_7sub_ittrends_dict[3]['vec_corpus'],\n",
    "#     sub_lda_tfidf_stem_7top_7sub_ittrends_dict[3]['topic_dict'])\n",
    "# viz"
   ]
  },
  {
   "cell_type": "code",
   "execution_count": null,
   "metadata": {},
   "outputs": [],
   "source": []
  },
  {
   "cell_type": "code",
   "execution_count": null,
   "metadata": {},
   "outputs": [],
   "source": [
    "# print(topic_terms_n_data_ittrends[4]['terms'])"
   ]
  },
  {
   "cell_type": "code",
   "execution_count": null,
   "metadata": {},
   "outputs": [],
   "source": [
    "# viz = pyLDAvis.gensim.prepare(\n",
    "#     sub_lda_tfidf_stem_7top_7sub_ittrends_dict[4]['mod'], \n",
    "#     sub_lda_tfidf_stem_7top_7sub_ittrends_dict[4]['corpus'],\n",
    "#     sub_lda_tfidf_stem_7top_7sub_ittrends_dict[4]['topic_dict'])\n",
    "# viz"
   ]
  },
  {
   "cell_type": "code",
   "execution_count": null,
   "metadata": {},
   "outputs": [],
   "source": []
  },
  {
   "cell_type": "code",
   "execution_count": null,
   "metadata": {},
   "outputs": [],
   "source": [
    "# print(topic_terms_n_data_ittrends[5]['terms'])"
   ]
  },
  {
   "cell_type": "code",
   "execution_count": null,
   "metadata": {},
   "outputs": [],
   "source": [
    "# viz = pyLDAvis.gensim.prepare(\n",
    "#     sub_lda_tfidf_stem_7top_7sub_ittrends_dict[5]['mod'], \n",
    "#     sub_lda_tfidf_stem_7top_7sub_ittrends_dict[5]['vec_corpus'],\n",
    "#     sub_lda_tfidf_stem_7top_7sub_ittrends_dict[5]['topic_dict'])\n",
    "# viz"
   ]
  },
  {
   "cell_type": "code",
   "execution_count": null,
   "metadata": {},
   "outputs": [],
   "source": [
    "# print(topic_terms_n_data_ittrends[6]['terms'])"
   ]
  },
  {
   "cell_type": "code",
   "execution_count": null,
   "metadata": {},
   "outputs": [],
   "source": [
    "# viz = pyLDAvis.gensim.prepare(\n",
    "#     sub_lda_tfidf_stem_7top_7sub_ittrends_dict[6]['mod'], \n",
    "#     sub_lda_tfidf_stem_7top_7sub_ittrends_dict[6]['vec_corpus'],\n",
    "#     sub_lda_tfidf_stem_7top_7sub_ittrends_dict[6]['topic_dict'])\n",
    "# viz"
   ]
  },
  {
   "cell_type": "code",
   "execution_count": null,
   "metadata": {},
   "outputs": [],
   "source": []
  },
  {
   "cell_type": "code",
   "execution_count": null,
   "metadata": {},
   "outputs": [],
   "source": []
  },
  {
   "cell_type": "code",
   "execution_count": null,
   "metadata": {},
   "outputs": [],
   "source": []
  },
  {
   "cell_type": "code",
   "execution_count": null,
   "metadata": {},
   "outputs": [],
   "source": []
  },
  {
   "cell_type": "code",
   "execution_count": null,
   "metadata": {},
   "outputs": [],
   "source": []
  },
  {
   "cell_type": "code",
   "execution_count": null,
   "metadata": {},
   "outputs": [],
   "source": []
  },
  {
   "cell_type": "code",
   "execution_count": null,
   "metadata": {},
   "outputs": [],
   "source": []
  },
  {
   "cell_type": "code",
   "execution_count": null,
   "metadata": {},
   "outputs": [],
   "source": []
  },
  {
   "cell_type": "code",
   "execution_count": null,
   "metadata": {},
   "outputs": [],
   "source": []
  }
 ],
 "metadata": {
  "kernelspec": {
   "display_name": "Python 3 (ipykernel)",
   "language": "python",
   "name": "python3"
  },
  "language_info": {
   "codemirror_mode": {
    "name": "ipython",
    "version": 3
   },
   "file_extension": ".py",
   "mimetype": "text/x-python",
   "name": "python",
   "nbconvert_exporter": "python",
   "pygments_lexer": "ipython3",
   "version": "3.9.0"
  }
 },
 "nbformat": 4,
 "nbformat_minor": 4
}
