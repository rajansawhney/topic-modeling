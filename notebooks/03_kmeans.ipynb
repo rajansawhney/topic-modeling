{
 "cells": [
  {
   "cell_type": "code",
   "execution_count": 1,
   "metadata": {},
   "outputs": [],
   "source": [
    "from datetime import datetime\n",
    "import json\n",
    "import os\n",
    "import sys\n",
    "\n",
    "# gensim\n",
    "import gensim\n",
    "import gensim.corpora as corpara\n",
    "from gensim.utils import simple_preprocess\n",
    "from gensim.models import CoherenceModel\n",
    "\n",
    "import numpy as np\n",
    "import matplotlib.pyplot as plt\n",
    "import pandas as pd\n",
    "import pytz\n",
    "import pickle\n",
    "\n",
    "# lda plotting tools\n",
    "import pyLDAvis\n",
    "import pyLDAvis.gensim\n",
    "\n",
    "#sklearn\n",
    "from sklearn.cluster import KMeans, MiniBatchKMeans\n",
    "from sklearn.decomposition import TruncatedSVD\n",
    "from sklearn.feature_extraction import text\n",
    "from sklearn.feature_extraction.text import TfidfVectorizer\n",
    "from sklearn import metrics\n",
    "from sklearn.pipeline import make_pipeline\n",
    "from sklearn.preprocessing import Normalizer\n",
    "\n",
    "\n",
    "# nltk\n",
    "from nltk.tokenize import RegexpTokenizer\n",
    "from nltk.stem.snowball import SnowballStemmer\n",
    "\n",
    "from time import time\n"
   ]
  },
  {
   "cell_type": "code",
   "execution_count": 2,
   "metadata": {},
   "outputs": [],
   "source": [
    "HOME = os.environ['HOME']\n",
    "KEYS = f'{HOME}/config/db.json'\n",
    "ENV = 'dev'\n",
    "NOW = datetime.utcnow().replace(tzinfo=pytz.utc)\n",
    "TODAY = NOW.date()\n",
    "\n",
    "DATA_DIR = '../data'\n",
    "MODEL_DIR = '../model'\n",
    "SQL_DIR = '../sql'\n",
    "OUT_DIR = '../output'\n",
    "\n",
    "DEV = True"
   ]
  },
  {
   "cell_type": "code",
   "execution_count": 3,
   "metadata": {},
   "outputs": [
    {
     "data": {
      "text/plain": [
       "'2021-01-15'"
      ]
     },
     "execution_count": 3,
     "metadata": {},
     "output_type": "execute_result"
    }
   ],
   "source": [
    "if DEV:\n",
    "    RUN_DATE = '2021-01-15'\n",
    "else:\n",
    "    RUN_DATE = str(NOW.date())\n",
    "# RUN_DATE = str(NOW.date())\n",
    "RUN_DATE"
   ]
  },
  {
   "cell_type": "markdown",
   "metadata": {},
   "source": [
    "# Partitional Clustering"
   ]
  },
  {
   "cell_type": "markdown",
   "metadata": {},
   "source": [
    "### 1. Fetch data"
   ]
  },
  {
   "cell_type": "code",
   "execution_count": 4,
   "metadata": {},
   "outputs": [],
   "source": [
    "with open(f'{OUT_DIR}/commentMapper.json', 'r') as f:\n",
    "    comment_mapper = json.load(f)"
   ]
  },
  {
   "cell_type": "code",
   "execution_count": 5,
   "metadata": {},
   "outputs": [],
   "source": [
    "with open(f'{OUT_DIR}/titleMapper.json', 'r') as f:\n",
    "    title_mapper = json.load(f)"
   ]
  },
  {
   "cell_type": "code",
   "execution_count": 6,
   "metadata": {},
   "outputs": [
    {
     "data": {
      "text/html": [
       "<div>\n",
       "<style scoped>\n",
       "    .dataframe tbody tr th:only-of-type {\n",
       "        vertical-align: middle;\n",
       "    }\n",
       "\n",
       "    .dataframe tbody tr th {\n",
       "        vertical-align: top;\n",
       "    }\n",
       "\n",
       "    .dataframe thead th {\n",
       "        text-align: right;\n",
       "    }\n",
       "</style>\n",
       "<table border=\"1\" class=\"dataframe\">\n",
       "  <thead>\n",
       "    <tr style=\"text-align: right;\">\n",
       "      <th></th>\n",
       "      <th>counts</th>\n",
       "      <th>comment</th>\n",
       "      <th>reduced_500</th>\n",
       "      <th>reduced_200</th>\n",
       "      <th>reduced_150</th>\n",
       "      <th>reduced_100</th>\n",
       "      <th>reduced_50</th>\n",
       "    </tr>\n",
       "  </thead>\n",
       "  <tbody>\n",
       "    <tr>\n",
       "      <th>0</th>\n",
       "      <td>1</td>\n",
       "      <td>undergraduate cybersec train included required...</td>\n",
       "      <td>write</td>\n",
       "      <td>No Match Found</td>\n",
       "      <td>No Match Found</td>\n",
       "      <td>No Match Found</td>\n",
       "      <td>No Match Found</td>\n",
       "    </tr>\n",
       "    <tr>\n",
       "      <th>1</th>\n",
       "      <td>1</td>\n",
       "      <td>meant prettier dunno thinking prettify tweak d...</td>\n",
       "      <td>4 4</td>\n",
       "      <td>4</td>\n",
       "      <td>4</td>\n",
       "      <td>4</td>\n",
       "      <td>No Match Found</td>\n",
       "    </tr>\n",
       "    <tr>\n",
       "      <th>2</th>\n",
       "      <td>1</td>\n",
       "      <td>recall note december light relax holiday secur...</td>\n",
       "      <td>security</td>\n",
       "      <td>security</td>\n",
       "      <td>security</td>\n",
       "      <td>security</td>\n",
       "      <td>security</td>\n",
       "    </tr>\n",
       "    <tr>\n",
       "      <th>3</th>\n",
       "      <td>1</td>\n",
       "      <td>fucking biden</td>\n",
       "      <td>No Match Found</td>\n",
       "      <td>No Match Found</td>\n",
       "      <td>No Match Found</td>\n",
       "      <td>No Match Found</td>\n",
       "      <td>No Match Found</td>\n",
       "    </tr>\n",
       "    <tr>\n",
       "      <th>4</th>\n",
       "      <td>1</td>\n",
       "      <td>meaningful add assuming snmp write access enab...</td>\n",
       "      <td>solve problems</td>\n",
       "      <td>access</td>\n",
       "      <td>access</td>\n",
       "      <td>No Match Found</td>\n",
       "      <td>No Match Found</td>\n",
       "    </tr>\n",
       "  </tbody>\n",
       "</table>\n",
       "</div>"
      ],
      "text/plain": [
       "   counts                                            comment     reduced_500  \\\n",
       "0       1  undergraduate cybersec train included required...           write   \n",
       "1       1  meant prettier dunno thinking prettify tweak d...             4 4   \n",
       "2       1  recall note december light relax holiday secur...        security   \n",
       "3       1                                      fucking biden  No Match Found   \n",
       "4       1  meaningful add assuming snmp write access enab...  solve problems   \n",
       "\n",
       "      reduced_200     reduced_150     reduced_100      reduced_50  \n",
       "0  No Match Found  No Match Found  No Match Found  No Match Found  \n",
       "1               4               4               4  No Match Found  \n",
       "2        security        security        security        security  \n",
       "3  No Match Found  No Match Found  No Match Found  No Match Found  \n",
       "4          access          access  No Match Found  No Match Found  "
      ]
     },
     "execution_count": 6,
     "metadata": {},
     "output_type": "execute_result"
    }
   ],
   "source": [
    "commentsByNGram = pd.read_csv(f'{OUT_DIR}/commentsByNGramFreq.csv')\n",
    "commentsByNGram.head()"
   ]
  },
  {
   "cell_type": "code",
   "execution_count": 7,
   "metadata": {},
   "outputs": [
    {
     "data": {
      "text/html": [
       "<div>\n",
       "<style scoped>\n",
       "    .dataframe tbody tr th:only-of-type {\n",
       "        vertical-align: middle;\n",
       "    }\n",
       "\n",
       "    .dataframe tbody tr th {\n",
       "        vertical-align: top;\n",
       "    }\n",
       "\n",
       "    .dataframe thead th {\n",
       "        text-align: right;\n",
       "    }\n",
       "</style>\n",
       "<table border=\"1\" class=\"dataframe\">\n",
       "  <thead>\n",
       "    <tr style=\"text-align: right;\">\n",
       "      <th></th>\n",
       "      <th>counts</th>\n",
       "      <th>title</th>\n",
       "      <th>reduced_500</th>\n",
       "      <th>reduced_200</th>\n",
       "      <th>reduced_150</th>\n",
       "      <th>reduced_100</th>\n",
       "      <th>reduced_50</th>\n",
       "    </tr>\n",
       "  </thead>\n",
       "  <tbody>\n",
       "    <tr>\n",
       "      <th>0</th>\n",
       "      <td>2301</td>\n",
       "      <td>timnit gebru google megathread</td>\n",
       "      <td>timnit gebru google megathread</td>\n",
       "      <td>timnit gebru</td>\n",
       "      <td>google</td>\n",
       "      <td>google</td>\n",
       "      <td>No Match Found</td>\n",
       "    </tr>\n",
       "    <tr>\n",
       "      <th>1</th>\n",
       "      <td>1075</td>\n",
       "      <td>hundreds google employees unionize culminating...</td>\n",
       "      <td>google</td>\n",
       "      <td>google</td>\n",
       "      <td>google</td>\n",
       "      <td>google</td>\n",
       "      <td>No Match Found</td>\n",
       "    </tr>\n",
       "    <tr>\n",
       "      <th>2</th>\n",
       "      <td>755</td>\n",
       "      <td>nvidia longer sending hardware unboxed review ...</td>\n",
       "      <td>hardware unboxed</td>\n",
       "      <td>hardware</td>\n",
       "      <td>hardware</td>\n",
       "      <td>No Match Found</td>\n",
       "      <td>No Match Found</td>\n",
       "    </tr>\n",
       "    <tr>\n",
       "      <th>3</th>\n",
       "      <td>674</td>\n",
       "      <td>ltt review macbooks</td>\n",
       "      <td>No Match Found</td>\n",
       "      <td>No Match Found</td>\n",
       "      <td>No Match Found</td>\n",
       "      <td>No Match Found</td>\n",
       "      <td>No Match Found</td>\n",
       "    </tr>\n",
       "    <tr>\n",
       "      <th>4</th>\n",
       "      <td>671</td>\n",
       "      <td>NaN</td>\n",
       "      <td>No Match Found</td>\n",
       "      <td>No Match Found</td>\n",
       "      <td>No Match Found</td>\n",
       "      <td>No Match Found</td>\n",
       "      <td>No Match Found</td>\n",
       "    </tr>\n",
       "  </tbody>\n",
       "</table>\n",
       "</div>"
      ],
      "text/plain": [
       "   counts                                              title  \\\n",
       "0    2301                     timnit gebru google megathread   \n",
       "1    1075  hundreds google employees unionize culminating...   \n",
       "2     755  nvidia longer sending hardware unboxed review ...   \n",
       "3     674                                ltt review macbooks   \n",
       "4     671                                                NaN   \n",
       "\n",
       "                      reduced_500     reduced_200     reduced_150  \\\n",
       "0  timnit gebru google megathread    timnit gebru          google   \n",
       "1                          google          google          google   \n",
       "2                hardware unboxed        hardware        hardware   \n",
       "3                  No Match Found  No Match Found  No Match Found   \n",
       "4                  No Match Found  No Match Found  No Match Found   \n",
       "\n",
       "      reduced_100      reduced_50  \n",
       "0          google  No Match Found  \n",
       "1          google  No Match Found  \n",
       "2  No Match Found  No Match Found  \n",
       "3  No Match Found  No Match Found  \n",
       "4  No Match Found  No Match Found  "
      ]
     },
     "execution_count": 7,
     "metadata": {},
     "output_type": "execute_result"
    }
   ],
   "source": [
    "titlesByNGram = pd.read_csv(f'{OUT_DIR}/titlesByNGramFreq.csv')\n",
    "titlesByNGram.head()"
   ]
  },
  {
   "cell_type": "code",
   "execution_count": 8,
   "metadata": {},
   "outputs": [
    {
     "data": {
      "text/plain": [
       "(212029, 7)"
      ]
     },
     "execution_count": 8,
     "metadata": {},
     "output_type": "execute_result"
    }
   ],
   "source": [
    "commentsByNGram.shape"
   ]
  },
  {
   "cell_type": "code",
   "execution_count": 9,
   "metadata": {},
   "outputs": [
    {
     "data": {
      "text/plain": [
       "(13202, 7)"
      ]
     },
     "execution_count": 9,
     "metadata": {},
     "output_type": "execute_result"
    }
   ],
   "source": [
    "titlesByNGram.shape"
   ]
  },
  {
   "cell_type": "code",
   "execution_count": 10,
   "metadata": {},
   "outputs": [],
   "source": [
    "titles_w_terms = pd.read_csv(f'{OUT_DIR}/titles_w_terms.csv')\n",
    "comments_w_terms = pd.read_csv(f'{OUT_DIR}/comments_w_terms.csv')"
   ]
  },
  {
   "cell_type": "code",
   "execution_count": 25,
   "metadata": {},
   "outputs": [
    {
     "data": {
      "text/html": [
       "<div>\n",
       "<style scoped>\n",
       "    .dataframe tbody tr th:only-of-type {\n",
       "        vertical-align: middle;\n",
       "    }\n",
       "\n",
       "    .dataframe tbody tr th {\n",
       "        vertical-align: top;\n",
       "    }\n",
       "\n",
       "    .dataframe thead th {\n",
       "        text-align: right;\n",
       "    }\n",
       "</style>\n",
       "<table border=\"1\" class=\"dataframe\">\n",
       "  <thead>\n",
       "    <tr style=\"text-align: right;\">\n",
       "      <th></th>\n",
       "      <th>counts</th>\n",
       "      <th>title</th>\n",
       "      <th>reduced_500</th>\n",
       "      <th>reduced_200</th>\n",
       "      <th>reduced_150</th>\n",
       "      <th>reduced_100</th>\n",
       "      <th>reduced_50</th>\n",
       "      <th>title_terms</th>\n",
       "    </tr>\n",
       "  </thead>\n",
       "  <tbody>\n",
       "    <tr>\n",
       "      <th>0</th>\n",
       "      <td>552</td>\n",
       "      <td>thread product manager google google cloud pla...</td>\n",
       "      <td>google</td>\n",
       "      <td>google</td>\n",
       "      <td>google</td>\n",
       "      <td>google</td>\n",
       "      <td>No Match Found</td>\n",
       "      <td>{'aws'}</td>\n",
       "    </tr>\n",
       "    <tr>\n",
       "      <th>1</th>\n",
       "      <td>504</td>\n",
       "      <td>ruby released</td>\n",
       "      <td>No Match Found</td>\n",
       "      <td>No Match Found</td>\n",
       "      <td>No Match Found</td>\n",
       "      <td>No Match Found</td>\n",
       "      <td>No Match Found</td>\n",
       "      <td>{'ruby'}</td>\n",
       "    </tr>\n",
       "    <tr>\n",
       "      <th>2</th>\n",
       "      <td>481</td>\n",
       "      <td>git 15 created svn created 5 git cvs 15 svn</td>\n",
       "      <td>5</td>\n",
       "      <td>5</td>\n",
       "      <td>5</td>\n",
       "      <td>5</td>\n",
       "      <td>No Match Found</td>\n",
       "      <td>{'git'}</td>\n",
       "    </tr>\n",
       "    <tr>\n",
       "      <th>3</th>\n",
       "      <td>400</td>\n",
       "      <td>nissan source code leaked online git repo misc...</td>\n",
       "      <td>source code</td>\n",
       "      <td>source code</td>\n",
       "      <td>source code</td>\n",
       "      <td>source code</td>\n",
       "      <td>source code</td>\n",
       "      <td>{'git'}</td>\n",
       "    </tr>\n",
       "    <tr>\n",
       "      <th>4</th>\n",
       "      <td>381</td>\n",
       "      <td>cookie github blog</td>\n",
       "      <td>github</td>\n",
       "      <td>No Match Found</td>\n",
       "      <td>No Match Found</td>\n",
       "      <td>No Match Found</td>\n",
       "      <td>No Match Found</td>\n",
       "      <td>{'github'}</td>\n",
       "    </tr>\n",
       "    <tr>\n",
       "      <th>...</th>\n",
       "      <td>...</td>\n",
       "      <td>...</td>\n",
       "      <td>...</td>\n",
       "      <td>...</td>\n",
       "      <td>...</td>\n",
       "      <td>...</td>\n",
       "      <td>...</td>\n",
       "      <td>...</td>\n",
       "    </tr>\n",
       "    <tr>\n",
       "      <th>2809</th>\n",
       "      <td>1</td>\n",
       "      <td>web push notifications ios happen</td>\n",
       "      <td>web</td>\n",
       "      <td>No Match Found</td>\n",
       "      <td>No Match Found</td>\n",
       "      <td>No Match Found</td>\n",
       "      <td>No Match Found</td>\n",
       "      <td>{'ios'}</td>\n",
       "    </tr>\n",
       "    <tr>\n",
       "      <th>2810</th>\n",
       "      <td>1</td>\n",
       "      <td>configure sfp ports cat 2960x vlan</td>\n",
       "      <td>No Match Found</td>\n",
       "      <td>No Match Found</td>\n",
       "      <td>No Match Found</td>\n",
       "      <td>No Match Found</td>\n",
       "      <td>No Match Found</td>\n",
       "      <td>{'vlan'}</td>\n",
       "    </tr>\n",
       "    <tr>\n",
       "      <th>2811</th>\n",
       "      <td>1</td>\n",
       "      <td>azure file sync s3 storage</td>\n",
       "      <td>file</td>\n",
       "      <td>No Match Found</td>\n",
       "      <td>No Match Found</td>\n",
       "      <td>No Match Found</td>\n",
       "      <td>No Match Found</td>\n",
       "      <td>{'azure'}</td>\n",
       "    </tr>\n",
       "    <tr>\n",
       "      <th>2812</th>\n",
       "      <td>1</td>\n",
       "      <td>aws tutorial covers aspects development devops</td>\n",
       "      <td>No Match Found</td>\n",
       "      <td>No Match Found</td>\n",
       "      <td>No Match Found</td>\n",
       "      <td>No Match Found</td>\n",
       "      <td>No Match Found</td>\n",
       "      <td>{'aws'}</td>\n",
       "    </tr>\n",
       "    <tr>\n",
       "      <th>2813</th>\n",
       "      <td>1</td>\n",
       "      <td>troubleshooting firewall pat pool exhaustion c...</td>\n",
       "      <td>server</td>\n",
       "      <td>server</td>\n",
       "      <td>server</td>\n",
       "      <td>server</td>\n",
       "      <td>server</td>\n",
       "      <td>{'proxy', 'firewall'}</td>\n",
       "    </tr>\n",
       "  </tbody>\n",
       "</table>\n",
       "<p>2814 rows × 8 columns</p>\n",
       "</div>"
      ],
      "text/plain": [
       "      counts                                              title  \\\n",
       "0        552  thread product manager google google cloud pla...   \n",
       "1        504                                      ruby released   \n",
       "2        481        git 15 created svn created 5 git cvs 15 svn   \n",
       "3        400  nissan source code leaked online git repo misc...   \n",
       "4        381                                 cookie github blog   \n",
       "...      ...                                                ...   \n",
       "2809       1                  web push notifications ios happen   \n",
       "2810       1                 configure sfp ports cat 2960x vlan   \n",
       "2811       1                         azure file sync s3 storage   \n",
       "2812       1     aws tutorial covers aspects development devops   \n",
       "2813       1  troubleshooting firewall pat pool exhaustion c...   \n",
       "\n",
       "         reduced_500     reduced_200     reduced_150     reduced_100  \\\n",
       "0             google          google          google          google   \n",
       "1     No Match Found  No Match Found  No Match Found  No Match Found   \n",
       "2                  5               5               5               5   \n",
       "3        source code     source code     source code     source code   \n",
       "4             github  No Match Found  No Match Found  No Match Found   \n",
       "...              ...             ...             ...             ...   \n",
       "2809             web  No Match Found  No Match Found  No Match Found   \n",
       "2810  No Match Found  No Match Found  No Match Found  No Match Found   \n",
       "2811            file  No Match Found  No Match Found  No Match Found   \n",
       "2812  No Match Found  No Match Found  No Match Found  No Match Found   \n",
       "2813          server          server          server          server   \n",
       "\n",
       "          reduced_50            title_terms  \n",
       "0     No Match Found                {'aws'}  \n",
       "1     No Match Found               {'ruby'}  \n",
       "2     No Match Found                {'git'}  \n",
       "3        source code                {'git'}  \n",
       "4     No Match Found             {'github'}  \n",
       "...              ...                    ...  \n",
       "2809  No Match Found                {'ios'}  \n",
       "2810  No Match Found               {'vlan'}  \n",
       "2811  No Match Found              {'azure'}  \n",
       "2812  No Match Found                {'aws'}  \n",
       "2813          server  {'proxy', 'firewall'}  \n",
       "\n",
       "[2814 rows x 8 columns]"
      ]
     },
     "execution_count": 25,
     "metadata": {},
     "output_type": "execute_result"
    }
   ],
   "source": [
    "titles_w_terms"
   ]
  },
  {
   "cell_type": "code",
   "execution_count": 26,
   "metadata": {},
   "outputs": [
    {
     "data": {
      "text/html": [
       "<div>\n",
       "<style scoped>\n",
       "    .dataframe tbody tr th:only-of-type {\n",
       "        vertical-align: middle;\n",
       "    }\n",
       "\n",
       "    .dataframe tbody tr th {\n",
       "        vertical-align: top;\n",
       "    }\n",
       "\n",
       "    .dataframe thead th {\n",
       "        text-align: right;\n",
       "    }\n",
       "</style>\n",
       "<table border=\"1\" class=\"dataframe\">\n",
       "  <thead>\n",
       "    <tr style=\"text-align: right;\">\n",
       "      <th></th>\n",
       "      <th>counts</th>\n",
       "      <th>comment</th>\n",
       "      <th>reduced_500</th>\n",
       "      <th>reduced_200</th>\n",
       "      <th>reduced_150</th>\n",
       "      <th>reduced_100</th>\n",
       "      <th>reduced_50</th>\n",
       "      <th>comment_terms</th>\n",
       "    </tr>\n",
       "  </thead>\n",
       "  <tbody>\n",
       "    <tr>\n",
       "      <th>0</th>\n",
       "      <td>1</td>\n",
       "      <td>undergraduate cybersec train included required...</td>\n",
       "      <td>write</td>\n",
       "      <td>No Match Found</td>\n",
       "      <td>No Match Found</td>\n",
       "      <td>No Match Found</td>\n",
       "      <td>No Match Found</td>\n",
       "      <td>{'list'}</td>\n",
       "    </tr>\n",
       "    <tr>\n",
       "      <th>1</th>\n",
       "      <td>1</td>\n",
       "      <td>meaningful add assuming snmp write access enab...</td>\n",
       "      <td>solve problems</td>\n",
       "      <td>access</td>\n",
       "      <td>access</td>\n",
       "      <td>No Match Found</td>\n",
       "      <td>No Match Found</td>\n",
       "      <td>{'access'}</td>\n",
       "    </tr>\n",
       "    <tr>\n",
       "      <th>2</th>\n",
       "      <td>1</td>\n",
       "      <td>l2tp ipsec primally vpn gateway unifi security...</td>\n",
       "      <td>network security</td>\n",
       "      <td>security</td>\n",
       "      <td>security</td>\n",
       "      <td>security</td>\n",
       "      <td>security</td>\n",
       "      <td>{'vpn'}</td>\n",
       "    </tr>\n",
       "    <tr>\n",
       "      <th>3</th>\n",
       "      <td>1</td>\n",
       "      <td>interesting virtualbox handles case</td>\n",
       "      <td>case</td>\n",
       "      <td>case</td>\n",
       "      <td>case</td>\n",
       "      <td>case</td>\n",
       "      <td>No Match Found</td>\n",
       "      <td>{'virtualbox'}</td>\n",
       "    </tr>\n",
       "    <tr>\n",
       "      <th>4</th>\n",
       "      <td>1</td>\n",
       "      <td>companies building adopting internal developer...</td>\n",
       "      <td>tech companies</td>\n",
       "      <td>tech companies</td>\n",
       "      <td>working</td>\n",
       "      <td>working</td>\n",
       "      <td>No Match Found</td>\n",
       "      <td>{'puppet'}</td>\n",
       "    </tr>\n",
       "    <tr>\n",
       "      <th>...</th>\n",
       "      <td>...</td>\n",
       "      <td>...</td>\n",
       "      <td>...</td>\n",
       "      <td>...</td>\n",
       "      <td>...</td>\n",
       "      <td>...</td>\n",
       "      <td>...</td>\n",
       "      <td>...</td>\n",
       "    </tr>\n",
       "    <tr>\n",
       "      <th>43776</th>\n",
       "      <td>1</td>\n",
       "      <td>connection vm host network configured vlan pre...</td>\n",
       "      <td>4 4</td>\n",
       "      <td>network</td>\n",
       "      <td>network</td>\n",
       "      <td>network</td>\n",
       "      <td>network</td>\n",
       "      <td>{'vlan'}</td>\n",
       "    </tr>\n",
       "    <tr>\n",
       "      <th>43777</th>\n",
       "      <td>1</td>\n",
       "      <td>compare python</td>\n",
       "      <td>No Match Found</td>\n",
       "      <td>No Match Found</td>\n",
       "      <td>No Match Found</td>\n",
       "      <td>No Match Found</td>\n",
       "      <td>No Match Found</td>\n",
       "      <td>{'python'}</td>\n",
       "    </tr>\n",
       "    <tr>\n",
       "      <th>43778</th>\n",
       "      <td>1</td>\n",
       "      <td>summarisation excludes 10 7 24 list routes 10 ...</td>\n",
       "      <td>entry level</td>\n",
       "      <td>entry level</td>\n",
       "      <td>entry level</td>\n",
       "      <td>entry level</td>\n",
       "      <td>entry level</td>\n",
       "      <td>{'list'}</td>\n",
       "    </tr>\n",
       "    <tr>\n",
       "      <th>43779</th>\n",
       "      <td>1</td>\n",
       "      <td>admittedly havent looked havent bottomed docke...</td>\n",
       "      <td>No Match Found</td>\n",
       "      <td>No Match Found</td>\n",
       "      <td>No Match Found</td>\n",
       "      <td>No Match Found</td>\n",
       "      <td>No Match Found</td>\n",
       "      <td>{'docker'}</td>\n",
       "    </tr>\n",
       "    <tr>\n",
       "      <th>43780</th>\n",
       "      <td>1</td>\n",
       "      <td>5 dhcp relay cluster synced appropriately conf...</td>\n",
       "      <td>5</td>\n",
       "      <td>5</td>\n",
       "      <td>5</td>\n",
       "      <td>5</td>\n",
       "      <td>No Match Found</td>\n",
       "      <td>{'dhcp'}</td>\n",
       "    </tr>\n",
       "  </tbody>\n",
       "</table>\n",
       "<p>43781 rows × 8 columns</p>\n",
       "</div>"
      ],
      "text/plain": [
       "       counts                                            comment  \\\n",
       "0           1  undergraduate cybersec train included required...   \n",
       "1           1  meaningful add assuming snmp write access enab...   \n",
       "2           1  l2tp ipsec primally vpn gateway unifi security...   \n",
       "3           1                interesting virtualbox handles case   \n",
       "4           1  companies building adopting internal developer...   \n",
       "...       ...                                                ...   \n",
       "43776       1  connection vm host network configured vlan pre...   \n",
       "43777       1                                     compare python   \n",
       "43778       1  summarisation excludes 10 7 24 list routes 10 ...   \n",
       "43779       1  admittedly havent looked havent bottomed docke...   \n",
       "43780       1  5 dhcp relay cluster synced appropriately conf...   \n",
       "\n",
       "            reduced_500     reduced_200     reduced_150     reduced_100  \\\n",
       "0                 write  No Match Found  No Match Found  No Match Found   \n",
       "1        solve problems          access          access  No Match Found   \n",
       "2      network security        security        security        security   \n",
       "3                  case            case            case            case   \n",
       "4        tech companies  tech companies         working         working   \n",
       "...                 ...             ...             ...             ...   \n",
       "43776               4 4         network         network         network   \n",
       "43777    No Match Found  No Match Found  No Match Found  No Match Found   \n",
       "43778       entry level     entry level     entry level     entry level   \n",
       "43779    No Match Found  No Match Found  No Match Found  No Match Found   \n",
       "43780                 5               5               5               5   \n",
       "\n",
       "           reduced_50   comment_terms  \n",
       "0      No Match Found        {'list'}  \n",
       "1      No Match Found      {'access'}  \n",
       "2            security         {'vpn'}  \n",
       "3      No Match Found  {'virtualbox'}  \n",
       "4      No Match Found      {'puppet'}  \n",
       "...               ...             ...  \n",
       "43776         network        {'vlan'}  \n",
       "43777  No Match Found      {'python'}  \n",
       "43778     entry level        {'list'}  \n",
       "43779  No Match Found      {'docker'}  \n",
       "43780  No Match Found        {'dhcp'}  \n",
       "\n",
       "[43781 rows x 8 columns]"
      ]
     },
     "execution_count": 26,
     "metadata": {},
     "output_type": "execute_result"
    }
   ],
   "source": [
    "comments_w_terms"
   ]
  },
  {
   "cell_type": "code",
   "execution_count": 13,
   "metadata": {},
   "outputs": [],
   "source": [
    "data = pd.read_csv(f'{DATA_DIR}/clean_data_{RUN_DATE}.csv')"
   ]
  },
  {
   "cell_type": "code",
   "execution_count": 14,
   "metadata": {},
   "outputs": [
    {
     "data": {
      "text/html": [
       "<div>\n",
       "<style scoped>\n",
       "    .dataframe tbody tr th:only-of-type {\n",
       "        vertical-align: middle;\n",
       "    }\n",
       "\n",
       "    .dataframe tbody tr th {\n",
       "        vertical-align: top;\n",
       "    }\n",
       "\n",
       "    .dataframe thead th {\n",
       "        text-align: right;\n",
       "    }\n",
       "</style>\n",
       "<table border=\"1\" class=\"dataframe\">\n",
       "  <thead>\n",
       "    <tr style=\"text-align: right;\">\n",
       "      <th></th>\n",
       "      <th>comment</th>\n",
       "      <th>title</th>\n",
       "    </tr>\n",
       "  </thead>\n",
       "  <tbody>\n",
       "    <tr>\n",
       "      <th>0</th>\n",
       "      <td>reason place build logic plugin</td>\n",
       "      <td>building jenkins pipeline</td>\n",
       "    </tr>\n",
       "    <tr>\n",
       "      <th>1</th>\n",
       "      <td>thread cloud prem infra responding context</td>\n",
       "      <td>devops platform eng</td>\n",
       "    </tr>\n",
       "    <tr>\n",
       "      <th>2</th>\n",
       "      <td>technologyconversations podcast episodes techn...</td>\n",
       "      <td>podcasts</td>\n",
       "    </tr>\n",
       "    <tr>\n",
       "      <th>3</th>\n",
       "      <td>ecosystem evolved greatly jenkins hayday chang...</td>\n",
       "      <td>building jenkins pipeline</td>\n",
       "    </tr>\n",
       "    <tr>\n",
       "      <th>4</th>\n",
       "      <td>enjoy learning techs teaching developer advoca...</td>\n",
       "      <td>industries life devops</td>\n",
       "    </tr>\n",
       "    <tr>\n",
       "      <th>...</th>\n",
       "      <td>...</td>\n",
       "      <td>...</td>\n",
       "    </tr>\n",
       "    <tr>\n",
       "      <th>212024</th>\n",
       "      <td>free simple</td>\n",
       "      <td>executives pay salary reach 24 7</td>\n",
       "    </tr>\n",
       "    <tr>\n",
       "      <th>212025</th>\n",
       "      <td>control electronics</td>\n",
       "      <td>vw audi cut german output semiconductor shortage</td>\n",
       "    </tr>\n",
       "    <tr>\n",
       "      <th>212026</th>\n",
       "      <td>easier terminate boss bad connection 72 bad</td>\n",
       "      <td>patch panel cost disparity</td>\n",
       "    </tr>\n",
       "    <tr>\n",
       "      <th>212027</th>\n",
       "      <td>moving parts seize cold long term storage tape...</td>\n",
       "      <td>nand companies making slc mlc</td>\n",
       "    </tr>\n",
       "    <tr>\n",
       "      <th>212028</th>\n",
       "      <td>s6 s7 launched phone update defaulted 1080 ann...</td>\n",
       "      <td>anandtech samsung announces galaxy s21 s21 s21...</td>\n",
       "    </tr>\n",
       "  </tbody>\n",
       "</table>\n",
       "<p>212029 rows × 2 columns</p>\n",
       "</div>"
      ],
      "text/plain": [
       "                                                  comment  \\\n",
       "0                         reason place build logic plugin   \n",
       "1              thread cloud prem infra responding context   \n",
       "2       technologyconversations podcast episodes techn...   \n",
       "3       ecosystem evolved greatly jenkins hayday chang...   \n",
       "4       enjoy learning techs teaching developer advoca...   \n",
       "...                                                   ...   \n",
       "212024                                        free simple   \n",
       "212025                                control electronics   \n",
       "212026        easier terminate boss bad connection 72 bad   \n",
       "212027  moving parts seize cold long term storage tape...   \n",
       "212028  s6 s7 launched phone update defaulted 1080 ann...   \n",
       "\n",
       "                                                    title  \n",
       "0                               building jenkins pipeline  \n",
       "1                                     devops platform eng  \n",
       "2                                                podcasts  \n",
       "3                               building jenkins pipeline  \n",
       "4                                  industries life devops  \n",
       "...                                                   ...  \n",
       "212024                   executives pay salary reach 24 7  \n",
       "212025   vw audi cut german output semiconductor shortage  \n",
       "212026                         patch panel cost disparity  \n",
       "212027                      nand companies making slc mlc  \n",
       "212028  anandtech samsung announces galaxy s21 s21 s21...  \n",
       "\n",
       "[212029 rows x 2 columns]"
      ]
     },
     "execution_count": 14,
     "metadata": {},
     "output_type": "execute_result"
    }
   ],
   "source": [
    "data"
   ]
  },
  {
   "cell_type": "code",
   "execution_count": 15,
   "metadata": {},
   "outputs": [],
   "source": [
    "cmnt_title_ngrams = pd.read_csv(f'{DATA_DIR}/cmnt_title_ngrams.csv')"
   ]
  },
  {
   "cell_type": "code",
   "execution_count": 16,
   "metadata": {},
   "outputs": [
    {
     "data": {
      "text/html": [
       "<div>\n",
       "<style scoped>\n",
       "    .dataframe tbody tr th:only-of-type {\n",
       "        vertical-align: middle;\n",
       "    }\n",
       "\n",
       "    .dataframe tbody tr th {\n",
       "        vertical-align: top;\n",
       "    }\n",
       "\n",
       "    .dataframe thead th {\n",
       "        text-align: right;\n",
       "    }\n",
       "</style>\n",
       "<table border=\"1\" class=\"dataframe\">\n",
       "  <thead>\n",
       "    <tr style=\"text-align: right;\">\n",
       "      <th></th>\n",
       "      <th>ngram</th>\n",
       "      <th>counts</th>\n",
       "      <th>multiplier</th>\n",
       "      <th>n</th>\n",
       "    </tr>\n",
       "  </thead>\n",
       "  <tbody>\n",
       "    <tr>\n",
       "      <th>0</th>\n",
       "      <td>wikipedia org wiki</td>\n",
       "      <td>637</td>\n",
       "      <td>599.508675</td>\n",
       "      <td>3</td>\n",
       "    </tr>\n",
       "    <tr>\n",
       "      <th>1</th>\n",
       "      <td>open source</td>\n",
       "      <td>795</td>\n",
       "      <td>557.274270</td>\n",
       "      <td>2</td>\n",
       "    </tr>\n",
       "    <tr>\n",
       "      <th>2</th>\n",
       "      <td>org wiki</td>\n",
       "      <td>656</td>\n",
       "      <td>459.838894</td>\n",
       "      <td>2</td>\n",
       "    </tr>\n",
       "    <tr>\n",
       "      <th>3</th>\n",
       "      <td>wikipedia org</td>\n",
       "      <td>638</td>\n",
       "      <td>447.221364</td>\n",
       "      <td>2</td>\n",
       "    </tr>\n",
       "    <tr>\n",
       "      <th>4</th>\n",
       "      <td>ray tracing</td>\n",
       "      <td>584</td>\n",
       "      <td>409.368772</td>\n",
       "      <td>2</td>\n",
       "    </tr>\n",
       "  </tbody>\n",
       "</table>\n",
       "</div>"
      ],
      "text/plain": [
       "                ngram  counts  multiplier  n\n",
       "0  wikipedia org wiki     637  599.508675  3\n",
       "1         open source     795  557.274270  2\n",
       "2            org wiki     656  459.838894  2\n",
       "3       wikipedia org     638  447.221364  2\n",
       "4         ray tracing     584  409.368772  2"
      ]
     },
     "execution_count": 16,
     "metadata": {},
     "output_type": "execute_result"
    }
   ],
   "source": [
    "cmnt_title_ngrams.head()"
   ]
  },
  {
   "cell_type": "markdown",
   "metadata": {
    "tags": []
   },
   "source": [
    "### 2. Preparing data for vectorization"
   ]
  },
  {
   "cell_type": "code",
   "execution_count": 17,
   "metadata": {},
   "outputs": [],
   "source": [
    "gist_file = open(f'{DATA_DIR}/gist_stopwords.txt', 'r')\n",
    "try:\n",
    "    content = gist_file.read()\n",
    "    stopwords = content.split(\",\")\n",
    "finally:\n",
    "    gist_file.close()"
   ]
  },
  {
   "cell_type": "code",
   "execution_count": 18,
   "metadata": {},
   "outputs": [],
   "source": [
    "stop_words = list(set(text.ENGLISH_STOP_WORDS.union([\n",
    "    'abov', 'afterward', 'alon', 'alreadi', 'alway', \n",
    "    'ani', 'anoth', 'anyon', 'anyth', 'anywher', 'becam',\n",
    "    'becaus', 'becom', 'befor', 'besid', 'cri', 'describ', \n",
    "    'dure', 'els', 'elsewher', 'empti', 'everi', 'everyon', \n",
    "    'everyth', 'everywher', 'fifti', 'forti', 'henc', 'hereaft', \n",
    "    'herebi', 'howev', 'hundr', 'inde', 'mani', 'meanwhil', 'moreov', \n",
    "    'nobodi', 'noon', 'noth', 'nowher', 'onc', 'onli', 'otherwis', \n",
    "    'ourselv', 'perhap', 'pleas', 'sever', 'sinc', 'sincer', 'sixti', \n",
    "    'someon', 'someth', 'sometim', 'somewher', 'themselv', 'thenc', \n",
    "    'thereaft', 'therebi', 'therefor', 'togeth', 'twelv', 'twenti', 'veri', 'whatev', 'whenc',\n",
    "    'whenev', 'wherea', 'whereaft', 'wherebi', 'wherev', 'whi', 'yourselv',\n",
    "    'anywh', 'el', 'elsewh', 'everywh', 'ind', 'otherwi', 'plea', 'somewh',\n",
    "    'lol', 'nice', 'yeah', 'cool', 'dont', 'ill', 'wow', 'people', \n",
    "    'time',  'good', '0','1', '2', '3', 'isnt', 'things', 'thing', \n",
    "    'lot', 'doesnt', 'ive', 'work', 'hahahahaha', 'hahahaha', 'years', \n",
    "    '', 'true', '_', '_ _', '_ _ _', 'awesome', 'shit', 'guy', 'itll',\n",
    "    'they\\'ll',' theyve', 'https', 'pretty', 'didnt', 'abl', 'accord', \n",
    "    'actual', 'affect', 'announc', 'anybodi', 'anymor', 'appar', \n",
    "    'appreci', 'appropri', 'approxim', 'aris', 'articl', 'asid',\n",
    "    'associ', 'avail', 'awesom', 'believ', 'briefli', 'caus', 'chang', \n",
    "    'clear', 'concern', 'consequ', 'consid', 'correspond', 'cours', \n",
    "    'current', 'definit', 'despit', 'differ', 'doe', 'downward', \n",
    "    'eighti', 'entir', 'especi', 'everybodi', 'exact', 'exampl', \n",
    "    'fifi', 'follow', 'furthermor', 'goe', 'greet', 'happen', \n",
    "    'hard', 'hope', \"i'v\", 'ignor', 'immedi', 'import', 'indic', \n",
    "    'inform', 'invent', 'larg', 'late', 'littl', 'main', 'mayb', \n",
    "    'meantim', 'mere', 'necessari', 'necessarili', 'nineti', 'normal', \n",
    "    'note', 'obvious', 'omit', 'outsid', 'overal', 'owe', 'peopl', \n",
    "    'place', 'poor', 'possibl', 'potenti', 'predomin', 'presum', \n",
    "    'pretti', 'previous', 'primarili', 'probabl', 'prompt', 'provid', \n",
    "    'quick', 'quit', 'readili', 'realli', 'reason', 'regard', 'relat', \n",
    "    'respect', 'result', 'selv', 'sensibl', \"should'v\", 'signific',\n",
    "    'slight', 'somebodi', 'sorri', 'specif', 'specifi', 'strong',\n",
    "    'substanti', 'success', 'suffici', 'tend', \"that'v\", \"there'l\",\n",
    "    \"there'v\", 'therer', \"they'r\", \"they'v\", 'theyr', 'theyv', 'tri', \n",
    "    'truli', 'unfortun', 'unlik', 'usual', 'valu', 'volumtyp', \"we'r\",\n",
    "    \"we'v\", 'welcom', 'whomev', 'wide', 'word', 'year', \"you'r\", \"you'v\",\n",
    "    'ari', 'cour', 'signif', 'youll', 'youv', 'point', 'stuff']\n",
    "    ).union(stopwords)))"
   ]
  },
  {
   "cell_type": "code",
   "execution_count": 19,
   "metadata": {},
   "outputs": [
    {
     "data": {
      "text/plain": [
       "1414"
      ]
     },
     "execution_count": 19,
     "metadata": {},
     "output_type": "execute_result"
    }
   ],
   "source": [
    "len(stop_words)"
   ]
  },
  {
   "cell_type": "markdown",
   "metadata": {},
   "source": [
    "#### TF-IDF"
   ]
  },
  {
   "cell_type": "code",
   "execution_count": 20,
   "metadata": {},
   "outputs": [],
   "source": [
    "vectorizer = TfidfVectorizer(stop_words=stop_words)"
   ]
  },
  {
   "cell_type": "code",
   "execution_count": 21,
   "metadata": {},
   "outputs": [
    {
     "name": "stderr",
     "output_type": "stream",
     "text": [
      "/Users/rsawhney/.pyenv/versions/3.8.0/lib/python3.8/site-packages/sklearn/feature_extraction/text.py:383: UserWarning: Your stop_words may be inconsistent with your preprocessing. Tokenizing the stop words generated tokens ['mon', 'theyve'] not in stop_words.\n",
      "  warnings.warn('Your stop_words may be inconsistent with '\n"
     ]
    }
   ],
   "source": [
    "X = vectorizer.fit_transform(data.comment)"
   ]
  },
  {
   "cell_type": "code",
   "execution_count": 22,
   "metadata": {},
   "outputs": [
    {
     "name": "stdout",
     "output_type": "stream",
     "text": [
      "120015\n",
      "['catshit', 'catskills', 'cattiness', 'catting', 'cattle', 'cattools', 'catty', 'catv', 'catx', 'caubuchon', 'caucasian', 'caucasoid', 'cauchy', 'caucus', 'caueses', 'caugh', 'caught', 'caugth', 'causaimpact', 'causal', 'causal_product', 'causalimpact', 'causalities', 'causality', 'causally', 'causalml', 'causation', 'causative', 'caused', 'causeistoleyouroauth', 'causes_of_soft_errors', 'causesd', 'causing', 'caustic', 'caustics', 'cauterization', 'caution', 'cautionary', 'cautioning', 'cautions', 'cautious', 'cautiously', 'cavaets', 'cavalier', 'cavalierly', 'cave', 'caveat', 'caveats', 'caved', 'caveman', 'cavemen', 'caveofprogramming', 'caves', 'caviar', 'caviats', 'caving', 'cavity', 'cavium', 'caviums', 'cawcaw', 'cayenne', 'cayennes', 'cayman', 'caymans', 'caz', 'cazmob', 'cazzo', 'cb', 'cb15', 'cb20', 'cb2077', 'cb23', 'cb280hk', 'cb59tzf', 'cb77', 'cb_integration', 'cb_offset_t', 'cba', 'cba850', 'cba850s', 'cbackup', 'cbam', 'cbb', 'cbc', 'cbd', 'cbd4b502', 'cbdcs', 'cbegin', 'cbes', 'cbf', 'cbinsights', 'cbk', 'cblp', 'cbmm', 'cbnz', 'cboe', 'cbool', 'cbor', 'cbors', 'cbp']\n"
     ]
    }
   ],
   "source": [
    "word_features = vectorizer.get_feature_names()\n",
    "print(len(word_features))\n",
    "print(word_features[30000:30100])"
   ]
  },
  {
   "cell_type": "markdown",
   "metadata": {},
   "source": [
    "#### Stemming and tokenizing"
   ]
  },
  {
   "cell_type": "code",
   "execution_count": 27,
   "metadata": {},
   "outputs": [],
   "source": [
    "stemmer = SnowballStemmer('english')\n",
    "tokenizer = RegexpTokenizer(r'[a-zA-Z\\']+')\n",
    "\n",
    "def tokenize(text):\n",
    "    return [stemmer.stem(word) for word in tokenizer.tokenize(text.lower())]"
   ]
  },
  {
   "cell_type": "code",
   "execution_count": 28,
   "metadata": {},
   "outputs": [],
   "source": [
    "vectorizer2 = TfidfVectorizer(stop_words=stop_words, tokenizer=tokenize)\n",
    "X2 = vectorizer2.fit_transform(data.comment)\n",
    "word_features2 = vectorizer2.get_feature_names()"
   ]
  },
  {
   "cell_type": "code",
   "execution_count": 29,
   "metadata": {},
   "outputs": [
    {
     "name": "stdout",
     "output_type": "stream",
     "text": [
      "68316\n",
      "['aa', 'aaa', 'aaaa', 'aaaaa', 'aaaaaa', 'aaaaaaa', 'aaaaaaaaaaaa', 'aaaaaaaaaaaaaaaaaaaaaa', 'aaaaaaaaaaaaaaaaaaaaaaaaa', 'aaaaaaaaaaaaaaaaaaaaaaaaaaaaaaaa', 'aaaaaaaaaahhhhh', 'aaaaaaaaaak', 'aaaaaaaaaec', 'aaaaaaaaah', 'aaaaaaaaau', 'aaaaaaaabo', 'aaaaaaaaejo', 'aaaaaaaaekq', 'aaaaaaah', 'aaaaaah', 'aaaaaall', 'aaaaaand', 'aaaaaarrrrrrrggggggghhhhhh', 'aaaaah', 'aaaaahhhhh', 'aaaaand', 'aaaaangri', 'aaaaannnndd', 'aaaaarrrrggh', 'aaaaaw', 'aaaah', 'aaaahhh', 'aaaai', 'aaaand', 'aaaannnnndddd', 'aaaap', 'aaabag', 'aaabbbccc', 'aaabccbbaaabbb', 'aaabcq', 'aaaf', 'aaah', 'aaahhhmmm', 'aaai', 'aaand', 'aaannd', 'aaargh', 'aaaurrghhh', 'aab', 'aaba']\n"
     ]
    }
   ],
   "source": [
    "print(len(word_features2))\n",
    "print(word_features2[:50]) "
   ]
  },
  {
   "cell_type": "code",
   "execution_count": 37,
   "metadata": {},
   "outputs": [
    {
     "name": "stdout",
     "output_type": "stream",
     "text": [
      "5000\n",
      "['aa', 'aaa', 'aad', 'abandon', 'abbrevi', 'abil', 'absolut', 'absorb', 'abstract', 'absurd', 'abus', 'academ', 'academi', 'academia', 'acceler', 'accept', 'access', 'accid', 'accident', 'accommod', 'accomplish', 'account', 'accumul', 'accur', 'accuraci', 'accus', 'acer', 'achiev', 'acid', 'ack', 'acknowledg', 'acl', 'acm', 'acquir', 'acquisit', 'acronym', 'action', 'activ', 'activist', 'actor', 'ada', 'adam', 'adapt', 'add', 'addit', 'addon', 'address', 'adequ', 'adf', 'adher']\n"
     ]
    }
   ],
   "source": [
    "# vectorizer3 = TfidfVectorizer(stop_words = stop_words,\n",
    "#                               tokenizer = tokenize,\n",
    "#                               max_features = 5000)\n",
    "# X = vectorizer3.fit_transform(data.comment) # clean preprocessed comments\n",
    "# words = vectorizer3.get_feature_names()\n",
    "\n",
    "# print(len(words))\n",
    "# print(words[:50]) "
   ]
  },
  {
   "cell_type": "code",
   "execution_count": 36,
   "metadata": {},
   "outputs": [
    {
     "name": "stdout",
     "output_type": "stream",
     "text": [
      "3000\n",
      "['aa', 'aaa', 'abandon', 'abil', 'absolut', 'abstract', 'absurd', 'abus', 'academ', 'academia', 'acceler', 'accept', 'access', 'accid', 'accident', 'accomplish', 'account', 'accur', 'accuraci', 'accus', 'achiev', 'acknowledg', 'acl', 'acquir', 'acquisit', 'action', 'activ', 'actor', 'adapt', 'add', 'addit', 'address', 'adequ', 'adjust', 'admin', 'administr', 'admit', 'adob', 'adopt', 'adult', 'advanc', 'advantag', 'adversari', 'advertis', 'advic', 'advis', 'advisor', 'advoc', 'afaik', 'afford']\n"
     ]
    }
   ],
   "source": [
    "# vectorizer3 = TfidfVectorizer(stop_words = stop_words,\n",
    "#                               tokenizer = tokenize,\n",
    "#                               max_features = 3000)\n",
    "# X = vectorizer3.fit_transform(data.comment) # clean preprocessed comments\n",
    "# words = vectorizer3.get_feature_names()\n",
    "\n",
    "# print(len(words))\n",
    "# print(words[:50]) "
   ]
  },
  {
   "cell_type": "code",
   "execution_count": 40,
   "metadata": {},
   "outputs": [
    {
     "name": "stdout",
     "output_type": "stream",
     "text": [
      "2000\n",
      "['aaa', 'abil', 'absolut', 'abstract', 'abus', 'academ', 'acceler', 'accept', 'access', 'accident', 'accomplish', 'account', 'accur', 'accuraci', 'achiev', 'acknowledg', 'acl', 'acquir', 'action', 'activ', 'actor', 'adapt', 'add', 'addit', 'address', 'adjust', 'admin', 'administr', 'admit', 'adob', 'adopt', 'advanc', 'advantag', 'advertis', 'advic', 'advis', 'advoc', 'afaik', 'afford', 'afraid', 'age', 'agenc', 'agent', 'aggreg', 'aggress', 'ago', 'agre', 'agreement', 'ahead', 'ai']\n"
     ]
    }
   ],
   "source": [
    "vectorizer3 = TfidfVectorizer(stop_words = stop_words,\n",
    "                              tokenizer = tokenize,\n",
    "                              max_features = 2000)\n",
    "X = vectorizer3.fit_transform(data.comment) # clean preprocessed comments\n",
    "words = vectorizer3.get_feature_names()\n",
    "\n",
    "print(len(words))\n",
    "print(words[:50]) "
   ]
  },
  {
   "cell_type": "code",
   "execution_count": 39,
   "metadata": {},
   "outputs": [
    {
     "name": "stdout",
     "output_type": "stream",
     "text": [
      "1000\n",
      "['abil', 'absolut', 'abstract', 'accept', 'access', 'account', 'accur', 'achiev', 'action', 'activ', 'adapt', 'add', 'addit', 'address', 'admin', 'administr', 'advanc', 'advantag', 'advertis', 'advic', 'afford', 'age', 'ago', 'agre', 'ahead', 'ai', 'air', 'alert', 'algorithm', 'altern', 'amaz', 'amazon', 'amd', 'analysi', 'android', 'annoy', 'ansibl', 'answer', 'api', 'app', 'appl', 'appli', 'applic', 'approach', 'approv', 'architectur', 'area', 'argu', 'argument', 'arm']\n"
     ]
    }
   ],
   "source": [
    "# vectorizer3 = TfidfVectorizer(stop_words = stop_words,\n",
    "#                               tokenizer = tokenize,\n",
    "#                               max_features = 1000)\n",
    "# X = vectorizer3.fit_transform(data.comment) # clean preprocessed comments\n",
    "# words = vectorizer3.get_feature_names()\n",
    "\n",
    "# print(len(words))\n",
    "# print(words[:50]) "
   ]
  },
  {
   "cell_type": "markdown",
   "metadata": {},
   "source": [
    "### 3. K-means clustering"
   ]
  },
  {
   "cell_type": "markdown",
   "metadata": {},
   "source": [
    "#### Elbow method\n",
    "\n",
    "This method looks at the percentage of variance as a function of number of clusters: One should choose a number of clusters so that adding clusters doesn't give much better modeling of the data. \n",
    "More precisely, if one plots the percentage of variance explained by the clusters against the number of clusters, the first few clusters will contribute, but eventually the margianl gain will drop, giving an angle (an elbow) in the graph.\n",
    "\n",
    "Basically,\n",
    "__#clusters = the x-axis value of the point that makes the corner of the \"elbow\"__\n"
   ]
  },
  {
   "cell_type": "markdown",
   "metadata": {},
   "source": [
    "#### Kmeans on clean comments"
   ]
  },
  {
   "cell_type": "code",
   "execution_count": 57,
   "metadata": {},
   "outputs": [
    {
     "data": {
      "image/png": "[encoded data removed]",
      "text/plain": [
       "<Figure size 432x288 with 1 Axes>"
      ]
     },
     "metadata": {
      "needs_background": "light"
     },
     "output_type": "display_data"
    }
   ],
   "source": [
    "wcss = [] # Within Cluster Sum of Squares - sum of sq distances\n",
    "K = range(2, 12)\n",
    "\n",
    "for k in K:\n",
    "    kmeans = KMeans(n_clusters=k, init='k-means++', \n",
    "                    max_iter=300, n_init=10, random_state=0)\n",
    "    kmeans.fit(X3)\n",
    "    wcss.append(kmeans.inertia_)\n",
    "\n",
    "plt.plot(K, wcss, 'o')\n",
    "plt.title('Elbow method for optimal clusters')\n",
    "plt.xlabel('k [no. of clusters]')\n",
    "plt.ylabel('Within cluster sum of squares')\n",
    "plt.show()"
   ]
  },
  {
   "cell_type": "markdown",
   "metadata": {},
   "source": [
    "We see a distict bend (elbow) at k=10"
   ]
  },
  {
   "cell_type": "code",
   "execution_count": 59,
   "metadata": {},
   "outputs": [
    {
     "name": "stdout",
     "output_type": "stream",
     "text": [
      "['dhcp', 'die', 'differ', 'difficult', 'direct', 'disabl', 'disagre', 'discuss', 'disk', 'display', 'distribut', 'dlss', 'dns', 'doc', 'docker', 'document', 'dollar', 'domain', 'doubl', 'doubt', 'download', 'draw', 'drive', 'driver', 'drop', 'dumb', 'dynam', 'e', 'earli', 'easi', 'easier', 'easili', 'edg', 'edit', 'educ', 'effect', 'effici', 'effort', 'email', 'employ', 'employe', 'enabl', 'encrypt', 'end', 'engin', 'enjoy', 'ensur', 'enterpris', 'entir', 'entri']\n"
     ]
    }
   ],
   "source": [
    "print(words[250:300])"
   ]
  },
  {
   "cell_type": "code",
   "execution_count": 60,
   "metadata": {},
   "outputs": [
    {
     "data": {
      "text/plain": [
       "KMeans(n_clusters=10, random_state=0)"
      ]
     },
     "execution_count": 60,
     "metadata": {},
     "output_type": "execute_result"
    }
   ],
   "source": [
    "true_k = 10\n",
    "model = KMeans(n_clusters=true_k, \n",
    "               init='k-means++',\n",
    "               max_iter=300,\n",
    "               random_state=0)\n",
    "\n",
    "model.fit(X3)\n"
   ]
  },
  {
   "cell_type": "code",
   "execution_count": 61,
   "metadata": {},
   "outputs": [
    {
     "name": "stdout",
     "output_type": "stream",
     "text": [
      "0 : googl, paper, search, timnit, email, compani, ai, review, ethic, servic, twitter, work, point, issu, cloud, product, employe, answer, map, intern, read, research, process, support, facebook\n",
      "1 : compani, job, manag, pay, experi, hire, team, tech, person, engin, product, start, learn, money, employe, posit, day, role, work, level, interview, busi, big, great, problem\n",
      "2 : card, nvidia, price, amd, buy, perform, review, gpu, launch, product, xt, gpus, sell, market, msrp, stock, rtx, seri, dlss, ti, suppli, point, hardwar, driver, graphic\n",
      "3 : secur, password, cyber, manag, user, account, attack, network, access, chang, job, email, cert, start, compani, experi, devic, requir, polici, set, hack, softwar, learn, certif, issu\n",
      "4 : server, network, window, connect, devic, linux, instal, access, client, set, user, manag, dns, updat, host, run, file, switch, firewal, issu, vlan, configur, traffic, machin, support\n",
      "5 : x, appl, core, power, intel, m, chip, perform, nm, cpu, arm, amd, w, zen, b, cpus, gpu, laptop, mac, design, compar, memori, singl, processor, die\n",
      "6 : code, point, problem, issu, read, languag, data, learn, manag, user, day, support, start, case, set, great, check, test, program, product, question, chang, person, bad, reason\n",
      "7 : game, play, consol, fps, perform, p, ps, dlss, k, develop, gpu, card, hardwar, set, ray, trace, high, buy, resolut, graphic, video, support, xbox, releas, engin\n",
      "8 : work, fine, compani, great, team, code, day, start, project, issu, problem, manag, place, hour, stuff, understand, softwar, person, product, user, job, develop, learn, chang, long\n",
      "9 : post, comment, reddit, read, repli, link, thread, delet, code, blog, k, edit, point, messag, question, bot, np, articl, day, discuss, wrong, feel, user, twitter, understand\n"
     ]
    }
   ],
   "source": [
    "common_words = model.cluster_centers_.argsort()[:, -1:-26:-1]\n",
    "for num, centroid in enumerate(common_words):\n",
    "    print(str(num) + ' : ' + ', '.join(words[word] for word in centroid))"
   ]
  },
  {
   "cell_type": "markdown",
   "metadata": {},
   "source": [
    "### Kmeans on ngrams (comment + post title)"
   ]
  },
  {
   "cell_type": "code",
   "execution_count": 41,
   "metadata": {},
   "outputs": [],
   "source": [
    "# remove NaNs\n",
    "cmnt_title_ngrams.dropna(axis=0, inplace=True)"
   ]
  },
  {
   "cell_type": "code",
   "execution_count": 42,
   "metadata": {},
   "outputs": [
    {
     "data": {
      "text/plain": [
       "5428597"
      ]
     },
     "execution_count": 42,
     "metadata": {},
     "output_type": "execute_result"
    }
   ],
   "source": [
    "len(cmnt_title_ngrams.ngram)"
   ]
  },
  {
   "cell_type": "markdown",
   "metadata": {},
   "source": [
    "Extracting features from the training dataset"
   ]
  },
  {
   "cell_type": "code",
   "execution_count": 47,
   "metadata": {},
   "outputs": [
    {
     "name": "stdout",
     "output_type": "stream",
     "text": [
      "3000\n",
      "['aa', 'aaa', 'abandon', 'abil', 'absolut', 'abstract', 'absurd', 'abus', 'academ', 'academia', 'acceler', 'accept', 'access', 'accid', 'accident', 'accomplish', 'account', 'accur', 'accuraci', 'accus', 'achiev', 'acknowledg', 'acl', 'acquir', 'acquisit', 'action', 'activ', 'actor', 'adapt', 'add', 'addit', 'address', 'adequ', 'adjust', 'admin', 'administr', 'admit', 'adob', 'adopt', 'adult', 'advanc', 'advantag', 'adversari', 'advertis', 'advic', 'advis', 'advisor', 'advoc', 'afaik', 'afford']\n"
     ]
    }
   ],
   "source": [
    "ngram_vectorizer = TfidfVectorizer(stop_words = stop_words,\n",
    "                                   tokenizer = tokenize,\n",
    "                                   max_features = 3000)\n",
    "\n",
    "X_ngram = ngram_vectorizer.fit_transform(cmnt_title_ngrams.ngram)\n",
    "\n",
    "words = ngram_vectorizer.get_feature_names()\n",
    "print(len(words))\n",
    "print(words[:50]) "
   ]
  },
  {
   "cell_type": "code",
   "execution_count": 48,
   "metadata": {},
   "outputs": [
    {
     "name": "stdout",
     "output_type": "stream",
     "text": [
      "n_samples: 5428597, n_features: 3000\n"
     ]
    }
   ],
   "source": [
    "print(\"n_samples: %d, n_features: %d\" % X_ngram.shape)"
   ]
  },
  {
   "cell_type": "markdown",
   "metadata": {},
   "source": [
    "Performing dimensionality reduction using LSA"
   ]
  },
  {
   "cell_type": "code",
   "execution_count": 69,
   "metadata": {},
   "outputs": [
    {
     "name": "stdout",
     "output_type": "stream",
     "text": [
      "done in 394.063323s\n",
      "Explained variance of the SVD step: 14%\n"
     ]
    }
   ],
   "source": [
    "# t0 = time()\n",
    "# svd = TruncatedSVD(100)\n",
    "# normalizer = Normalizer(copy=False)\n",
    "# lsa = make_pipeline(svd, normalizer)\n",
    "\n",
    "# X = lsa.fit_transform(X_ngram)\n",
    "\n",
    "# print(\"done in %fs\" % (time() - t0))\n",
    "\n",
    "# explained_variance = svd.explained_variance_ratio_.sum()\n",
    "# print(\"Explained variance of the SVD step: {}%\".format(\n",
    "#         int(explained_variance * 100)))"
   ]
  },
  {
   "cell_type": "code",
   "execution_count": 31,
   "metadata": {},
   "outputs": [],
   "source": [
    "# wcss = [] # Within Cluster Sum of Squares - sum of sq distances\n",
    "# K = range(2, 12)\n",
    "\n",
    "# for k in K:\n",
    "#     kmeans = KMeans(n_clusters=k, init='k-means++', \n",
    "#                     max_iter=300, n_init=10)\n",
    "#     kmeans.fit(X_ngram)\n",
    "#     wcss.append(kmeans.inertia_)\n",
    "\n",
    "# plt.plot(K, wcss)\n",
    "# plt.title('Elbow method for optimal clusters')\n",
    "# plt.xlabel('k [no. of clusters]')\n",
    "# plt.ylabel('Within cluster sum of squares')\n",
    "# plt.show()"
   ]
  },
  {
   "cell_type": "code",
   "execution_count": 53,
   "metadata": {},
   "outputs": [
    {
     "name": "stdout",
     "output_type": "stream",
     "text": [
      "done in 5.001s\n"
     ]
    }
   ],
   "source": [
    "true_k = 10\n",
    "model = MiniBatchKMeans(n_clusters=true_k, \n",
    "                        init='k-means++', \n",
    "                        batch_size=500,\n",
    "                        n_init=10)\n",
    "\n",
    "t0 = time()\n",
    "model.fit(X_ngram)\n",
    "print(\"done in %0.3fs\" % (time() - t0))"
   ]
  },
  {
   "cell_type": "code",
   "execution_count": 54,
   "metadata": {},
   "outputs": [
    {
     "data": {
      "text/plain": [
       "3000"
      ]
     },
     "execution_count": 54,
     "metadata": {},
     "output_type": "execute_result"
    }
   ],
   "source": [
    "terms = ngram_vectorizer.get_feature_names()\n",
    "len(terms)"
   ]
  },
  {
   "cell_type": "code",
   "execution_count": 55,
   "metadata": {},
   "outputs": [
    {
     "name": "stdout",
     "output_type": "stream",
     "text": [
      "Cluster 0: period approach basic split laptop flagship fell flash flat flaw fewer fetch femal felt fellow feet fibr feel feedback feed fee feder fed featur feasibl fiber field flag fine fit\n",
      "\n",
      "\n",
      "Cluster 1: mind memori busi team manufactur kotlin workplac state comput design test issu hell member speed pick client instal offer great long person file firm felt fellow firewal fell feet firmwar\n",
      "\n",
      "\n",
      "Cluster 2: mit grant assum standard case databas persist issu felt fight field fibr fiber fewer fetch femal feet fellow fell feel feedback feed fee feder fed featur figur zoom file firefox\n",
      "\n",
      "\n",
      "Cluster 3: compani code manag server data issu network perform user problem game learn support product set job day secur person test develop softwar read comput understand requir review core base googl\n",
      "\n",
      "\n",
      "Cluster 4: elev intern safeti news guarante net singl general fight field fibr fiber fewer fetch femal felt expos fellow figur feet feel feedback feed fee feder fed featur fell file fear\n",
      "\n",
      "\n",
      "Cluster 5: extra die skill updat check servic reliabl happi custom app feedback femal fibr fiber fewer fetch featur fed felt feed fellow feder fell feet field fee feel zoom fight finish\n",
      "\n",
      "\n",
      "Cluster 6: polic meant risk start passion finish demand insult balanc essenti menu shortcut bug desktop fee felt fiber feasibl fewer fetch femal featur fellow fell feet feel fed feed feder feedback\n",
      "\n",
      "\n",
      "Cluster 7: file updat youtu busi gap america studi corpor compet straight ghz sale form sync entri boost collect told express digit samsung stream massiv piec vega water ton complain face china\n",
      "\n",
      "\n",
      "Cluster 8: start case basic team cover popular app general reduc forget bound intent life win compon electron man gebru lawyer counter rocket comparison beauti delet concept news cybersecur slot failur prevent\n",
      "\n",
      "\n",
      "Cluster 9: healthcar target area talk fellow fight field fibr fiber fewer fetch femal felt zoom fell file feet feel feedback feed fee feder fed featur figur film filesystem fear flexibl flaw\n",
      "\n",
      "\n"
     ]
    }
   ],
   "source": [
    "for k in range(true_k):\n",
    "    print(\"Cluster %d:\" % k, end='')\n",
    "    for i in model.cluster_centers_.argsort()[:, ::-1][k, :30]:\n",
    "        print(' %s' % terms[i], end='')\n",
    "    print('\\n\\n')"
   ]
  },
  {
   "cell_type": "code",
   "execution_count": 57,
   "metadata": {},
   "outputs": [
    {
     "name": "stdout",
     "output_type": "stream",
     "text": [
      "3000\n",
      "['bad', 'bag', 'bake', 'balanc', 'ball', 'ban', 'band', 'bandwidth', 'bang', 'bank', 'banner', 'bar', 'bare', 'barrier', 'base', 'baselin', 'bash', 'basi', 'basic', 'batch', 'batteri', 'battl', 'bay', 'bb', 'bear', 'beast', 'beat', 'beauti', 'bed', 'beginn', 'behav', 'behavior', 'behaviour', 'belief', 'bell', 'belong', 'bench', 'benchmark', 'benefici', 'benefit', 'bert', 'bet', 'beta', 'bgp', 'bias', 'bid', 'big', 'bigger', 'biggest', 'billion', 'bin', 'binari', 'bind', 'bio', 'biolog', 'bit', 'bitch', 'bite', 'bitlock', 'black', 'blacklist', 'blah', 'blame', 'blank', 'bleed', 'blind', 'bloat', 'blob', 'block', 'blog', 'blow', 'blue', 'bluetooth', 'board', 'boat', 'bob', 'bodi', 'boil', 'bond', 'bonus', 'book', 'boost', 'boot', 'bootcamp', 'bore', 'born', 'boss', 'bot', 'bother', 'bottleneck', 'bought', 'bounc', 'bound', 'boundari', 'box', 'boy', 'brain', 'branch', 'brand', 'breach']\n"
     ]
    }
   ],
   "source": [
    "print(len(terms))\n",
    "print(terms[200:300])"
   ]
  },
  {
   "cell_type": "markdown",
   "metadata": {},
   "source": [
    "#### Save model"
   ]
  },
  {
   "cell_type": "code",
   "execution_count": 60,
   "metadata": {},
   "outputs": [],
   "source": [
    "pickle.dump(model, open(f'{MODEL_DIR}/kmean_ngram.pkl', 'wb'))"
   ]
  },
  {
   "cell_type": "markdown",
   "metadata": {},
   "source": [
    "## Kmeans on clean comments and titles that have it-trends-terms in them"
   ]
  },
  {
   "cell_type": "code",
   "execution_count": 58,
   "metadata": {},
   "outputs": [
    {
     "data": {
      "text/html": [
       "<div>\n",
       "<style scoped>\n",
       "    .dataframe tbody tr th:only-of-type {\n",
       "        vertical-align: middle;\n",
       "    }\n",
       "\n",
       "    .dataframe tbody tr th {\n",
       "        vertical-align: top;\n",
       "    }\n",
       "\n",
       "    .dataframe thead th {\n",
       "        text-align: right;\n",
       "    }\n",
       "</style>\n",
       "<table border=\"1\" class=\"dataframe\">\n",
       "  <thead>\n",
       "    <tr style=\"text-align: right;\">\n",
       "      <th></th>\n",
       "      <th>counts</th>\n",
       "      <th>comment</th>\n",
       "      <th>reduced_500</th>\n",
       "      <th>reduced_200</th>\n",
       "      <th>reduced_150</th>\n",
       "      <th>reduced_100</th>\n",
       "      <th>reduced_50</th>\n",
       "      <th>comment_terms</th>\n",
       "    </tr>\n",
       "  </thead>\n",
       "  <tbody>\n",
       "    <tr>\n",
       "      <th>0</th>\n",
       "      <td>1</td>\n",
       "      <td>undergraduate cybersec train included required...</td>\n",
       "      <td>write</td>\n",
       "      <td>No Match Found</td>\n",
       "      <td>No Match Found</td>\n",
       "      <td>No Match Found</td>\n",
       "      <td>No Match Found</td>\n",
       "      <td>{'list'}</td>\n",
       "    </tr>\n",
       "    <tr>\n",
       "      <th>1</th>\n",
       "      <td>1</td>\n",
       "      <td>meaningful add assuming snmp write access enab...</td>\n",
       "      <td>solve problems</td>\n",
       "      <td>access</td>\n",
       "      <td>access</td>\n",
       "      <td>No Match Found</td>\n",
       "      <td>No Match Found</td>\n",
       "      <td>{'access'}</td>\n",
       "    </tr>\n",
       "    <tr>\n",
       "      <th>2</th>\n",
       "      <td>1</td>\n",
       "      <td>l2tp ipsec primally vpn gateway unifi security...</td>\n",
       "      <td>network security</td>\n",
       "      <td>security</td>\n",
       "      <td>security</td>\n",
       "      <td>security</td>\n",
       "      <td>security</td>\n",
       "      <td>{'vpn'}</td>\n",
       "    </tr>\n",
       "    <tr>\n",
       "      <th>3</th>\n",
       "      <td>1</td>\n",
       "      <td>interesting virtualbox handles case</td>\n",
       "      <td>case</td>\n",
       "      <td>case</td>\n",
       "      <td>case</td>\n",
       "      <td>case</td>\n",
       "      <td>No Match Found</td>\n",
       "      <td>{'virtualbox'}</td>\n",
       "    </tr>\n",
       "    <tr>\n",
       "      <th>4</th>\n",
       "      <td>1</td>\n",
       "      <td>companies building adopting internal developer...</td>\n",
       "      <td>tech companies</td>\n",
       "      <td>tech companies</td>\n",
       "      <td>working</td>\n",
       "      <td>working</td>\n",
       "      <td>No Match Found</td>\n",
       "      <td>{'puppet'}</td>\n",
       "    </tr>\n",
       "  </tbody>\n",
       "</table>\n",
       "</div>"
      ],
      "text/plain": [
       "   counts                                            comment  \\\n",
       "0       1  undergraduate cybersec train included required...   \n",
       "1       1  meaningful add assuming snmp write access enab...   \n",
       "2       1  l2tp ipsec primally vpn gateway unifi security...   \n",
       "3       1                interesting virtualbox handles case   \n",
       "4       1  companies building adopting internal developer...   \n",
       "\n",
       "        reduced_500     reduced_200     reduced_150     reduced_100  \\\n",
       "0             write  No Match Found  No Match Found  No Match Found   \n",
       "1    solve problems          access          access  No Match Found   \n",
       "2  network security        security        security        security   \n",
       "3              case            case            case            case   \n",
       "4    tech companies  tech companies         working         working   \n",
       "\n",
       "       reduced_50   comment_terms  \n",
       "0  No Match Found        {'list'}  \n",
       "1  No Match Found      {'access'}  \n",
       "2        security         {'vpn'}  \n",
       "3  No Match Found  {'virtualbox'}  \n",
       "4  No Match Found      {'puppet'}  "
      ]
     },
     "execution_count": 58,
     "metadata": {},
     "output_type": "execute_result"
    }
   ],
   "source": [
    "comments_w_terms.head()"
   ]
  },
  {
   "cell_type": "code",
   "execution_count": 61,
   "metadata": {},
   "outputs": [
    {
     "data": {
      "text/plain": [
       "43781"
      ]
     },
     "execution_count": 61,
     "metadata": {},
     "output_type": "execute_result"
    }
   ],
   "source": [
    "len(comments_w_terms.comment)"
   ]
  },
  {
   "cell_type": "code",
   "execution_count": 59,
   "metadata": {},
   "outputs": [
    {
     "data": {
      "text/html": [
       "<div>\n",
       "<style scoped>\n",
       "    .dataframe tbody tr th:only-of-type {\n",
       "        vertical-align: middle;\n",
       "    }\n",
       "\n",
       "    .dataframe tbody tr th {\n",
       "        vertical-align: top;\n",
       "    }\n",
       "\n",
       "    .dataframe thead th {\n",
       "        text-align: right;\n",
       "    }\n",
       "</style>\n",
       "<table border=\"1\" class=\"dataframe\">\n",
       "  <thead>\n",
       "    <tr style=\"text-align: right;\">\n",
       "      <th></th>\n",
       "      <th>counts</th>\n",
       "      <th>title</th>\n",
       "      <th>reduced_500</th>\n",
       "      <th>reduced_200</th>\n",
       "      <th>reduced_150</th>\n",
       "      <th>reduced_100</th>\n",
       "      <th>reduced_50</th>\n",
       "      <th>title_terms</th>\n",
       "    </tr>\n",
       "  </thead>\n",
       "  <tbody>\n",
       "    <tr>\n",
       "      <th>0</th>\n",
       "      <td>552</td>\n",
       "      <td>thread product manager google google cloud pla...</td>\n",
       "      <td>google</td>\n",
       "      <td>google</td>\n",
       "      <td>google</td>\n",
       "      <td>google</td>\n",
       "      <td>No Match Found</td>\n",
       "      <td>{'aws'}</td>\n",
       "    </tr>\n",
       "    <tr>\n",
       "      <th>1</th>\n",
       "      <td>504</td>\n",
       "      <td>ruby released</td>\n",
       "      <td>No Match Found</td>\n",
       "      <td>No Match Found</td>\n",
       "      <td>No Match Found</td>\n",
       "      <td>No Match Found</td>\n",
       "      <td>No Match Found</td>\n",
       "      <td>{'ruby'}</td>\n",
       "    </tr>\n",
       "    <tr>\n",
       "      <th>2</th>\n",
       "      <td>481</td>\n",
       "      <td>git 15 created svn created 5 git cvs 15 svn</td>\n",
       "      <td>5</td>\n",
       "      <td>5</td>\n",
       "      <td>5</td>\n",
       "      <td>5</td>\n",
       "      <td>No Match Found</td>\n",
       "      <td>{'git'}</td>\n",
       "    </tr>\n",
       "    <tr>\n",
       "      <th>3</th>\n",
       "      <td>400</td>\n",
       "      <td>nissan source code leaked online git repo misc...</td>\n",
       "      <td>source code</td>\n",
       "      <td>source code</td>\n",
       "      <td>source code</td>\n",
       "      <td>source code</td>\n",
       "      <td>source code</td>\n",
       "      <td>{'git'}</td>\n",
       "    </tr>\n",
       "    <tr>\n",
       "      <th>4</th>\n",
       "      <td>381</td>\n",
       "      <td>cookie github blog</td>\n",
       "      <td>github</td>\n",
       "      <td>No Match Found</td>\n",
       "      <td>No Match Found</td>\n",
       "      <td>No Match Found</td>\n",
       "      <td>No Match Found</td>\n",
       "      <td>{'github'}</td>\n",
       "    </tr>\n",
       "  </tbody>\n",
       "</table>\n",
       "</div>"
      ],
      "text/plain": [
       "   counts                                              title     reduced_500  \\\n",
       "0     552  thread product manager google google cloud pla...          google   \n",
       "1     504                                      ruby released  No Match Found   \n",
       "2     481        git 15 created svn created 5 git cvs 15 svn               5   \n",
       "3     400  nissan source code leaked online git repo misc...     source code   \n",
       "4     381                                 cookie github blog          github   \n",
       "\n",
       "      reduced_200     reduced_150     reduced_100      reduced_50 title_terms  \n",
       "0          google          google          google  No Match Found     {'aws'}  \n",
       "1  No Match Found  No Match Found  No Match Found  No Match Found    {'ruby'}  \n",
       "2               5               5               5  No Match Found     {'git'}  \n",
       "3     source code     source code     source code     source code     {'git'}  \n",
       "4  No Match Found  No Match Found  No Match Found  No Match Found  {'github'}  "
      ]
     },
     "execution_count": 59,
     "metadata": {},
     "output_type": "execute_result"
    }
   ],
   "source": [
    "titles_w_terms.head()"
   ]
  },
  {
   "cell_type": "code",
   "execution_count": 63,
   "metadata": {},
   "outputs": [
    {
     "data": {
      "text/plain": [
       "2814"
      ]
     },
     "execution_count": 63,
     "metadata": {},
     "output_type": "execute_result"
    }
   ],
   "source": [
    "len(titles_w_terms.title)"
   ]
  },
  {
   "cell_type": "code",
   "execution_count": 64,
   "metadata": {},
   "outputs": [],
   "source": [
    "cmnt_title_w_terms = list(comments_w_terms.comment) + list(titles_w_terms.title)"
   ]
  },
  {
   "cell_type": "code",
   "execution_count": 65,
   "metadata": {},
   "outputs": [
    {
     "data": {
      "text/plain": [
       "46595"
      ]
     },
     "execution_count": 65,
     "metadata": {},
     "output_type": "execute_result"
    }
   ],
   "source": [
    "len(cmnt_title_w_terms)"
   ]
  },
  {
   "cell_type": "code",
   "execution_count": 66,
   "metadata": {},
   "outputs": [
    {
     "name": "stdout",
     "output_type": "stream",
     "text": [
      "3000\n",
      "['aa', 'aaa', 'abandon', 'abil', 'absolut', 'abstract', 'absurd', 'abus', 'academ', 'academia', 'acceler', 'accept', 'access', 'accid', 'accident', 'accomplish', 'account', 'accur', 'accuraci', 'accus', 'achiev', 'acknowledg', 'acl', 'acquir', 'acquisit', 'action', 'activ', 'actor', 'adapt', 'add', 'addit', 'address', 'adequ', 'adjust', 'admin', 'administr', 'admit', 'adob', 'adopt', 'adult', 'advanc', 'advantag', 'adversari', 'advertis', 'advic', 'advis', 'advisor', 'advoc', 'afaik', 'afford']\n"
     ]
    }
   ],
   "source": [
    "data_w_terms_vectorizer = TfidfVectorizer(stop_words = stop_words,\n",
    "                                          tokenizer = tokenize,\n",
    "                                          max_features = 3000)\n",
    "\n",
    "X_terms = data_w_terms_vectorizer.fit_transform(cmnt_title_w_terms)\n",
    "\n",
    "term = data_w_terms_vectorizer.get_feature_names()\n",
    "print(len(terms))\n",
    "print(terms[:50]) "
   ]
  },
  {
   "cell_type": "code",
   "execution_count": 67,
   "metadata": {},
   "outputs": [
    {
     "name": "stdout",
     "output_type": "stream",
     "text": [
      "done in 0.330s\n"
     ]
    }
   ],
   "source": [
    "true_k = 10\n",
    "model = MiniBatchKMeans(n_clusters=true_k, \n",
    "                        init='k-means++', \n",
    "                        batch_size=500,\n",
    "                        n_init=10)\n",
    "\n",
    "t0 = time()\n",
    "model.fit(X_terms)\n",
    "print(\"done in %0.3fs\" % (time() - t0))"
   ]
  },
  {
   "cell_type": "code",
   "execution_count": 68,
   "metadata": {},
   "outputs": [
    {
     "name": "stdout",
     "output_type": "stream",
     "text": [
      "Cluster 0: sequenti distinct design dkim hide cissp civil width address neat maintain serial rebas server conclud split iot comptia access automat fear linux background fellow infinit provis warranti legitim chapter suffer\n",
      "\n",
      "\n",
      "Cluster 1: gear lightweight gdpr histor chipset distract iot cleaner tire runtim prohibit organis automat ipv suffer layout fear angular irc cat rate stack object chapter gebru hybrid gpo lie purpos pro\n",
      "\n",
      "\n",
      "Cluster 2: access fraction colleg analysi antivirus apach smtp deriv produc curv suffer maintain guidanc phish ghost frequenc pro perfect server serial bullshit convinc cleaner complain depth tensorflow constant postgr iot capabl\n",
      "\n",
      "\n",
      "Cluster 3: neat secondari fellow asus access deriv colleg layout ise maintain stack rotat mailbox cross snapshot conclud town chipset civil smtp emot curv categori udp target caught bash iot complain lecun\n",
      "\n",
      "\n",
      "Cluster 4: width lift sequenti univers infinit lowest low doubl deni metal suffer fear iot smtp arguabl maintain vault lag upgrad server complain bond frequenc antivirus apach luck privileg xe power virus\n",
      "\n",
      "\n",
      "Cluster 5: voic upgrad patch access accomplish conclud editor admin cissp automat secondari simul listen dkim server deriv maintain rememb troubl serial linux iot elev neat sequenti fear literatur attract complain gpus\n",
      "\n",
      "\n",
      "Cluster 6: virtual surfac popul insist fellow rosetta chipset neat deriv rotat comptia tricki town syntax access design conclud server maintain struggl phish dec sequenti address frontend larger low uniqu compromis iot\n",
      "\n",
      "\n",
      "Cluster 7: pure lack cleaner tune profit layout runtim worth ipv routin irc legal commit fraction depth photo prohibit tire rate lecun pro worthwhil udp tunnel stack enthusiast ice bash drink suffer\n",
      "\n",
      "\n",
      "Cluster 8: scratch curv power fear base worth audio tire pure sharepoint cleaner countri tensorflow codebas server angular maintain upgrad lowest stack tactic fine hybrid sequenti english deleg pro ise infinit chapter\n",
      "\n",
      "\n",
      "Cluster 9: metal distinguish men width target automat ghost produc remedi colleg offer notifi recommend photo remark univers suffer gear iot smtp legitim apach cleaner sequenti nativ dunno struct antivirus compens stack\n",
      "\n",
      "\n"
     ]
    }
   ],
   "source": [
    "for k in range(true_k):\n",
    "    print(\"Cluster %d:\" % k, end='')\n",
    "    for i in model.cluster_centers_.argsort()[:, ::-1][k, :30]:\n",
    "        print(' %s' % terms[i], end='')\n",
    "    print('\\n\\n')"
   ]
  },
  {
   "cell_type": "markdown",
   "metadata": {},
   "source": [
    "### Save model"
   ]
  },
  {
   "cell_type": "code",
   "execution_count": 69,
   "metadata": {},
   "outputs": [],
   "source": [
    "pickle.dump(model, open(f'{MODEL_DIR}/kmean_terms.pkl', 'wb'))"
   ]
  },
  {
   "cell_type": "code",
   "execution_count": null,
   "metadata": {},
   "outputs": [],
   "source": []
  }
 ],
 "metadata": {
  "kernelspec": {
   "display_name": "Python 3.8.0 64-bit ('3.8.0': pyenv)",
   "language": "python",
   "name": "python38064bit380pyenveef7d5a615c845119a299c3dc621f66c"
  },
  "language_info": {
   "codemirror_mode": {
    "name": "ipython",
    "version": 3
   },
   "file_extension": ".py",
   "mimetype": "text/x-python",
   "name": "python",
   "nbconvert_exporter": "python",
   "pygments_lexer": "ipython3",
   "version": "3.8.0"
  }
 },
 "nbformat": 4,
 "nbformat_minor": 4
}
